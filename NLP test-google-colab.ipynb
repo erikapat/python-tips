{
 "cells": [
  {
   "cell_type": "markdown",
   "metadata": {
    "colab_type": "text",
    "id": "DdFCxglQ59sy"
   },
   "source": [
    "# **NLP EXAMPLE WITH GOOGLE-COLAB**\n",
    "\n",
    "The\n",
    "dataset that will be analyse contains 65K news headlines obtained from HuffPost. Each article is categorized,\n",
    "and a short description is included along with a link to the original text. \n",
    "The objective is to develop a classification model to\n",
    "predict the category of similar news articles. "
   ]
  },
  {
   "cell_type": "markdown",
   "metadata": {
    "colab_type": "text",
    "id": "msRc4gydFI--"
   },
   "source": [
    "### **Tips for Collaborate**\n",
    "\n",
    "https://medium.com/lean-in-women-in-tech-india/google-colab-the-beginners-guide-5ad3b417dfa\n",
    "\n",
    "https://research.google.com/colaboratory/local-runtimes.html\n",
    "\n",
    "### **Conda magic**\n",
    "https://ipython.readthedocs.io/en/stable/interactive/magics.html\n"
   ]
  },
  {
   "cell_type": "markdown",
   "metadata": {
    "colab_type": "text",
    "id": "0youg8DlQ518"
   },
   "source": [
    "### **See available packages**"
   ]
  },
  {
   "cell_type": "code",
   "execution_count": null,
   "metadata": {
    "colab": {
     "base_uri": "https://localhost:8080/",
     "height": 1000
    },
    "colab_type": "code",
    "executionInfo": {
     "elapsed": 1398,
     "status": "ok",
     "timestamp": 1568813987615,
     "user": {
      "displayName": "Erika Gomes",
      "photoUrl": "https://lh3.googleusercontent.com/a-/AAuE7mCqQWI-dokGT09QnMktcoN5x4lZ12ITJjy7aAJfAls=s64",
      "userId": "04485634194964420384"
     },
     "user_tz": -120
    },
    "id": "lqfSC_jrQ6Tw",
    "outputId": "9b6f5f3b-611e-47e6-ba0c-957f2f22a24c"
   },
   "outputs": [
    {
     "name": "stdout",
     "output_type": "stream",
     "text": [
      "absl-py==0.8.0\n",
      "alabaster==0.7.12\n",
      "albumentations==0.1.12\n",
      "altair==3.2.0\n",
      "astor==0.8.0\n",
      "astropy==3.0.5\n",
      "atari-py==0.1.15\n",
      "atomicwrites==1.3.0\n",
      "attrs==19.1.0\n",
      "audioread==2.1.8\n",
      "autograd==1.3\n",
      "Babel==2.7.0\n",
      "backcall==0.1.0\n",
      "backports.tempfile==1.0\n",
      "backports.weakref==1.0.post1\n",
      "beautifulsoup4==4.6.3\n",
      "bert-tensorflow==1.0.1\n",
      "bleach==3.1.0\n",
      "blis==0.2.4\n",
      "bokeh==1.0.4\n",
      "boto==2.49.0\n",
      "boto3==1.9.224\n",
      "botocore==1.12.224\n",
      "Bottleneck==1.2.1\n",
      "branca==0.3.1\n",
      "bs4==0.0.1\n",
      "bz2file==0.98\n",
      "cachetools==3.1.1\n",
      "certifi==2019.6.16\n",
      "cffi==1.12.3\n",
      "chainer==5.4.0\n",
      "chardet==3.0.4\n",
      "Click==7.0\n",
      "cloudpickle==0.6.1\n",
      "cmake==3.12.0\n",
      "community==1.0.0b1\n",
      "contextlib2==0.5.5\n",
      "convertdate==2.1.3\n",
      "coverage==3.7.1\n",
      "coveralls==0.5\n",
      "crcmod==1.7\n",
      "cvxopt==1.2.3\n",
      "cvxpy==1.0.25\n",
      "cycler==0.10.0\n",
      "cymem==2.0.2\n",
      "Cython==0.29.13\n",
      "daft==0.0.4\n",
      "dask==1.1.5\n",
      "dataclasses==0.6\n",
      "datascience==0.10.6\n",
      "decorator==4.4.0\n",
      "defusedxml==0.6.0\n",
      "descartes==1.1.0\n",
      "dill==0.3.0\n",
      "distributed==1.25.3\n",
      "Django==2.2.5\n",
      "dlib==19.16.0\n",
      "dm-sonnet==1.35\n",
      "docopt==0.6.2\n",
      "docutils==0.15.2\n",
      "dopamine-rl==1.0.5\n",
      "easydict==1.9\n",
      "ecos==2.0.7.post1\n",
      "editdistance==0.5.3\n",
      "en-core-web-sm==2.1.0\n",
      "entrypoints==0.3\n",
      "ephem==3.7.7.0\n",
      "et-xmlfile==1.0.1\n",
      "fa2==0.3.5\n",
      "fancyimpute==0.4.3\n",
      "fastai==1.0.57\n",
      "fastcache==1.1.0\n",
      "fastdtw==0.3.2\n",
      "fastprogress==0.1.21\n",
      "fastrlock==0.4\n",
      "fbprophet==0.5\n",
      "feather-format==0.4.0\n",
      "featuretools==0.4.1\n",
      "filelock==3.0.12\n",
      "fix-yahoo-finance==0.0.22\n",
      "Flask==1.1.1\n",
      "folium==0.8.3\n",
      "freeze==1.0.10\n",
      "fsspec==0.4.4\n",
      "future==0.16.0\n",
      "gast==0.2.2\n",
      "GDAL==2.2.2\n",
      "gdown==3.6.4\n",
      "gensim==3.6.0\n",
      "geographiclib==1.49\n",
      "geopy==1.17.0\n",
      "gevent==1.4.0\n",
      "gin-config==0.2.1\n",
      "glob2==0.7\n",
      "google==2.0.2\n",
      "google-api-core==1.14.2\n",
      "google-api-python-client==1.7.11\n",
      "google-auth==1.4.2\n",
      "google-auth-httplib2==0.0.3\n",
      "google-auth-oauthlib==0.4.0\n",
      "google-cloud-bigquery==1.14.0\n",
      "google-cloud-core==1.0.3\n",
      "google-cloud-datastore==1.8.0\n",
      "google-cloud-language==1.2.0\n",
      "google-cloud-storage==1.16.1\n",
      "google-cloud-translate==1.5.0\n",
      "google-colab==1.0.0\n",
      "google-pasta==0.1.7\n",
      "google-resumable-media==0.4.0\n",
      "googleapis-common-protos==1.6.0\n",
      "googledrivedownloader==0.4\n",
      "graph-nets==1.0.4\n",
      "graphviz==0.10.1\n",
      "greenlet==0.4.15\n",
      "grpcio==1.15.0\n",
      "gspread==3.0.1\n",
      "gspread-dataframe==3.0.3\n",
      "gunicorn==19.9.0\n",
      "gym==0.10.11\n",
      "h5py==2.8.0\n",
      "HeapDict==1.0.0\n",
      "holidays==0.9.11\n",
      "html5lib==1.0.1\n",
      "httpimport==0.5.16\n",
      "httplib2==0.11.3\n",
      "humanize==0.5.1\n",
      "hyperopt==0.1.2\n",
      "ideep4py==2.0.0.post3\n",
      "idna==2.8\n",
      "image==1.5.27\n",
      "imageio==2.4.1\n",
      "imagesize==1.1.0\n",
      "imbalanced-learn==0.4.3\n",
      "imblearn==0.0\n",
      "imgaug==0.2.9\n",
      "importlib-metadata==0.23\n",
      "imutils==0.5.3\n",
      "inflect==2.1.0\n",
      "intel-openmp==2019.0\n",
      "intervaltree==2.1.0\n",
      "ipykernel==4.6.1\n",
      "ipython==5.5.0\n",
      "ipython-genutils==0.2.0\n",
      "ipython-sql==0.3.9\n",
      "ipywidgets==7.5.1\n",
      "itsdangerous==1.1.0\n",
      "jax==0.1.44\n",
      "jaxlib==0.1.26\n",
      "jdcal==1.4.1\n",
      "jedi==0.15.1\n",
      "jieba==0.39\n",
      "Jinja2==2.10.1\n",
      "jmespath==0.9.4\n",
      "joblib==0.13.2\n",
      "jpeg4py==0.1.4\n",
      "jsonschema==2.6.0\n",
      "jupyter==1.0.0\n",
      "jupyter-client==5.3.1\n",
      "jupyter-console==5.2.0\n",
      "jupyter-core==4.5.0\n",
      "kaggle==1.5.5\n",
      "kapre==0.1.3.1\n",
      "Keras==2.2.5\n",
      "Keras-Applications==1.0.8\n",
      "Keras-Preprocessing==1.1.0\n",
      "keras-vis==0.4.1\n",
      "kiwisolver==1.1.0\n",
      "knnimpute==0.1.0\n",
      "librosa==0.6.3\n",
      "lightgbm==2.2.3\n",
      "llvmlite==0.29.0\n",
      "lmdb==0.97\n",
      "lucid==0.3.8\n",
      "lunardate==0.2.0\n",
      "lxml==4.2.6\n",
      "magenta==0.3.19\n",
      "Markdown==3.1.1\n",
      "MarkupSafe==1.1.1\n",
      "matplotlib==3.0.3\n",
      "matplotlib-venn==0.11.5\n",
      "mesh-tensorflow==0.0.5\n",
      "mido==1.2.6\n",
      "mir-eval==0.5\n",
      "missingno==0.4.2\n",
      "mistune==0.8.4\n",
      "mizani==0.5.4\n",
      "mkl==2019.0\n",
      "mlxtend==0.14.0\n",
      "more-itertools==7.2.0\n",
      "moviepy==0.2.3.5\n",
      "mpi4py==3.0.2\n",
      "mpmath==1.1.0\n",
      "msgpack==0.5.6\n",
      "multiprocess==0.70.8\n",
      "multitasking==0.0.9\n",
      "murmurhash==1.0.2\n",
      "music21==5.5.0\n",
      "natsort==5.5.0\n",
      "nbconvert==5.6.0\n",
      "nbformat==4.4.0\n",
      "networkx==2.3\n",
      "nibabel==2.3.3\n",
      "nltk==3.2.5\n",
      "notebook==5.2.2\n",
      "np-utils==0.5.11.1\n",
      "numba==0.40.1\n",
      "numexpr==2.7.0\n",
      "numpy==1.17.2\n",
      "nvidia-ml-py3==7.352.0\n",
      "oauth2client==4.1.3\n",
      "oauthlib==3.1.0\n",
      "okgrade==0.4.3\n",
      "olefile==0.46\n",
      "opencv-contrib-python==3.4.3.18\n",
      "opencv-python==3.4.5.20\n",
      "openpyxl==2.5.9\n",
      "opt-einsum==3.0.1\n",
      "osqp==0.6.1\n",
      "packaging==19.1\n",
      "palettable==3.2.0\n",
      "pandas==0.24.2\n",
      "pandas-datareader==0.7.4\n",
      "pandas-gbq==0.4.1\n",
      "pandas-profiling==1.4.1\n",
      "pandocfilters==1.4.2\n",
      "parso==0.5.1\n",
      "pathlib==1.0.1\n",
      "patsy==0.5.1\n",
      "pexpect==4.7.0\n",
      "pickleshare==0.7.5\n",
      "Pillow==4.3.0\n",
      "pip==19.2.3\n",
      "pip-tools==3.9.0\n",
      "plac==0.9.6\n",
      "plotly==4.1.1\n",
      "plotnine==0.5.1\n",
      "pluggy==0.7.1\n",
      "portpicker==1.2.0\n",
      "prefetch-generator==1.0.1\n",
      "preshed==2.0.1\n",
      "pretty-midi==0.2.8\n",
      "prettytable==0.7.2\n",
      "progressbar2==3.38.0\n",
      "prometheus-client==0.7.1\n",
      "promise==2.2.1\n",
      "prompt-toolkit==1.0.16\n",
      "protobuf==3.7.1\n",
      "psutil==5.4.8\n",
      "psycopg2==2.7.6.1\n",
      "ptyprocess==0.6.0\n",
      "py==1.8.0\n",
      "pyarrow==0.14.1\n",
      "pyasn1==0.4.7\n",
      "pyasn1-modules==0.2.6\n",
      "pycocotools==2.0.0\n",
      "pycparser==2.19\n",
      "pydot==1.3.0\n",
      "pydot-ng==2.0.0\n",
      "pydotplus==2.0.2\n",
      "PyDrive==1.3.1\n",
      "pyemd==0.5.1\n",
      "pyglet==1.4.3\n",
      "Pygments==2.1.3\n",
      "pygobject==3.26.1\n",
      "pymc3==3.7\n",
      "pymongo==3.9.0\n",
      "pymystem3==0.2.0\n",
      "PyOpenGL==3.1.0\n",
      "pyparsing==2.4.2\n",
      "pyrsistent==0.15.4\n",
      "pysndfile==1.3.7\n",
      "PySocks==1.7.0\n",
      "pystan==2.19.0.0\n",
      "pytest==3.6.4\n",
      "python-apt==1.6.4\n",
      "python-chess==0.23.11\n",
      "python-dateutil==2.5.3\n",
      "python-louvain==0.13\n",
      "python-rtmidi==1.3.0\n",
      "python-slugify==3.0.3\n",
      "python-utils==2.3.0\n",
      "pytz==2018.9\n",
      "PyWavelets==1.0.3\n",
      "PyYAML==3.13\n",
      "pyzmq==17.0.0\n",
      "qtconsole==4.5.5\n",
      "requests==2.21.0\n",
      "requests-oauthlib==1.2.0\n",
      "resampy==0.2.2\n",
      "retrying==1.3.3\n",
      "rpy2==2.9.5\n",
      "rsa==4.0\n",
      "s3fs==0.3.4\n",
      "s3transfer==0.2.1\n",
      "scikit-image==0.15.0\n",
      "scikit-learn==0.21.3\n",
      "scipy==1.3.1\n",
      "screen-resolution-extra==0.0.0\n",
      "scs==2.1.1.post2\n",
      "seaborn==0.9.0\n",
      "semantic-version==2.8.2\n",
      "Send2Trash==1.5.0\n",
      "setuptools==41.2.0\n",
      "setuptools-git==1.2\n",
      "Shapely==1.6.4.post2\n",
      "simplegeneric==0.8.1\n",
      "six==1.12.0\n",
      "sklearn==0.0\n",
      "sklearn-pandas==1.8.0\n",
      "smart-open==1.8.4\n",
      "snowballstemmer==1.9.1\n",
      "sortedcontainers==2.1.0\n",
      "spacy==2.1.8\n",
      "Sphinx==1.8.5\n",
      "sphinxcontrib-websupport==1.1.2\n",
      "SQLAlchemy==1.3.8\n",
      "sqlparse==0.3.0\n",
      "srsly==0.1.0\n",
      "stable-baselines==2.2.1\n",
      "statsmodels==0.10.1\n",
      "sympy==1.1.1\n",
      "tables==3.4.4\n",
      "tabulate==0.8.3\n",
      "tblib==1.4.0\n",
      "tensor2tensor==1.11.0\n",
      "tensorboard==1.14.0\n",
      "tensorboardcolab==0.0.22\n",
      "tensorflow==1.12.0\n",
      "tensorflow-estimator==1.14.0\n",
      "tensorflow-gpu==1.14.0\n",
      "tensorflow-hub==0.6.0\n",
      "tensorflow-metadata==0.14.0\n",
      "tensorflow-probability==0.7.0\n",
      "termcolor==1.1.0\n",
      "terminado==0.8.2\n",
      "testpath==0.4.2\n",
      "text-unidecode==1.2\n",
      "textblob==0.15.3\n",
      "textgenrnn==1.4.1\n",
      "tfds-nightly==1.2.0.dev201909050105\n",
      "tflearn==0.3.2\n",
      "Theano==1.0.4\n",
      "thinc==7.0.8\n",
      "toolz==0.10.0\n",
      "torch==1.1.0\n",
      "torchsummary==1.5.1\n",
      "torchtext==0.3.1\n",
      "torchvision==0.3.0\n",
      "tornado==4.5.3\n",
      "tqdm==4.28.1\n",
      "traitlets==4.3.2\n",
      "tweepy==3.6.0\n",
      "typing==3.7.4.1\n",
      "tzlocal==1.5.1\n",
      "umap-learn==0.3.10\n",
      "uritemplate==3.0.0\n",
      "urllib3==1.24.3\n",
      "vega-datasets==0.7.0\n",
      "wasabi==0.2.2\n",
      "wcwidth==0.1.7\n",
      "webencodings==0.5.1\n",
      "Werkzeug==0.15.6\n",
      "wheel==0.33.6\n",
      "widgetsnbextension==3.5.1\n",
      "wordcloud==1.5.0\n",
      "wrapt==1.11.2\n",
      "xarray==0.11.3\n",
      "xgboost==0.90\n",
      "xkit==0.0.0\n",
      "xlrd==1.1.0\n",
      "xlwt==1.3.0\n",
      "yellowbrick==0.9.1\n",
      "zict==1.0.0\n",
      "zipp==0.6.0\n",
      "zmq==0.0.0\n"
     ]
    }
   ],
   "source": [
    "## see all the installed packages\n",
    "#!python -m pip install freeze\n",
    "#import freeze\n",
    "#from pip._internal.operations.freeze import freeze\n",
    "#for requirement in freeze(local_only=True):\n",
    "#    print(requirement)"
   ]
  },
  {
   "cell_type": "markdown",
   "metadata": {
    "colab_type": "text",
    "id": "Cm8w7DmXBOOO"
   },
   "source": [
    "# Install packages"
   ]
  },
  {
   "cell_type": "code",
   "execution_count": null,
   "metadata": {
    "colab": {},
    "colab_type": "code",
    "id": "UvLKH4EqF_hf"
   },
   "outputs": [],
   "source": [
    "#to save the packages in my google drive\n",
    "#from google.colab import drive\n",
    "#drive.mount('/content/drive')\n",
    "#pip freeze --local > /content/drive/My\\ Drive/Colab\\ Notebooks/NLP/colab_installed.txt"
   ]
  },
  {
   "cell_type": "code",
   "execution_count": null,
   "metadata": {
    "colab": {
     "base_uri": "https://localhost:8080/",
     "height": 34
    },
    "colab_type": "code",
    "executionInfo": {
     "elapsed": 4622,
     "status": "ok",
     "timestamp": 1568908063775,
     "user": {
      "displayName": "Erika Gomes",
      "photoUrl": "https://lh3.googleusercontent.com/a-/AAuE7mCqQWI-dokGT09QnMktcoN5x4lZ12ITJjy7aAJfAls=s64",
      "userId": "04485634194964420384"
     },
     "user_tz": -120
    },
    "id": "Us1TpKCZK7Hc",
    "outputId": "85916ddf-765e-4eed-e01c-d55bc0271582"
   },
   "outputs": [
    {
     "data": {
      "text/plain": [
       "'/content'"
      ]
     },
     "execution_count": 3,
     "metadata": {
      "tags": []
     },
     "output_type": "execute_result"
    }
   ],
   "source": [
    "#import os\n",
    "#os.getcwd() # pwd"
   ]
  },
  {
   "cell_type": "code",
   "execution_count": null,
   "metadata": {
    "colab": {
     "base_uri": "https://localhost:8080/",
     "height": 34
    },
    "colab_type": "code",
    "executionInfo": {
     "elapsed": 5252,
     "status": "ok",
     "timestamp": 1568908066542,
     "user": {
      "displayName": "Erika Gomes",
      "photoUrl": "https://lh3.googleusercontent.com/a-/AAuE7mCqQWI-dokGT09QnMktcoN5x4lZ12ITJjy7aAJfAls=s64",
      "userId": "04485634194964420384"
     },
     "user_tz": -120
    },
    "id": "wK1CgYgAJhq2",
    "outputId": "0be4a79c-4450-4c0c-a3d3-9524bfce71ee"
   },
   "outputs": [
    {
     "name": "stdout",
     "output_type": "stream",
     "text": [
      "import numpy"
     ]
    }
   ],
   "source": [
    "#with open('/content/drive/My Drive/Colab Notebooks/NLP/foo.py', 'w') as f:\n",
    "#  f.write('import numpy')\n",
    "#!cat /content/drive/My\\ Drive/Colab\\ Notebooks/NLP/foo.py\n",
    "\n",
    "#!cat /content/drive/My\\ Drive/Colab\\ Notebooks/NLP/module.py\n"
   ]
  },
  {
   "cell_type": "code",
   "execution_count": null,
   "metadata": {
    "colab": {},
    "colab_type": "code",
    "id": "OGvNezUIMfKJ"
   },
   "outputs": [],
   "source": [
    "#!python /content/drive/My\\ Drive/Colab\\ Notebooks/NLP/foo.py"
   ]
  },
  {
   "cell_type": "markdown",
   "metadata": {
    "colab_type": "text",
    "id": "T4f804yDSvhG"
   },
   "source": [
    "## **INSTALL PACKAGES**"
   ]
  },
  {
   "cell_type": "code",
   "execution_count": 5,
   "metadata": {
    "colab": {
     "base_uri": "https://localhost:8080/",
     "height": 1000
    },
    "colab_type": "code",
    "executionInfo": {
     "elapsed": 287409,
     "status": "ok",
     "timestamp": 1571401938457,
     "user": {
      "displayName": "Erika Gomes",
      "photoUrl": "https://lh3.googleusercontent.com/a-/AAuE7mBti3X0EibEh1pBxwe5lfY1SdwS0Z4VC_WAwwbYmfM=s64",
      "userId": "04485634194964420384"
     },
     "user_tz": -120
    },
    "id": "MzzrvwZK9PQJ",
    "outputId": "7477e4b2-6579-422d-a253-6567300579fc"
   },
   "outputs": [
    {
     "name": "stdout",
     "output_type": "stream",
     "text": [
      "Requirement already satisfied: numpy in /usr/local/lib/python3.6/dist-packages (1.16.5)\n",
      "Requirement already satisfied: tensorflow in /usr/local/lib/python3.6/dist-packages (1.15.0rc3)\n",
      "Requirement already satisfied: six>=1.10.0 in /usr/local/lib/python3.6/dist-packages (from tensorflow) (1.12.0)\n",
      "Requirement already satisfied: grpcio>=1.8.6 in /usr/local/lib/python3.6/dist-packages (from tensorflow) (1.15.0)\n",
      "Requirement already satisfied: keras-preprocessing>=1.0.5 in /usr/local/lib/python3.6/dist-packages (from tensorflow) (1.1.0)\n",
      "Requirement already satisfied: tensorflow-estimator==1.15.1 in /usr/local/lib/python3.6/dist-packages (from tensorflow) (1.15.1)\n",
      "Requirement already satisfied: numpy<2.0,>=1.16.0 in /usr/local/lib/python3.6/dist-packages (from tensorflow) (1.16.5)\n",
      "Requirement already satisfied: termcolor>=1.1.0 in /usr/local/lib/python3.6/dist-packages (from tensorflow) (1.1.0)\n",
      "Requirement already satisfied: opt-einsum>=2.3.2 in /usr/local/lib/python3.6/dist-packages (from tensorflow) (3.1.0)\n",
      "Requirement already satisfied: protobuf>=3.6.1 in /usr/local/lib/python3.6/dist-packages (from tensorflow) (3.7.1)\n",
      "Requirement already satisfied: google-pasta>=0.1.6 in /usr/local/lib/python3.6/dist-packages (from tensorflow) (0.1.7)\n",
      "Requirement already satisfied: keras-applications>=1.0.8 in /usr/local/lib/python3.6/dist-packages (from tensorflow) (1.0.8)\n",
      "Requirement already satisfied: absl-py>=0.7.0 in /usr/local/lib/python3.6/dist-packages (from tensorflow) (0.8.0)\n",
      "Requirement already satisfied: gast==0.2.2 in /usr/local/lib/python3.6/dist-packages (from tensorflow) (0.2.2)\n",
      "Requirement already satisfied: wrapt>=1.11.1 in /usr/local/lib/python3.6/dist-packages (from tensorflow) (1.11.2)\n",
      "Requirement already satisfied: wheel>=0.26 in /usr/local/lib/python3.6/dist-packages (from tensorflow) (0.33.6)\n",
      "Requirement already satisfied: tensorboard<1.16.0,>=1.15.0 in /usr/local/lib/python3.6/dist-packages (from tensorflow) (1.15.0)\n",
      "Requirement already satisfied: astor>=0.6.0 in /usr/local/lib/python3.6/dist-packages (from tensorflow) (0.8.0)\n",
      "Requirement already satisfied: setuptools in /usr/local/lib/python3.6/dist-packages (from protobuf>=3.6.1->tensorflow) (41.2.0)\n",
      "Requirement already satisfied: h5py in /usr/local/lib/python3.6/dist-packages (from keras-applications>=1.0.8->tensorflow) (2.8.0)\n",
      "Requirement already satisfied: werkzeug>=0.11.15 in /usr/local/lib/python3.6/dist-packages (from tensorboard<1.16.0,>=1.15.0->tensorflow) (0.16.0)\n",
      "Requirement already satisfied: markdown>=2.6.8 in /usr/local/lib/python3.6/dist-packages (from tensorboard<1.16.0,>=1.15.0->tensorflow) (3.1.1)\n",
      "Requirement already satisfied: tensorboard in /usr/local/lib/python3.6/dist-packages (1.15.0)\n",
      "Requirement already satisfied: six>=1.10.0 in /usr/local/lib/python3.6/dist-packages (from tensorboard) (1.12.0)\n",
      "Requirement already satisfied: protobuf>=3.6.0 in /usr/local/lib/python3.6/dist-packages (from tensorboard) (3.7.1)\n",
      "Requirement already satisfied: markdown>=2.6.8 in /usr/local/lib/python3.6/dist-packages (from tensorboard) (3.1.1)\n",
      "Requirement already satisfied: absl-py>=0.4 in /usr/local/lib/python3.6/dist-packages (from tensorboard) (0.8.0)\n",
      "Requirement already satisfied: wheel>=0.26; python_version >= \"3\" in /usr/local/lib/python3.6/dist-packages (from tensorboard) (0.33.6)\n",
      "Requirement already satisfied: setuptools>=41.0.0 in /usr/local/lib/python3.6/dist-packages (from tensorboard) (41.2.0)\n",
      "Requirement already satisfied: werkzeug>=0.11.15 in /usr/local/lib/python3.6/dist-packages (from tensorboard) (0.16.0)\n",
      "Requirement already satisfied: grpcio>=1.6.3 in /usr/local/lib/python3.6/dist-packages (from tensorboard) (1.15.0)\n",
      "Requirement already satisfied: numpy>=1.12.0 in /usr/local/lib/python3.6/dist-packages (from tensorboard) (1.16.5)\n",
      "Collecting tensorflow-gpu\n",
      "\u001b[?25l  Downloading https://files.pythonhosted.org/packages/25/44/47f0722aea081697143fbcf5d2aa60d1aee4aaacb5869aee2b568974777b/tensorflow_gpu-2.0.0-cp36-cp36m-manylinux2010_x86_64.whl (380.8MB)\n",
      "\u001b[K     |████████████████████████████████| 380.8MB 56kB/s \n",
      "\u001b[?25hRequirement already satisfied: keras-preprocessing>=1.0.5 in /usr/local/lib/python3.6/dist-packages (from tensorflow-gpu) (1.1.0)\n",
      "Requirement already satisfied: termcolor>=1.1.0 in /usr/local/lib/python3.6/dist-packages (from tensorflow-gpu) (1.1.0)\n",
      "Requirement already satisfied: wheel>=0.26 in /usr/local/lib/python3.6/dist-packages (from tensorflow-gpu) (0.33.6)\n",
      "Requirement already satisfied: google-pasta>=0.1.6 in /usr/local/lib/python3.6/dist-packages (from tensorflow-gpu) (0.1.7)\n",
      "Collecting tensorflow-estimator<2.1.0,>=2.0.0 (from tensorflow-gpu)\n",
      "\u001b[?25l  Downloading https://files.pythonhosted.org/packages/95/00/5e6cdf86190a70d7382d320b2b04e4ff0f8191a37d90a422a2f8ff0705bb/tensorflow_estimator-2.0.0-py2.py3-none-any.whl (449kB)\n",
      "\u001b[K     |████████████████████████████████| 450kB 36.8MB/s \n",
      "\u001b[?25hRequirement already satisfied: gast==0.2.2 in /usr/local/lib/python3.6/dist-packages (from tensorflow-gpu) (0.2.2)\n",
      "Requirement already satisfied: absl-py>=0.7.0 in /usr/local/lib/python3.6/dist-packages (from tensorflow-gpu) (0.8.0)\n",
      "Requirement already satisfied: numpy<2.0,>=1.16.0 in /usr/local/lib/python3.6/dist-packages (from tensorflow-gpu) (1.16.5)\n",
      "Requirement already satisfied: six>=1.10.0 in /usr/local/lib/python3.6/dist-packages (from tensorflow-gpu) (1.12.0)\n",
      "Requirement already satisfied: grpcio>=1.8.6 in /usr/local/lib/python3.6/dist-packages (from tensorflow-gpu) (1.15.0)\n",
      "Requirement already satisfied: keras-applications>=1.0.8 in /usr/local/lib/python3.6/dist-packages (from tensorflow-gpu) (1.0.8)\n",
      "Requirement already satisfied: astor>=0.6.0 in /usr/local/lib/python3.6/dist-packages (from tensorflow-gpu) (0.8.0)\n",
      "Requirement already satisfied: protobuf>=3.6.1 in /usr/local/lib/python3.6/dist-packages (from tensorflow-gpu) (3.7.1)\n",
      "Collecting tensorboard<2.1.0,>=2.0.0 (from tensorflow-gpu)\n",
      "\u001b[?25l  Downloading https://files.pythonhosted.org/packages/9b/a6/e8ffa4e2ddb216449d34cfcb825ebb38206bee5c4553d69e7bc8bc2c5d64/tensorboard-2.0.0-py3-none-any.whl (3.8MB)\n",
      "\u001b[K     |████████████████████████████████| 3.8MB 36.8MB/s \n",
      "\u001b[?25hRequirement already satisfied: opt-einsum>=2.3.2 in /usr/local/lib/python3.6/dist-packages (from tensorflow-gpu) (3.1.0)\n",
      "Requirement already satisfied: wrapt>=1.11.1 in /usr/local/lib/python3.6/dist-packages (from tensorflow-gpu) (1.11.2)\n",
      "Requirement already satisfied: h5py in /usr/local/lib/python3.6/dist-packages (from keras-applications>=1.0.8->tensorflow-gpu) (2.8.0)\n",
      "Requirement already satisfied: setuptools in /usr/local/lib/python3.6/dist-packages (from protobuf>=3.6.1->tensorflow-gpu) (41.2.0)\n",
      "Requirement already satisfied: werkzeug>=0.11.15 in /usr/local/lib/python3.6/dist-packages (from tensorboard<2.1.0,>=2.0.0->tensorflow-gpu) (0.16.0)\n",
      "Requirement already satisfied: markdown>=2.6.8 in /usr/local/lib/python3.6/dist-packages (from tensorboard<2.1.0,>=2.0.0->tensorflow-gpu) (3.1.1)\n",
      "\u001b[31mERROR: tensorflow 1.15.0rc3 has requirement tensorboard<1.16.0,>=1.15.0, but you'll have tensorboard 2.0.0 which is incompatible.\u001b[0m\n",
      "\u001b[31mERROR: tensorflow 1.15.0rc3 has requirement tensorflow-estimator==1.15.1, but you'll have tensorflow-estimator 2.0.0 which is incompatible.\u001b[0m\n",
      "Installing collected packages: tensorflow-estimator, tensorboard, tensorflow-gpu\n",
      "  Found existing installation: tensorflow-estimator 1.15.1\n",
      "    Uninstalling tensorflow-estimator-1.15.1:\n",
      "      Successfully uninstalled tensorflow-estimator-1.15.1\n",
      "  Found existing installation: tensorboard 1.15.0\n",
      "    Uninstalling tensorboard-1.15.0:\n",
      "      Successfully uninstalled tensorboard-1.15.0\n",
      "Successfully installed tensorboard-2.0.0 tensorflow-estimator-2.0.0 tensorflow-gpu-2.0.0\n"
     ]
    },
    {
     "data": {
      "application/vnd.colab-display-data+json": {
       "pip_warning": {
        "packages": [
         "tensorboard",
         "tensorflow",
         "tensorflow_core",
         "tensorflow_estimator"
        ]
       }
      }
     },
     "metadata": {
      "tags": []
     },
     "output_type": "display_data"
    },
    {
     "name": "stdout",
     "output_type": "stream",
     "text": [
      "Collecting bert-tensorflow\n",
      "\u001b[?25l  Downloading https://files.pythonhosted.org/packages/a6/66/7eb4e8b6ea35b7cc54c322c816f976167a43019750279a8473d355800a93/bert_tensorflow-1.0.1-py2.py3-none-any.whl (67kB)\n",
      "\u001b[K     |████████████████████████████████| 71kB 8.2MB/s \n",
      "\u001b[?25hRequirement already satisfied: six in /usr/local/lib/python3.6/dist-packages (from bert-tensorflow) (1.12.0)\n",
      "Installing collected packages: bert-tensorflow\n",
      "Successfully installed bert-tensorflow-1.0.1\n",
      "Requirement already satisfied: spacy in /usr/local/lib/python3.6/dist-packages (2.1.8)\n",
      "Requirement already satisfied: wasabi<1.1.0,>=0.2.0 in /usr/local/lib/python3.6/dist-packages (from spacy) (0.2.2)\n",
      "Requirement already satisfied: preshed<2.1.0,>=2.0.1 in /usr/local/lib/python3.6/dist-packages (from spacy) (2.0.1)\n",
      "Requirement already satisfied: requests<3.0.0,>=2.13.0 in /usr/local/lib/python3.6/dist-packages (from spacy) (2.21.0)\n",
      "Requirement already satisfied: numpy>=1.15.0 in /usr/local/lib/python3.6/dist-packages (from spacy) (1.16.5)\n",
      "Requirement already satisfied: murmurhash<1.1.0,>=0.28.0 in /usr/local/lib/python3.6/dist-packages (from spacy) (1.0.2)\n",
      "Requirement already satisfied: thinc<7.1.0,>=7.0.8 in /usr/local/lib/python3.6/dist-packages (from spacy) (7.0.8)\n",
      "Requirement already satisfied: plac<1.0.0,>=0.9.6 in /usr/local/lib/python3.6/dist-packages (from spacy) (0.9.6)\n",
      "Requirement already satisfied: srsly<1.1.0,>=0.0.6 in /usr/local/lib/python3.6/dist-packages (from spacy) (0.1.0)\n",
      "Requirement already satisfied: blis<0.3.0,>=0.2.2 in /usr/local/lib/python3.6/dist-packages (from spacy) (0.2.4)\n",
      "Requirement already satisfied: cymem<2.1.0,>=2.0.2 in /usr/local/lib/python3.6/dist-packages (from spacy) (2.0.2)\n",
      "Requirement already satisfied: idna<2.9,>=2.5 in /usr/local/lib/python3.6/dist-packages (from requests<3.0.0,>=2.13.0->spacy) (2.8)\n",
      "Requirement already satisfied: urllib3<1.25,>=1.21.1 in /usr/local/lib/python3.6/dist-packages (from requests<3.0.0,>=2.13.0->spacy) (1.24.3)\n",
      "Requirement already satisfied: chardet<3.1.0,>=3.0.2 in /usr/local/lib/python3.6/dist-packages (from requests<3.0.0,>=2.13.0->spacy) (3.0.4)\n",
      "Requirement already satisfied: certifi>=2017.4.17 in /usr/local/lib/python3.6/dist-packages (from requests<3.0.0,>=2.13.0->spacy) (2019.9.11)\n",
      "Requirement already satisfied: tqdm<5.0.0,>=4.10.0 in /usr/local/lib/python3.6/dist-packages (from thinc<7.1.0,>=7.0.8->spacy) (4.28.1)\n",
      "Requirement already satisfied: numpy in /usr/local/lib/python3.6/dist-packages (1.16.5)\n",
      "Collecting tensorflow==1.14.0\n",
      "\u001b[?25l  Downloading https://files.pythonhosted.org/packages/de/f0/96fb2e0412ae9692dbf400e5b04432885f677ad6241c088ccc5fe7724d69/tensorflow-1.14.0-cp36-cp36m-manylinux1_x86_64.whl (109.2MB)\n",
      "\u001b[K     |████████████████████████████████| 109.2MB 45.8MB/s \n",
      "\u001b[?25hRequirement already satisfied: keras-applications>=1.0.6 in /usr/local/lib/python3.6/dist-packages (from tensorflow==1.14.0) (1.0.8)\n",
      "Requirement already satisfied: astor>=0.6.0 in /usr/local/lib/python3.6/dist-packages (from tensorflow==1.14.0) (0.8.0)\n",
      "Requirement already satisfied: absl-py>=0.7.0 in /usr/local/lib/python3.6/dist-packages (from tensorflow==1.14.0) (0.8.0)\n",
      "Requirement already satisfied: wheel>=0.26 in /usr/local/lib/python3.6/dist-packages (from tensorflow==1.14.0) (0.33.6)\n",
      "Requirement already satisfied: google-pasta>=0.1.6 in /usr/local/lib/python3.6/dist-packages (from tensorflow==1.14.0) (0.1.7)\n",
      "Requirement already satisfied: keras-preprocessing>=1.0.5 in /usr/local/lib/python3.6/dist-packages (from tensorflow==1.14.0) (1.1.0)\n",
      "Collecting tensorflow-estimator<1.15.0rc0,>=1.14.0rc0 (from tensorflow==1.14.0)\n",
      "\u001b[?25l  Downloading https://files.pythonhosted.org/packages/3c/d5/21860a5b11caf0678fbc8319341b0ae21a07156911132e0e71bffed0510d/tensorflow_estimator-1.14.0-py2.py3-none-any.whl (488kB)\n",
      "\u001b[K     |████████████████████████████████| 491kB 54.4MB/s \n",
      "\u001b[?25hRequirement already satisfied: protobuf>=3.6.1 in /usr/local/lib/python3.6/dist-packages (from tensorflow==1.14.0) (3.7.1)\n",
      "Requirement already satisfied: wrapt>=1.11.1 in /usr/local/lib/python3.6/dist-packages (from tensorflow==1.14.0) (1.11.2)\n",
      "Requirement already satisfied: numpy<2.0,>=1.14.5 in /usr/local/lib/python3.6/dist-packages (from tensorflow==1.14.0) (1.16.5)\n",
      "Requirement already satisfied: grpcio>=1.8.6 in /usr/local/lib/python3.6/dist-packages (from tensorflow==1.14.0) (1.15.0)\n",
      "Requirement already satisfied: termcolor>=1.1.0 in /usr/local/lib/python3.6/dist-packages (from tensorflow==1.14.0) (1.1.0)\n",
      "Requirement already satisfied: gast>=0.2.0 in /usr/local/lib/python3.6/dist-packages (from tensorflow==1.14.0) (0.2.2)\n",
      "Collecting tensorboard<1.15.0,>=1.14.0 (from tensorflow==1.14.0)\n",
      "\u001b[?25l  Downloading https://files.pythonhosted.org/packages/91/2d/2ed263449a078cd9c8a9ba50ebd50123adf1f8cfbea1492f9084169b89d9/tensorboard-1.14.0-py3-none-any.whl (3.1MB)\n",
      "\u001b[K     |████████████████████████████████| 3.2MB 46.3MB/s \n",
      "\u001b[?25hRequirement already satisfied: six>=1.10.0 in /usr/local/lib/python3.6/dist-packages (from tensorflow==1.14.0) (1.12.0)\n",
      "Requirement already satisfied: h5py in /usr/local/lib/python3.6/dist-packages (from keras-applications>=1.0.6->tensorflow==1.14.0) (2.8.0)\n",
      "Requirement already satisfied: setuptools in /usr/local/lib/python3.6/dist-packages (from protobuf>=3.6.1->tensorflow==1.14.0) (41.2.0)\n",
      "Requirement already satisfied: markdown>=2.6.8 in /usr/local/lib/python3.6/dist-packages (from tensorboard<1.15.0,>=1.14.0->tensorflow==1.14.0) (3.1.1)\n",
      "Requirement already satisfied: werkzeug>=0.11.15 in /usr/local/lib/python3.6/dist-packages (from tensorboard<1.15.0,>=1.14.0->tensorflow==1.14.0) (0.16.0)\n",
      "\u001b[31mERROR: tensorflow-gpu 2.0.0 has requirement tensorboard<2.1.0,>=2.0.0, but you'll have tensorboard 1.14.0 which is incompatible.\u001b[0m\n",
      "\u001b[31mERROR: tensorflow-gpu 2.0.0 has requirement tensorflow-estimator<2.1.0,>=2.0.0, but you'll have tensorflow-estimator 1.14.0 which is incompatible.\u001b[0m\n",
      "Installing collected packages: tensorflow-estimator, tensorboard, tensorflow\n",
      "  Found existing installation: tensorflow-estimator 2.0.0\n",
      "    Uninstalling tensorflow-estimator-2.0.0:\n",
      "      Successfully uninstalled tensorflow-estimator-2.0.0\n",
      "  Found existing installation: tensorboard 2.0.0\n",
      "    Uninstalling tensorboard-2.0.0:\n",
      "      Successfully uninstalled tensorboard-2.0.0\n",
      "  Found existing installation: tensorflow 1.15.0rc3\n",
      "    Uninstalling tensorflow-1.15.0rc3:\n",
      "      Successfully uninstalled tensorflow-1.15.0rc3\n",
      "Successfully installed tensorboard-1.14.0 tensorflow-1.14.0 tensorflow-estimator-1.14.0\n",
      "Requirement already satisfied: tensorboard==1.14.0 in /usr/local/lib/python3.6/dist-packages (1.14.0)\n",
      "Requirement already satisfied: markdown>=2.6.8 in /usr/local/lib/python3.6/dist-packages (from tensorboard==1.14.0) (3.1.1)\n",
      "Requirement already satisfied: protobuf>=3.6.0 in /usr/local/lib/python3.6/dist-packages (from tensorboard==1.14.0) (3.7.1)\n",
      "Requirement already satisfied: grpcio>=1.6.3 in /usr/local/lib/python3.6/dist-packages (from tensorboard==1.14.0) (1.15.0)\n",
      "Requirement already satisfied: wheel>=0.26; python_version >= \"3\" in /usr/local/lib/python3.6/dist-packages (from tensorboard==1.14.0) (0.33.6)\n",
      "Requirement already satisfied: werkzeug>=0.11.15 in /usr/local/lib/python3.6/dist-packages (from tensorboard==1.14.0) (0.16.0)\n",
      "Requirement already satisfied: absl-py>=0.4 in /usr/local/lib/python3.6/dist-packages (from tensorboard==1.14.0) (0.8.0)\n",
      "Requirement already satisfied: six>=1.10.0 in /usr/local/lib/python3.6/dist-packages (from tensorboard==1.14.0) (1.12.0)\n",
      "Requirement already satisfied: setuptools>=41.0.0 in /usr/local/lib/python3.6/dist-packages (from tensorboard==1.14.0) (41.2.0)\n",
      "Requirement already satisfied: numpy>=1.12.0 in /usr/local/lib/python3.6/dist-packages (from tensorboard==1.14.0) (1.16.5)\n",
      "Collecting tensorflow-gpu==1.14.0\n",
      "\u001b[?25l  Downloading https://files.pythonhosted.org/packages/76/04/43153bfdfcf6c9a4c38ecdb971ca9a75b9a791bb69a764d652c359aca504/tensorflow_gpu-1.14.0-cp36-cp36m-manylinux1_x86_64.whl (377.0MB)\n",
      "\u001b[K     |████████████████████████████████| 377.0MB 33kB/s \n",
      "\u001b[?25hRequirement already satisfied: gast>=0.2.0 in /usr/local/lib/python3.6/dist-packages (from tensorflow-gpu==1.14.0) (0.2.2)\n",
      "Requirement already satisfied: termcolor>=1.1.0 in /usr/local/lib/python3.6/dist-packages (from tensorflow-gpu==1.14.0) (1.1.0)\n",
      "Requirement already satisfied: six>=1.10.0 in /usr/local/lib/python3.6/dist-packages (from tensorflow-gpu==1.14.0) (1.12.0)\n",
      "Requirement already satisfied: wrapt>=1.11.1 in /usr/local/lib/python3.6/dist-packages (from tensorflow-gpu==1.14.0) (1.11.2)\n",
      "Requirement already satisfied: google-pasta>=0.1.6 in /usr/local/lib/python3.6/dist-packages (from tensorflow-gpu==1.14.0) (0.1.7)\n",
      "Requirement already satisfied: wheel>=0.26 in /usr/local/lib/python3.6/dist-packages (from tensorflow-gpu==1.14.0) (0.33.6)\n",
      "Requirement already satisfied: keras-applications>=1.0.6 in /usr/local/lib/python3.6/dist-packages (from tensorflow-gpu==1.14.0) (1.0.8)\n",
      "Requirement already satisfied: protobuf>=3.6.1 in /usr/local/lib/python3.6/dist-packages (from tensorflow-gpu==1.14.0) (3.7.1)\n",
      "Requirement already satisfied: grpcio>=1.8.6 in /usr/local/lib/python3.6/dist-packages (from tensorflow-gpu==1.14.0) (1.15.0)\n",
      "Requirement already satisfied: tensorflow-estimator<1.15.0rc0,>=1.14.0rc0 in /usr/local/lib/python3.6/dist-packages (from tensorflow-gpu==1.14.0) (1.14.0)\n",
      "Requirement already satisfied: absl-py>=0.7.0 in /usr/local/lib/python3.6/dist-packages (from tensorflow-gpu==1.14.0) (0.8.0)\n",
      "Requirement already satisfied: keras-preprocessing>=1.0.5 in /usr/local/lib/python3.6/dist-packages (from tensorflow-gpu==1.14.0) (1.1.0)\n",
      "Requirement already satisfied: astor>=0.6.0 in /usr/local/lib/python3.6/dist-packages (from tensorflow-gpu==1.14.0) (0.8.0)\n",
      "Requirement already satisfied: tensorboard<1.15.0,>=1.14.0 in /usr/local/lib/python3.6/dist-packages (from tensorflow-gpu==1.14.0) (1.14.0)\n",
      "Requirement already satisfied: numpy<2.0,>=1.14.5 in /usr/local/lib/python3.6/dist-packages (from tensorflow-gpu==1.14.0) (1.16.5)\n",
      "Requirement already satisfied: h5py in /usr/local/lib/python3.6/dist-packages (from keras-applications>=1.0.6->tensorflow-gpu==1.14.0) (2.8.0)\n",
      "Requirement already satisfied: setuptools in /usr/local/lib/python3.6/dist-packages (from protobuf>=3.6.1->tensorflow-gpu==1.14.0) (41.2.0)\n",
      "Requirement already satisfied: werkzeug>=0.11.15 in /usr/local/lib/python3.6/dist-packages (from tensorboard<1.15.0,>=1.14.0->tensorflow-gpu==1.14.0) (0.16.0)\n",
      "Requirement already satisfied: markdown>=2.6.8 in /usr/local/lib/python3.6/dist-packages (from tensorboard<1.15.0,>=1.14.0->tensorflow-gpu==1.14.0) (3.1.1)\n",
      "Installing collected packages: tensorflow-gpu\n",
      "  Found existing installation: tensorflow-gpu 2.0.0\n",
      "    Uninstalling tensorflow-gpu-2.0.0:\n",
      "      Successfully uninstalled tensorflow-gpu-2.0.0\n",
      "Successfully installed tensorflow-gpu-1.14.0\n"
     ]
    },
    {
     "data": {
      "application/vnd.colab-display-data+json": {
       "pip_warning": {
        "packages": [
         "tensorflow"
        ]
       }
      }
     },
     "metadata": {
      "tags": []
     },
     "output_type": "display_data"
    },
    {
     "name": "stdout",
     "output_type": "stream",
     "text": [
      "Requirement already satisfied: bert-tensorflow==1.0.1 in /usr/local/lib/python3.6/dist-packages (1.0.1)\n",
      "Requirement already satisfied: six in /usr/local/lib/python3.6/dist-packages (from bert-tensorflow==1.0.1) (1.12.0)\n",
      "Requirement already satisfied: spacy==2.1.8 in /usr/local/lib/python3.6/dist-packages (2.1.8)\n",
      "Requirement already satisfied: preshed<2.1.0,>=2.0.1 in /usr/local/lib/python3.6/dist-packages (from spacy==2.1.8) (2.0.1)\n",
      "Requirement already satisfied: cymem<2.1.0,>=2.0.2 in /usr/local/lib/python3.6/dist-packages (from spacy==2.1.8) (2.0.2)\n",
      "Requirement already satisfied: thinc<7.1.0,>=7.0.8 in /usr/local/lib/python3.6/dist-packages (from spacy==2.1.8) (7.0.8)\n",
      "Requirement already satisfied: numpy>=1.15.0 in /usr/local/lib/python3.6/dist-packages (from spacy==2.1.8) (1.16.5)\n",
      "Requirement already satisfied: murmurhash<1.1.0,>=0.28.0 in /usr/local/lib/python3.6/dist-packages (from spacy==2.1.8) (1.0.2)\n",
      "Requirement already satisfied: blis<0.3.0,>=0.2.2 in /usr/local/lib/python3.6/dist-packages (from spacy==2.1.8) (0.2.4)\n",
      "Requirement already satisfied: plac<1.0.0,>=0.9.6 in /usr/local/lib/python3.6/dist-packages (from spacy==2.1.8) (0.9.6)\n",
      "Requirement already satisfied: wasabi<1.1.0,>=0.2.0 in /usr/local/lib/python3.6/dist-packages (from spacy==2.1.8) (0.2.2)\n",
      "Requirement already satisfied: srsly<1.1.0,>=0.0.6 in /usr/local/lib/python3.6/dist-packages (from spacy==2.1.8) (0.1.0)\n",
      "Requirement already satisfied: requests<3.0.0,>=2.13.0 in /usr/local/lib/python3.6/dist-packages (from spacy==2.1.8) (2.21.0)\n",
      "Requirement already satisfied: tqdm<5.0.0,>=4.10.0 in /usr/local/lib/python3.6/dist-packages (from thinc<7.1.0,>=7.0.8->spacy==2.1.8) (4.28.1)\n",
      "Requirement already satisfied: chardet<3.1.0,>=3.0.2 in /usr/local/lib/python3.6/dist-packages (from requests<3.0.0,>=2.13.0->spacy==2.1.8) (3.0.4)\n",
      "Requirement already satisfied: idna<2.9,>=2.5 in /usr/local/lib/python3.6/dist-packages (from requests<3.0.0,>=2.13.0->spacy==2.1.8) (2.8)\n",
      "Requirement already satisfied: urllib3<1.25,>=1.21.1 in /usr/local/lib/python3.6/dist-packages (from requests<3.0.0,>=2.13.0->spacy==2.1.8) (1.24.3)\n",
      "Requirement already satisfied: certifi>=2017.4.17 in /usr/local/lib/python3.6/dist-packages (from requests<3.0.0,>=2.13.0->spacy==2.1.8) (2019.9.11)\n",
      "Requirement already satisfied: en_core_web_sm==2.1.0 from https://github.com/explosion/spacy-models/releases/download/en_core_web_sm-2.1.0/en_core_web_sm-2.1.0.tar.gz#egg=en_core_web_sm==2.1.0 in /usr/local/lib/python3.6/dist-packages (2.1.0)\n",
      "\u001b[38;5;2m✔ Download and installation successful\u001b[0m\n",
      "You can now load the model via spacy.load('en_core_web_sm')\n",
      "\u001b[38;5;2m✔ Linking successful\u001b[0m\n",
      "/usr/local/lib/python3.6/dist-packages/en_core_web_sm -->\n",
      "/usr/local/lib/python3.6/dist-packages/spacy/data/en\n",
      "You can now load the model via spacy.load('en')\n",
      "--2019-10-18 12:32:04--  https://storage.googleapis.com/bert_models/2018_10_18/uncased_L-12_H-768_A-12.zip\n",
      "Resolving storage.googleapis.com (storage.googleapis.com)... 108.177.126.128, 2a00:1450:4013:c00::80\n",
      "Connecting to storage.googleapis.com (storage.googleapis.com)|108.177.126.128|:443... connected.\n",
      "HTTP request sent, awaiting response... 200 OK\n",
      "Length: 407727028 (389M) [application/zip]\n",
      "Saving to: ‘uncased_L-12_H-768_A-12.zip’\n",
      "\n",
      "uncased_L-12_H-768_ 100%[===================>] 388.84M  77.8MB/s    in 5.0s    \n",
      "\n",
      "2019-10-18 12:32:09 (77.8 MB/s) - ‘uncased_L-12_H-768_A-12.zip’ saved [407727028/407727028]\n",
      "\n",
      "Archive:  uncased_L-12_H-768_A-12.zip\n",
      "   creating: bert_models/uncased_L-12_H-768_A-12/\n",
      "  inflating: bert_models/uncased_L-12_H-768_A-12/bert_model.ckpt.meta  \n",
      "  inflating: bert_models/uncased_L-12_H-768_A-12/bert_model.ckpt.data-00000-of-00001  \n",
      "  inflating: bert_models/uncased_L-12_H-768_A-12/vocab.txt  \n",
      "  inflating: bert_models/uncased_L-12_H-768_A-12/bert_model.ckpt.index  \n",
      "  inflating: bert_models/uncased_L-12_H-768_A-12/bert_config.json  \n"
     ]
    }
   ],
   "source": [
    "# Install packages (is there possible to ceate enviroments in googgle collaborate?)\n",
    "\n",
    "!python -m pip install numpy\n",
    "!python -m pip install tensorflow\n",
    "!python -m pip install tensorboard\n",
    "# install the requirements\n",
    "!pip install tensorflow-gpu\n",
    "!pip install bert-tensorflow\n",
    "!pip install spacy\n",
    "'''\n",
    "\n",
    "'''\n",
    "!python -m pip install numpy #==1.16.5\n",
    "!python -m pip install tensorflow==1.14.0 #1.12.0\n",
    "!python -m pip install tensorboard==1.14.0\n",
    "# install the requirements\n",
    "!pip install tensorflow-gpu==1.14.0\n",
    "!pip install bert-tensorflow==1.0.1\n",
    "!pip install spacy==2.1.8\n",
    "\n",
    "\n",
    "!python -m spacy download en\n",
    "#BERT-Base, Uncased: 12-layer, 768-hidden, 12-heads, 110M parameters\n",
    "!wget https://storage.googleapis.com/bert_models/2018_10_18/uncased_L-12_H-768_A-12.zip\n",
    "!unzip uncased_L-12_H-768_A-12.zip -d bert_models\n",
    "!rm uncased_L-12_H-768_A-12.zip\n",
    "\n"
   ]
  },
  {
   "cell_type": "code",
   "execution_count": 3,
   "metadata": {
    "colab": {
     "base_uri": "https://localhost:8080/",
     "height": 54
    },
    "colab_type": "code",
    "executionInfo": {
     "elapsed": 845,
     "status": "ok",
     "timestamp": 1571401617903,
     "user": {
      "displayName": "Erika Gomes",
      "photoUrl": "https://lh3.googleusercontent.com/a-/AAuE7mBti3X0EibEh1pBxwe5lfY1SdwS0Z4VC_WAwwbYmfM=s64",
      "userId": "04485634194964420384"
     },
     "user_tz": -120
    },
    "id": "QpQxbqdlSOix",
    "outputId": "f1368e23-cc1a-49d7-ad5d-ff49432e16d6"
   },
   "outputs": [
    {
     "data": {
      "text/plain": [
       "\"\\nnb_path = '/content/drive/My\\\\ Drive/Colab\\\\ Notebooks/NLP/'\\nos.symlink('/content/drive/My\\\\ Drive/Colab\\\\ Notebooks/NLP/', nb_path)\\nsys.path.insert(0, nb_path)  # or append(nb_path)\\n# Install only once. Tomorrow, you can skip this.\\n!pip install --target=$nb_path jdc\\n\""
      ]
     },
     "execution_count": 3,
     "metadata": {
      "tags": []
     },
     "output_type": "execute_result"
    }
   ],
   "source": [
    "##install\n",
    "'''\n",
    "nb_path = '/content/drive/My\\ Drive/Colab\\ Notebooks/NLP/'\n",
    "os.symlink('/content/drive/My\\ Drive/Colab\\ Notebooks/NLP/', nb_path)\n",
    "sys.path.insert(0, nb_path)  # or append(nb_path)\n",
    "# Install only once. Tomorrow, you can skip this.\n",
    "!pip install --target=$nb_path jdc\n",
    "'''"
   ]
  },
  {
   "cell_type": "markdown",
   "metadata": {
    "colab_type": "text",
    "id": "O84drqryBEmg"
   },
   "source": [
    "# Load Data"
   ]
  },
  {
   "cell_type": "code",
   "execution_count": null,
   "metadata": {
    "colab": {},
    "colab_type": "code",
    "id": "jO4RZP4J9FSf"
   },
   "outputs": [],
   "source": [
    "import os\n",
    "import pandas as pd\n",
    "import numpy as np\n",
    "import re\n",
    "import string\n",
    "\n",
    "import tensorflow as tf\n",
    "\n",
    "from bert import tokenization\n",
    "from bert import modeling\n",
    "\n",
    "from sklearn.model_selection import train_test_split, StratifiedKFold\n",
    "from sklearn.metrics import precision_score, recall_score, f1_score, \\\n",
    "                            roc_auc_score, accuracy_score\n",
    "\n",
    "from sklearn.preprocessing import LabelEncoder\n",
    "    \n",
    "from tqdm import tqdm\n",
    "import spacy\n",
    "\n",
    "tqdm.pandas()"
   ]
  },
  {
   "cell_type": "code",
   "execution_count": 7,
   "metadata": {
    "colab": {
     "base_uri": "https://localhost:8080/",
     "height": 122
    },
    "colab_type": "code",
    "executionInfo": {
     "elapsed": 11352,
     "status": "ok",
     "timestamp": 1571402026161,
     "user": {
      "displayName": "Erika Gomes",
      "photoUrl": "https://lh3.googleusercontent.com/a-/AAuE7mBti3X0EibEh1pBxwe5lfY1SdwS0Z4VC_WAwwbYmfM=s64",
      "userId": "04485634194964420384"
     },
     "user_tz": -120
    },
    "id": "_3ZWvfIYd5lv",
    "outputId": "2db04abc-e35b-4110-966f-91a688cb4a10"
   },
   "outputs": [
    {
     "name": "stdout",
     "output_type": "stream",
     "text": [
      "Go to this URL in a browser: https://accounts.google.com/o/oauth2/auth?client_id=947318989803-6bn6qk8qdgf4n4g3pfee6491hc0brc4i.apps.googleusercontent.com&redirect_uri=urn%3Aietf%3Awg%3Aoauth%3A2.0%3Aoob&scope=email%20https%3A%2F%2Fwww.googleapis.com%2Fauth%2Fdocs.test%20https%3A%2F%2Fwww.googleapis.com%2Fauth%2Fdrive%20https%3A%2F%2Fwww.googleapis.com%2Fauth%2Fdrive.photos.readonly%20https%3A%2F%2Fwww.googleapis.com%2Fauth%2Fpeopleapi.readonly&response_type=code\n",
      "\n",
      "Enter your authorization code:\n",
      "··········\n",
      "Mounted at /content/drive\n"
     ]
    }
   ],
   "source": [
    "from google.colab import drive\n",
    "drive.mount('/content/drive')"
   ]
  },
  {
   "cell_type": "code",
   "execution_count": 8,
   "metadata": {
    "colab": {
     "base_uri": "https://localhost:8080/",
     "height": 34
    },
    "colab_type": "code",
    "executionInfo": {
     "elapsed": 2799,
     "status": "ok",
     "timestamp": 1571402034361,
     "user": {
      "displayName": "Erika Gomes",
      "photoUrl": "https://lh3.googleusercontent.com/a-/AAuE7mBti3X0EibEh1pBxwe5lfY1SdwS0Z4VC_WAwwbYmfM=s64",
      "userId": "04485634194964420384"
     },
     "user_tz": -120
    },
    "id": "fSrLJS1IQPlx",
    "outputId": "5e369f7c-faef-4215-93ea-a53ae10e83fc"
   },
   "outputs": [
    {
     "name": "stdout",
     "output_type": "stream",
     "text": [
      "python3: can't open file '/content/drive/My\\ Drive/Colab\\ Notebooks/NLP/colab_installed.txt': [Errno 2] No such file or directory\n"
     ]
    }
   ],
   "source": [
    "#load modules from text\n",
    "#!python -m pip --upgrade --force-reinstall `cat/content/drive/My\\ Drive/Colab\\ Notebooks/NLP/`\n",
    "\n",
    "#!python '/content/drive/My\\ Drive/Colab\\ Notebooks/NLP/colab_installed.txt' install"
   ]
  },
  {
   "cell_type": "code",
   "execution_count": null,
   "metadata": {
    "colab": {},
    "colab_type": "code",
    "id": "0scbyp9E51Fv"
   },
   "outputs": [],
   "source": [
    "data_df = pd.read_json('/content/drive/My Drive/Colab Notebooks/NLP/data/News_category_train.json')\n",
    "headlines = data_df['headline'].values.tolist()\n",
    "short_descriptions = data_df['short_description'].values.tolist()\n",
    "categories = data_df['category']"
   ]
  },
  {
   "cell_type": "markdown",
   "metadata": {
    "colab_type": "text",
    "id": "Bduq4dnHg3AU"
   },
   "source": [
    "The data contains the following columns:\n",
    "> **authors** - ...<br>\n",
    "> **category** - ...<br>\n",
    "> **headline** - ...<br>\n",
    "> **link** - ...<br>\n",
    "> **short_description** - ...<br>"
   ]
  },
  {
   "cell_type": "code",
   "execution_count": 10,
   "metadata": {
    "colab": {
     "base_uri": "https://localhost:8080/",
     "height": 238
    },
    "colab_type": "code",
    "executionInfo": {
     "elapsed": 864,
     "status": "ok",
     "timestamp": 1571402059261,
     "user": {
      "displayName": "Erika Gomes",
      "photoUrl": "https://lh3.googleusercontent.com/a-/AAuE7mBti3X0EibEh1pBxwe5lfY1SdwS0Z4VC_WAwwbYmfM=s64",
      "userId": "04485634194964420384"
     },
     "user_tz": -120
    },
    "id": "nSvkJYAQnsPK",
    "outputId": "28146373-d6d6-4188-ab25-ea67deb0caa8"
   },
   "outputs": [
    {
     "data": {
      "text/html": [
       "<div>\n",
       "<style scoped>\n",
       "    .dataframe tbody tr th:only-of-type {\n",
       "        vertical-align: middle;\n",
       "    }\n",
       "\n",
       "    .dataframe tbody tr th {\n",
       "        vertical-align: top;\n",
       "    }\n",
       "\n",
       "    .dataframe thead th {\n",
       "        text-align: right;\n",
       "    }\n",
       "</style>\n",
       "<table border=\"1\" class=\"dataframe\">\n",
       "  <thead>\n",
       "    <tr style=\"text-align: right;\">\n",
       "      <th></th>\n",
       "      <th>authors</th>\n",
       "      <th>category</th>\n",
       "      <th>headline</th>\n",
       "      <th>link</th>\n",
       "      <th>short_description</th>\n",
       "    </tr>\n",
       "  </thead>\n",
       "  <tbody>\n",
       "    <tr>\n",
       "      <th>64995</th>\n",
       "      <td>Suzanne Perryman, Contributor\\nBlogger at Spec...</td>\n",
       "      <td>J</td>\n",
       "      <td>How A Conversation I Dreaded Turned Into A Tru...</td>\n",
       "      <td>https://www.huffingtonpost.com/entry/santa-con...</td>\n",
       "      <td>I never imagined that she would thank me. That...</td>\n",
       "    </tr>\n",
       "    <tr>\n",
       "      <th>64996</th>\n",
       "      <td>Daniel B. Peters, Ph.D., Contributor\\nCo-Found...</td>\n",
       "      <td>J</td>\n",
       "      <td>Autism and Anxiety: Common Companions</td>\n",
       "      <td>https://www.huffingtonpost.com/entry/autism-an...</td>\n",
       "      <td>Living on the spectrum comes with daily challe...</td>\n",
       "    </tr>\n",
       "    <tr>\n",
       "      <th>64997</th>\n",
       "      <td>Kim Simon, Contributor\\nWriter. Mother. Wife. ...</td>\n",
       "      <td>J</td>\n",
       "      <td>A Poem to End the Mommy Wars</td>\n",
       "      <td>https://www.huffingtonpost.com/entry/a-poem-to...</td>\n",
       "      <td>One thing's for sure in the dead of the night,...</td>\n",
       "    </tr>\n",
       "    <tr>\n",
       "      <th>64998</th>\n",
       "      <td>Jim Higley, Contributor\\nJim's a dad who happe...</td>\n",
       "      <td>J</td>\n",
       "      <td>Hey Parents: Your Kids Want (and Need) One Mor...</td>\n",
       "      <td>https://www.huffingtonpost.com/entry/hey-paren...</td>\n",
       "      <td>I've had the good fortune of giving each of my...</td>\n",
       "    </tr>\n",
       "    <tr>\n",
       "      <th>64999</th>\n",
       "      <td>Sara Esther Crispe, Contributor\\nCo-Director o...</td>\n",
       "      <td>J</td>\n",
       "      <td>Changing Your Life in 30 Minutes a Day</td>\n",
       "      <td>https://www.huffingtonpost.com/entry/changing-...</td>\n",
       "      <td>My children needed a more patient and focused ...</td>\n",
       "    </tr>\n",
       "  </tbody>\n",
       "</table>\n",
       "</div>"
      ],
      "text/plain": [
       "                                                 authors  ...                                  short_description\n",
       "64995  Suzanne Perryman, Contributor\\nBlogger at Spec...  ...  I never imagined that she would thank me. That...\n",
       "64996  Daniel B. Peters, Ph.D., Contributor\\nCo-Found...  ...  Living on the spectrum comes with daily challe...\n",
       "64997  Kim Simon, Contributor\\nWriter. Mother. Wife. ...  ...  One thing's for sure in the dead of the night,...\n",
       "64998  Jim Higley, Contributor\\nJim's a dad who happe...  ...  I've had the good fortune of giving each of my...\n",
       "64999  Sara Esther Crispe, Contributor\\nCo-Director o...  ...  My children needed a more patient and focused ...\n",
       "\n",
       "[5 rows x 5 columns]"
      ]
     },
     "execution_count": 10,
     "metadata": {
      "tags": []
     },
     "output_type": "execute_result"
    }
   ],
   "source": [
    "data_df.tail()"
   ]
  },
  {
   "cell_type": "code",
   "execution_count": 11,
   "metadata": {
    "colab": {
     "base_uri": "https://localhost:8080/",
     "height": 204
    },
    "colab_type": "code",
    "executionInfo": {
     "elapsed": 907,
     "status": "ok",
     "timestamp": 1571402068065,
     "user": {
      "displayName": "Erika Gomes",
      "photoUrl": "https://lh3.googleusercontent.com/a-/AAuE7mBti3X0EibEh1pBxwe5lfY1SdwS0Z4VC_WAwwbYmfM=s64",
      "userId": "04485634194964420384"
     },
     "user_tz": -120
    },
    "id": "i8R8l0HthxsG",
    "outputId": "d5826db5-ad65-40c0-efb6-903558d565e6"
   },
   "outputs": [
    {
     "data": {
      "text/html": [
       "<div>\n",
       "<style scoped>\n",
       "    .dataframe tbody tr th:only-of-type {\n",
       "        vertical-align: middle;\n",
       "    }\n",
       "\n",
       "    .dataframe tbody tr th {\n",
       "        vertical-align: top;\n",
       "    }\n",
       "\n",
       "    .dataframe thead th {\n",
       "        text-align: right;\n",
       "    }\n",
       "</style>\n",
       "<table border=\"1\" class=\"dataframe\">\n",
       "  <thead>\n",
       "    <tr style=\"text-align: right;\">\n",
       "      <th></th>\n",
       "      <th>authors</th>\n",
       "      <th>category</th>\n",
       "      <th>headline</th>\n",
       "      <th>link</th>\n",
       "      <th>short_description</th>\n",
       "    </tr>\n",
       "  </thead>\n",
       "  <tbody>\n",
       "    <tr>\n",
       "      <th>0</th>\n",
       "      <td>Priscilla Frank</td>\n",
       "      <td>A</td>\n",
       "      <td>'Rice-Ko' Is What Happens When Artists Recreat...</td>\n",
       "      <td>https://www.huffingtonpost.com/entry/artists-r...</td>\n",
       "      <td>And it's all a delicious homage to a 1950s art...</td>\n",
       "    </tr>\n",
       "    <tr>\n",
       "      <th>1</th>\n",
       "      <td>Jocelyn Jeffery, ContributorFounder/Editor-In-...</td>\n",
       "      <td>A</td>\n",
       "      <td>Fragments of Femininity: A Comparative Analysi...</td>\n",
       "      <td>https://www.huffingtonpost.com/entry/fragments...</td>\n",
       "      <td>For Smith and Emin, the body is in perpetual m...</td>\n",
       "    </tr>\n",
       "    <tr>\n",
       "      <th>2</th>\n",
       "      <td>Danny Groner, Contributor\\nFreelance Journalist</td>\n",
       "      <td>A</td>\n",
       "      <td>We Appreciate Arrested Development Better Toda...</td>\n",
       "      <td>https://www.huffingtonpost.com/entry/we-apprec...</td>\n",
       "      <td>The Internet has unquestionably reformed how w...</td>\n",
       "    </tr>\n",
       "    <tr>\n",
       "      <th>3</th>\n",
       "      <td>Priscilla Frank</td>\n",
       "      <td>A</td>\n",
       "      <td>The 10 Must-See Sundance Films For Art Lovers</td>\n",
       "      <td>https://www.huffingtonpost.com/entry/new-front...</td>\n",
       "      <td></td>\n",
       "    </tr>\n",
       "    <tr>\n",
       "      <th>4</th>\n",
       "      <td>Larissa Bates, Contributor\\nContributor</td>\n",
       "      <td>A</td>\n",
       "      <td>Vera Iliatova on the ImageBlog</td>\n",
       "      <td>https://www.huffingtonpost.com/entry/vera-ilia...</td>\n",
       "      <td>Simple Men, 2013, oil on canvas, 42 by 36 inch...</td>\n",
       "    </tr>\n",
       "  </tbody>\n",
       "</table>\n",
       "</div>"
      ],
      "text/plain": [
       "                                             authors  ...                                  short_description\n",
       "0                                    Priscilla Frank  ...  And it's all a delicious homage to a 1950s art...\n",
       "1  Jocelyn Jeffery, ContributorFounder/Editor-In-...  ...  For Smith and Emin, the body is in perpetual m...\n",
       "2    Danny Groner, Contributor\\nFreelance Journalist  ...  The Internet has unquestionably reformed how w...\n",
       "3                                    Priscilla Frank  ...                                                   \n",
       "4            Larissa Bates, Contributor\\nContributor  ...  Simple Men, 2013, oil on canvas, 42 by 36 inch...\n",
       "\n",
       "[5 rows x 5 columns]"
      ]
     },
     "execution_count": 11,
     "metadata": {
      "tags": []
     },
     "output_type": "execute_result"
    }
   ],
   "source": [
    "data_df.head()"
   ]
  },
  {
   "cell_type": "markdown",
   "metadata": {
    "colab_type": "text",
    "id": "fSxP9_G0gGv5"
   },
   "source": [
    "## **Treat data**"
   ]
  },
  {
   "cell_type": "code",
   "execution_count": 12,
   "metadata": {
    "colab": {
     "base_uri": "https://localhost:8080/",
     "height": 119
    },
    "colab_type": "code",
    "executionInfo": {
     "elapsed": 806,
     "status": "ok",
     "timestamp": 1571402088953,
     "user": {
      "displayName": "Erika Gomes",
      "photoUrl": "https://lh3.googleusercontent.com/a-/AAuE7mBti3X0EibEh1pBxwe5lfY1SdwS0Z4VC_WAwwbYmfM=s64",
      "userId": "04485634194964420384"
     },
     "user_tz": -120
    },
    "id": "7hD_k_Erf6Ge",
    "outputId": "70a97cd6-8aba-4438-97af-e7a52966e89b"
   },
   "outputs": [
    {
     "data": {
      "text/plain": [
       "authors              0\n",
       "category             0\n",
       "headline             0\n",
       "link                 0\n",
       "short_description    0\n",
       "dtype: int64"
      ]
     },
     "execution_count": 12,
     "metadata": {
      "tags": []
     },
     "output_type": "execute_result"
    }
   ],
   "source": [
    "## dimensions of the data\n",
    "## check for missing values\n",
    "data_df.isnull().sum()\n",
    "# if something is null (text is difficult to complete)\n",
    "#df.dropna(inplace=True)\n",
    "#len(df)"
   ]
  },
  {
   "cell_type": "markdown",
   "metadata": {
    "colab_type": "text",
    "id": "0X2vv4ctktvR"
   },
   "source": [
    "## Eliminate White strings:\n",
    "Ex: '      ': too many spaces without characters"
   ]
  },
  {
   "cell_type": "code",
   "execution_count": 13,
   "metadata": {
    "colab": {
     "base_uri": "https://localhost:8080/",
     "height": 34
    },
    "colab_type": "code",
    "executionInfo": {
     "elapsed": 1111,
     "status": "ok",
     "timestamp": 1571402130226,
     "user": {
      "displayName": "Erika Gomes",
      "photoUrl": "https://lh3.googleusercontent.com/a-/AAuE7mBti3X0EibEh1pBxwe5lfY1SdwS0Z4VC_WAwwbYmfM=s64",
      "userId": "04485634194964420384"
     },
     "user_tz": -120
    },
    "id": "Ybtv1VzDhcZV",
    "outputId": "3dc0cef5-7e61-4a50-ada1-4856f9ca9ceb"
   },
   "outputs": [
    {
     "name": "stdout",
     "output_type": "stream",
     "text": [
      "0 blanks:  []\n"
     ]
    }
   ],
   "source": [
    "blanks = []  # start with an empty list\n",
    "\n",
    "for i,lb,rv in data_df[['authors', 'category']].itertuples():  # iterate over the DataFrame\n",
    "    if type(rv)==str:            # avoid NaN values\n",
    "        if rv.isspace():         # test 'review' for whitespace\n",
    "            blanks.append(i)     # add matching index numbers to the list\n",
    "        \n",
    "print(len(blanks), 'blanks: ', blanks)"
   ]
  },
  {
   "cell_type": "markdown",
   "metadata": {
    "colab_type": "text",
    "id": "f0jEbnWGltKX"
   },
   "source": [
    "### For some reason for headline, I can not count white strings"
   ]
  },
  {
   "cell_type": "code",
   "execution_count": 18,
   "metadata": {
    "colab": {
     "base_uri": "https://localhost:8080/",
     "height": 34
    },
    "colab_type": "code",
    "executionInfo": {
     "elapsed": 907,
     "status": "ok",
     "timestamp": 1571402258224,
     "user": {
      "displayName": "Erika Gomes",
      "photoUrl": "https://lh3.googleusercontent.com/a-/AAuE7mBti3X0EibEh1pBxwe5lfY1SdwS0Z4VC_WAwwbYmfM=s64",
      "userId": "04485634194964420384"
     },
     "user_tz": -120
    },
    "id": "x2pfsUp4lOY1",
    "outputId": "f9fdea61-0023-4517-891a-fd599c6e49fb"
   },
   "outputs": [
    {
     "name": "stdout",
     "output_type": "stream",
     "text": [
      "0 blanks:  []\n"
     ]
    }
   ],
   "source": [
    "blanks = []  # start with an empty list\n",
    "\n",
    "for i,lb,rv in data_df[['link', 'headline']].itertuples():  # iterate over the DataFrame\n",
    "    if type(rv)==str:            # avoid NaN values\n",
    "        if rv.isspace():         # test 'review' for whitespace\n",
    "            blanks.append(i)     # add matching index numbers to the list\n",
    "        \n",
    "print(len(blanks), 'blanks: ', blanks)"
   ]
  },
  {
   "cell_type": "code",
   "execution_count": 19,
   "metadata": {
    "colab": {
     "base_uri": "https://localhost:8080/",
     "height": 34
    },
    "colab_type": "code",
    "executionInfo": {
     "elapsed": 950,
     "status": "ok",
     "timestamp": 1571402287105,
     "user": {
      "displayName": "Erika Gomes",
      "photoUrl": "https://lh3.googleusercontent.com/a-/AAuE7mBti3X0EibEh1pBxwe5lfY1SdwS0Z4VC_WAwwbYmfM=s64",
      "userId": "04485634194964420384"
     },
     "user_tz": -120
    },
    "id": "G9scDodbk578",
    "outputId": "317a7f5b-1af1-4a8d-dfad-be81c9476e31"
   },
   "outputs": [
    {
     "name": "stdout",
     "output_type": "stream",
     "text": [
      "0 blanks:  []\n"
     ]
    }
   ],
   "source": [
    "blanks = []  # start with an empty list\n",
    "\n",
    "for i,lb,rv in data_df[['link',\t'short_description']].itertuples():  # iterate over the DataFrame\n",
    "    if type(rv)==str:            # avoid NaN values\n",
    "        if rv.isspace():         # test 'review' for whitespace\n",
    "            blanks.append(i)     # add matching index numbers to the list\n",
    "        \n",
    "print(len(blanks), 'blanks: ', blanks)"
   ]
  },
  {
   "cell_type": "markdown",
   "metadata": {
    "colab_type": "text",
    "id": "yyqFo_hrmMl0"
   },
   "source": [
    "(If there are blanks) Next we'll pass our list of index numbers to the **.drop()** method, and set `inplace=True` to make the change permanent."
   ]
  },
  {
   "cell_type": "code",
   "execution_count": 20,
   "metadata": {
    "colab": {
     "base_uri": "https://localhost:8080/",
     "height": 34
    },
    "colab_type": "code",
    "executionInfo": {
     "elapsed": 1103,
     "status": "ok",
     "timestamp": 1571402310845,
     "user": {
      "displayName": "Erika Gomes",
      "photoUrl": "https://lh3.googleusercontent.com/a-/AAuE7mBti3X0EibEh1pBxwe5lfY1SdwS0Z4VC_WAwwbYmfM=s64",
      "userId": "04485634194964420384"
     },
     "user_tz": -120
    },
    "id": "t2r9v7sVmGNS",
    "outputId": "1322c590-983c-48bc-b3b0-23f30c82c66d"
   },
   "outputs": [
    {
     "data": {
      "text/plain": [
       "65000"
      ]
     },
     "execution_count": 20,
     "metadata": {
      "tags": []
     },
     "output_type": "execute_result"
    }
   ],
   "source": [
    "data_df.drop(blanks, inplace=True)\n",
    "\n",
    "len(data_df)"
   ]
  },
  {
   "cell_type": "code",
   "execution_count": 21,
   "metadata": {
    "colab": {
     "base_uri": "https://localhost:8080/",
     "height": 34
    },
    "colab_type": "code",
    "executionInfo": {
     "elapsed": 746,
     "status": "ok",
     "timestamp": 1571402313204,
     "user": {
      "displayName": "Erika Gomes",
      "photoUrl": "https://lh3.googleusercontent.com/a-/AAuE7mBti3X0EibEh1pBxwe5lfY1SdwS0Z4VC_WAwwbYmfM=s64",
      "userId": "04485634194964420384"
     },
     "user_tz": -120
    },
    "id": "pbOcceCCdLtv",
    "outputId": "70d6c787-5805-43dc-9f4e-6185e47b2f1f"
   },
   "outputs": [
    {
     "data": {
      "text/plain": [
       "Index(['authors', 'category', 'headline', 'link', 'short_description'], dtype='object')"
      ]
     },
     "execution_count": 21,
     "metadata": {
      "tags": []
     },
     "output_type": "execute_result"
    }
   ],
   "source": [
    "data_df.columns"
   ]
  },
  {
   "cell_type": "markdown",
   "metadata": {
    "colab_type": "text",
    "id": "AbsQezK9Wn_0"
   },
   "source": [
    "## **Eliminate undesirable characters**"
   ]
  },
  {
   "cell_type": "code",
   "execution_count": null,
   "metadata": {
    "colab": {},
    "colab_type": "code",
    "id": "ONeBcaobWnFB"
   },
   "outputs": [],
   "source": [
    "def standardize_text(df, text_field):\n",
    "    df[text_field] = df[text_field].str.replace(r\"http\\S+\", \"\")\n",
    "    df[text_field] = df[text_field].str.replace(r\"http\", \"\")\n",
    "    df[text_field] = df[text_field].str.replace(r\"@\\S+\", \"\")\n",
    "    df[text_field] = df[text_field].str.replace(r\"\\n\", \"\")\n",
    "    df[text_field] = df[text_field].str.replace(r\"[^A-Za-z0-9(),!?@\\'\\`\\\"\\_\\n]\", \" \")\n",
    "    df[text_field] = df[text_field].str.replace(r\"@\", \"at\")\n",
    "    df[text_field] = df[text_field].str.lower()\n",
    "    return df\n",
    "\n",
    "data_df_1 = standardize_text(data_df, \"headline\")\n",
    "data_df_1 = standardize_text(data_df_1, \"authors\")\n",
    "data_df = standardize_text(data_df_1, \"short_description\")"
   ]
  },
  {
   "cell_type": "code",
   "execution_count": 23,
   "metadata": {
    "colab": {
     "base_uri": "https://localhost:8080/",
     "height": 204
    },
    "colab_type": "code",
    "executionInfo": {
     "elapsed": 1376,
     "status": "ok",
     "timestamp": 1571402327626,
     "user": {
      "displayName": "Erika Gomes",
      "photoUrl": "https://lh3.googleusercontent.com/a-/AAuE7mBti3X0EibEh1pBxwe5lfY1SdwS0Z4VC_WAwwbYmfM=s64",
      "userId": "04485634194964420384"
     },
     "user_tz": -120
    },
    "id": "DOdsElQAXJnY",
    "outputId": "e9d53a5c-18f7-4b89-9f0c-eac665212eac"
   },
   "outputs": [
    {
     "data": {
      "text/html": [
       "<div>\n",
       "<style scoped>\n",
       "    .dataframe tbody tr th:only-of-type {\n",
       "        vertical-align: middle;\n",
       "    }\n",
       "\n",
       "    .dataframe tbody tr th {\n",
       "        vertical-align: top;\n",
       "    }\n",
       "\n",
       "    .dataframe thead th {\n",
       "        text-align: right;\n",
       "    }\n",
       "</style>\n",
       "<table border=\"1\" class=\"dataframe\">\n",
       "  <thead>\n",
       "    <tr style=\"text-align: right;\">\n",
       "      <th></th>\n",
       "      <th>authors</th>\n",
       "      <th>category</th>\n",
       "      <th>headline</th>\n",
       "      <th>link</th>\n",
       "      <th>short_description</th>\n",
       "    </tr>\n",
       "  </thead>\n",
       "  <tbody>\n",
       "    <tr>\n",
       "      <th>0</th>\n",
       "      <td>priscilla frank</td>\n",
       "      <td>A</td>\n",
       "      <td>'rice ko' is what happens when artists recreat...</td>\n",
       "      <td>https://www.huffingtonpost.com/entry/artists-r...</td>\n",
       "      <td>and it's all a delicious homage to a 1950s art...</td>\n",
       "    </tr>\n",
       "    <tr>\n",
       "      <th>1</th>\n",
       "      <td>jocelyn jeffery, contributorfounder editor in ...</td>\n",
       "      <td>A</td>\n",
       "      <td>fragments of femininity  a comparative analysi...</td>\n",
       "      <td>https://www.huffingtonpost.com/entry/fragments...</td>\n",
       "      <td>for smith and emin, the body is in perpetual m...</td>\n",
       "    </tr>\n",
       "    <tr>\n",
       "      <th>2</th>\n",
       "      <td>danny groner, contributorfreelance journalist</td>\n",
       "      <td>A</td>\n",
       "      <td>we appreciate arrested development better toda...</td>\n",
       "      <td>https://www.huffingtonpost.com/entry/we-apprec...</td>\n",
       "      <td>the internet has unquestionably reformed how w...</td>\n",
       "    </tr>\n",
       "    <tr>\n",
       "      <th>3</th>\n",
       "      <td>priscilla frank</td>\n",
       "      <td>A</td>\n",
       "      <td>the 10 must see sundance films for art lovers</td>\n",
       "      <td>https://www.huffingtonpost.com/entry/new-front...</td>\n",
       "      <td></td>\n",
       "    </tr>\n",
       "    <tr>\n",
       "      <th>4</th>\n",
       "      <td>larissa bates, contributorcontributor</td>\n",
       "      <td>A</td>\n",
       "      <td>vera iliatova on the imageblog</td>\n",
       "      <td>https://www.huffingtonpost.com/entry/vera-ilia...</td>\n",
       "      <td>simple men, 2013, oil on canvas, 42 by 36 inch...</td>\n",
       "    </tr>\n",
       "  </tbody>\n",
       "</table>\n",
       "</div>"
      ],
      "text/plain": [
       "                                             authors  ...                                  short_description\n",
       "0                                    priscilla frank  ...  and it's all a delicious homage to a 1950s art...\n",
       "1  jocelyn jeffery, contributorfounder editor in ...  ...  for smith and emin, the body is in perpetual m...\n",
       "2      danny groner, contributorfreelance journalist  ...  the internet has unquestionably reformed how w...\n",
       "3                                    priscilla frank  ...                                                   \n",
       "4              larissa bates, contributorcontributor  ...  simple men, 2013, oil on canvas, 42 by 36 inch...\n",
       "\n",
       "[5 rows x 5 columns]"
      ]
     },
     "execution_count": 23,
     "metadata": {
      "tags": []
     },
     "output_type": "execute_result"
    }
   ],
   "source": [
    "data_df.head()"
   ]
  },
  {
   "cell_type": "code",
   "execution_count": 24,
   "metadata": {
    "colab": {
     "base_uri": "https://localhost:8080/",
     "height": 221
    },
    "colab_type": "code",
    "executionInfo": {
     "elapsed": 785,
     "status": "ok",
     "timestamp": 1571402329286,
     "user": {
      "displayName": "Erika Gomes",
      "photoUrl": "https://lh3.googleusercontent.com/a-/AAuE7mBti3X0EibEh1pBxwe5lfY1SdwS0Z4VC_WAwwbYmfM=s64",
      "userId": "04485634194964420384"
     },
     "user_tz": -120
    },
    "id": "njdzWEyWerlB",
    "outputId": "1c38af6f-4a84-4d20-8fbe-835698be16c2"
   },
   "outputs": [
    {
     "data": {
      "text/plain": [
       "category\n",
       "A     2000\n",
       "B     2000\n",
       "C     2000\n",
       "D    10000\n",
       "E     5000\n",
       "F    10000\n",
       "G    20000\n",
       "H     2000\n",
       "I     2000\n",
       "J    10000\n",
       "Name: link, dtype: int64"
      ]
     },
     "execution_count": 24,
     "metadata": {
      "tags": []
     },
     "output_type": "execute_result"
    }
   ],
   "source": [
    "data_df.groupby(\"category\")['link'].count()"
   ]
  },
  {
   "cell_type": "markdown",
   "metadata": {
    "colab_type": "text",
    "id": "bOC5RpVHmj0j"
   },
   "source": [
    "## Take a quick look at the `label` column:"
   ]
  },
  {
   "cell_type": "code",
   "execution_count": 25,
   "metadata": {
    "colab": {
     "base_uri": "https://localhost:8080/",
     "height": 204
    },
    "colab_type": "code",
    "executionInfo": {
     "elapsed": 790,
     "status": "ok",
     "timestamp": 1571402338202,
     "user": {
      "displayName": "Erika Gomes",
      "photoUrl": "https://lh3.googleusercontent.com/a-/AAuE7mBti3X0EibEh1pBxwe5lfY1SdwS0Z4VC_WAwwbYmfM=s64",
      "userId": "04485634194964420384"
     },
     "user_tz": -120
    },
    "id": "DDlrmuUHmlPT",
    "outputId": "6ab74254-65ce-40a4-f587-629ff2cfce0e"
   },
   "outputs": [
    {
     "data": {
      "text/plain": [
       "G    20000\n",
       "D    10000\n",
       "F    10000\n",
       "J    10000\n",
       "E     5000\n",
       "A     2000\n",
       "I     2000\n",
       "H     2000\n",
       "C     2000\n",
       "B     2000\n",
       "Name: category, dtype: int64"
      ]
     },
     "execution_count": 25,
     "metadata": {
      "tags": []
     },
     "output_type": "execute_result"
    }
   ],
   "source": [
    "data_df['category'].value_counts()"
   ]
  },
  {
   "cell_type": "code",
   "execution_count": 26,
   "metadata": {
    "colab": {
     "base_uri": "https://localhost:8080/",
     "height": 204
    },
    "colab_type": "code",
    "executionInfo": {
     "elapsed": 694,
     "status": "ok",
     "timestamp": 1571402340598,
     "user": {
      "displayName": "Erika Gomes",
      "photoUrl": "https://lh3.googleusercontent.com/a-/AAuE7mBti3X0EibEh1pBxwe5lfY1SdwS0Z4VC_WAwwbYmfM=s64",
      "userId": "04485634194964420384"
     },
     "user_tz": -120
    },
    "id": "T02MCoXDoJ_E",
    "outputId": "539f6cc5-7522-44cd-e3a0-f26a2fc59c19"
   },
   "outputs": [
    {
     "data": {
      "text/plain": [
       "G    0.307692\n",
       "D    0.153846\n",
       "F    0.153846\n",
       "J    0.153846\n",
       "E    0.076923\n",
       "A    0.030769\n",
       "I    0.030769\n",
       "H    0.030769\n",
       "C    0.030769\n",
       "B    0.030769\n",
       "Name: category, dtype: float64"
      ]
     },
     "execution_count": 26,
     "metadata": {
      "tags": []
     },
     "output_type": "execute_result"
    }
   ],
   "source": [
    "data_df['category'].value_counts()/len(data_df)"
   ]
  },
  {
   "cell_type": "markdown",
   "metadata": {
    "colab_type": "text",
    "id": "vDsaycTnm9RV"
   },
   "source": [
    "## Split the data into train & test sets:"
   ]
  },
  {
   "cell_type": "code",
   "execution_count": null,
   "metadata": {
    "colab": {},
    "colab_type": "code",
    "id": "wHUO3_MLm9oP"
   },
   "outputs": [],
   "source": [
    "from sklearn.model_selection import train_test_split\n",
    "\n",
    "X = data_df['headline'] #.drop(columns = 'category') # with link we got an error\n",
    "y = data_df['category']\n",
    "\n",
    "X_train, X_test, y_train, y_test = train_test_split(X, y, test_size=0.33, stratify = y,random_state=42)"
   ]
  },
  {
   "cell_type": "code",
   "execution_count": 28,
   "metadata": {
    "colab": {
     "base_uri": "https://localhost:8080/",
     "height": 204
    },
    "colab_type": "code",
    "executionInfo": {
     "elapsed": 1039,
     "status": "ok",
     "timestamp": 1571402348257,
     "user": {
      "displayName": "Erika Gomes",
      "photoUrl": "https://lh3.googleusercontent.com/a-/AAuE7mBti3X0EibEh1pBxwe5lfY1SdwS0Z4VC_WAwwbYmfM=s64",
      "userId": "04485634194964420384"
     },
     "user_tz": -120
    },
    "id": "0Ft21q64oHMo",
    "outputId": "1dd7addd-6214-4b57-d7dc-1b7d22397ba8"
   },
   "outputs": [
    {
     "data": {
      "text/plain": [
       "G    0.206154\n",
       "D    0.103077\n",
       "F    0.103077\n",
       "J    0.103077\n",
       "E    0.051538\n",
       "A    0.020615\n",
       "I    0.020615\n",
       "H    0.020615\n",
       "C    0.020615\n",
       "B    0.020615\n",
       "Name: category, dtype: float64"
      ]
     },
     "execution_count": 28,
     "metadata": {
      "tags": []
     },
     "output_type": "execute_result"
    }
   ],
   "source": [
    "y_train.value_counts()/len(data_df)"
   ]
  },
  {
   "cell_type": "code",
   "execution_count": 29,
   "metadata": {
    "colab": {
     "base_uri": "https://localhost:8080/",
     "height": 204
    },
    "colab_type": "code",
    "executionInfo": {
     "elapsed": 811,
     "status": "ok",
     "timestamp": 1571402354071,
     "user": {
      "displayName": "Erika Gomes",
      "photoUrl": "https://lh3.googleusercontent.com/a-/AAuE7mBti3X0EibEh1pBxwe5lfY1SdwS0Z4VC_WAwwbYmfM=s64",
      "userId": "04485634194964420384"
     },
     "user_tz": -120
    },
    "id": "lBmPBvKQoR0p",
    "outputId": "dc40a2d5-74ac-4532-f3c2-e744aa087218"
   },
   "outputs": [
    {
     "data": {
      "text/plain": [
       "G    0.101538\n",
       "F    0.050769\n",
       "D    0.050769\n",
       "J    0.050769\n",
       "E    0.025385\n",
       "C    0.010154\n",
       "B    0.010154\n",
       "A    0.010154\n",
       "I    0.010154\n",
       "H    0.010154\n",
       "Name: category, dtype: float64"
      ]
     },
     "execution_count": 29,
     "metadata": {
      "tags": []
     },
     "output_type": "execute_result"
    }
   ],
   "source": [
    "y_test.value_counts()/len(data_df)"
   ]
  },
  {
   "cell_type": "markdown",
   "metadata": {
    "colab_type": "text",
    "id": "0aYu-uAchD0n"
   },
   "source": [
    "## **TFIDF Bag of Words**\n",
    "Let's try a slightly more subtle approach. On top of our bag of words model, we use a TF-IDF (Term Frequency, Inverse Document Frequency) which means weighing words by how frequent they are in our dataset, discounting words that are too frequent, as they just add to the noise."
   ]
  },
  {
   "cell_type": "markdown",
   "metadata": {
    "colab_type": "text",
    "id": "AQHQJ4kFnVsL"
   },
   "source": [
    "## Build pipelines to vectorize the data, then train and fit a model\n",
    "\n",
    "We'll develop a selection of pipelines, each with a different model.\n"
   ]
  },
  {
   "cell_type": "code",
   "execution_count": null,
   "metadata": {
    "colab": {},
    "colab_type": "code",
    "id": "ujX2bG2Rmr-o"
   },
   "outputs": [],
   "source": [
    "\n",
    "from sklearn.pipeline import Pipeline\n",
    "from sklearn.feature_extraction.text import TfidfVectorizer\n",
    "from sklearn.naive_bayes import MultinomialNB\n",
    "from sklearn.svm import LinearSVC\n",
    "\n",
    "# Naïve Bayes:\n",
    "text_clf_nb = Pipeline([('tfidf', TfidfVectorizer()),\n",
    "                     ('clf', MultinomialNB()),\n",
    "])\n",
    "\n",
    "# Linear SVC:\n",
    "text_clf_lsvc = Pipeline([('tfidf', TfidfVectorizer()),\n",
    "                     ('clf', LinearSVC()),\n",
    "])"
   ]
  },
  {
   "cell_type": "markdown",
   "metadata": {
    "colab_type": "text",
    "id": "-hcjdDwpngQt"
   },
   "source": [
    "## Feed the training data through the first pipeline\n",
    "We'll run naïve Bayes first"
   ]
  },
  {
   "cell_type": "code",
   "execution_count": 32,
   "metadata": {
    "colab": {
     "base_uri": "https://localhost:8080/",
     "height": 306
    },
    "colab_type": "code",
    "executionInfo": {
     "elapsed": 1456,
     "status": "ok",
     "timestamp": 1571402368597,
     "user": {
      "displayName": "Erika Gomes",
      "photoUrl": "https://lh3.googleusercontent.com/a-/AAuE7mBti3X0EibEh1pBxwe5lfY1SdwS0Z4VC_WAwwbYmfM=s64",
      "userId": "04485634194964420384"
     },
     "user_tz": -120
    },
    "id": "ZwTyk-PMnS2_",
    "outputId": "2b128de0-226c-4738-862c-6f54fab170a1"
   },
   "outputs": [
    {
     "data": {
      "text/plain": [
       "Pipeline(memory=None,\n",
       "         steps=[('tfidf',\n",
       "                 TfidfVectorizer(analyzer='word', binary=False,\n",
       "                                 decode_error='strict',\n",
       "                                 dtype=<class 'numpy.float64'>,\n",
       "                                 encoding='utf-8', input='content',\n",
       "                                 lowercase=True, max_df=1.0, max_features=None,\n",
       "                                 min_df=1, ngram_range=(1, 1), norm='l2',\n",
       "                                 preprocessor=None, smooth_idf=True,\n",
       "                                 stop_words=None, strip_accents=None,\n",
       "                                 sublinear_tf=False,\n",
       "                                 token_pattern='(?u)\\\\b\\\\w\\\\w+\\\\b',\n",
       "                                 tokenizer=None, use_idf=True,\n",
       "                                 vocabulary=None)),\n",
       "                ('clf',\n",
       "                 MultinomialNB(alpha=1.0, class_prior=None, fit_prior=True))],\n",
       "         verbose=False)"
      ]
     },
     "execution_count": 32,
     "metadata": {
      "tags": []
     },
     "output_type": "execute_result"
    }
   ],
   "source": [
    "text_clf_nb.fit(X_train, y_train)"
   ]
  },
  {
   "cell_type": "code",
   "execution_count": null,
   "metadata": {
    "colab": {},
    "colab_type": "code",
    "id": "Rm5sn6AAhYAx"
   },
   "outputs": [],
   "source": [
    "#Tfid\n",
    "def tfidf(data):\n",
    "    tfidf_vectorizer = TfidfVectorizer()\n",
    "\n",
    "    train = tfidf_vectorizer.fit_transform(data)\n",
    "\n",
    "    return train, tfidf_vectorizer\n"
   ]
  },
  {
   "cell_type": "markdown",
   "metadata": {
    "colab_type": "text",
    "id": "Sxh4exTFpISX"
   },
   "source": [
    "## Run predictions and analyze the results (naïve Bayes)"
   ]
  },
  {
   "cell_type": "code",
   "execution_count": null,
   "metadata": {
    "colab": {},
    "colab_type": "code",
    "id": "FcgBk0zApGQO"
   },
   "outputs": [],
   "source": [
    "# Form a prediction set\n",
    "predictions = text_clf_nb.predict(X_test)"
   ]
  },
  {
   "cell_type": "code",
   "execution_count": 35,
   "metadata": {
    "colab": {
     "base_uri": "https://localhost:8080/",
     "height": 187
    },
    "colab_type": "code",
    "executionInfo": {
     "elapsed": 947,
     "status": "ok",
     "timestamp": 1571402389856,
     "user": {
      "displayName": "Erika Gomes",
      "photoUrl": "https://lh3.googleusercontent.com/a-/AAuE7mBti3X0EibEh1pBxwe5lfY1SdwS0Z4VC_WAwwbYmfM=s64",
      "userId": "04485634194964420384"
     },
     "user_tz": -120
    },
    "id": "dU7cOFL0o-4k",
    "outputId": "700a77e7-36e2-45bc-9d97-5607f0883962"
   },
   "outputs": [
    {
     "name": "stdout",
     "output_type": "stream",
     "text": [
      "[[   5    0    0  168    0  135  273    0    0   79]\n",
      " [   0    0    0   22    2   72  498    0    0   66]\n",
      " [   0    0   27  101    0    8  476    0    0   48]\n",
      " [   0    0    0 1703   11  147 1221    0    0  218]\n",
      " [   0    0    0  128  629  217  375    0    0  301]\n",
      " [   0    0    0   73    3 2752  302    0    0  170]\n",
      " [   0    0    0   70    0   13 6468    0    0   49]\n",
      " [   0    0    2   23    0    7  608    1    0   19]\n",
      " [   0    0    1   70    4   74  396    0    1  114]\n",
      " [   0    0    0   84    6  106  538    0    0 2566]]\n"
     ]
    }
   ],
   "source": [
    "# Report the confusion matrix\n",
    "from sklearn import metrics\n",
    "print(metrics.confusion_matrix(y_test,predictions))"
   ]
  },
  {
   "cell_type": "code",
   "execution_count": 36,
   "metadata": {
    "colab": {
     "base_uri": "https://localhost:8080/",
     "height": 360
    },
    "colab_type": "code",
    "executionInfo": {
     "elapsed": 1525,
     "status": "ok",
     "timestamp": 1571402400784,
     "user": {
      "displayName": "Erika Gomes",
      "photoUrl": "https://lh3.googleusercontent.com/a-/AAuE7mBti3X0EibEh1pBxwe5lfY1SdwS0Z4VC_WAwwbYmfM=s64",
      "userId": "04485634194964420384"
     },
     "user_tz": -120
    },
    "id": "dH_XqmIWpf-Y",
    "outputId": "4f345b99-6be4-4e86-9570-8496ed6f5140"
   },
   "outputs": [
    {
     "name": "stdout",
     "output_type": "stream",
     "text": [
      "              precision    recall  f1-score   support\n",
      "\n",
      "           A       1.00      0.01      0.02       660\n",
      "           B       0.00      0.00      0.00       660\n",
      "           C       0.90      0.04      0.08       660\n",
      "           D       0.70      0.52      0.59      3300\n",
      "           E       0.96      0.38      0.55      1650\n",
      "           F       0.78      0.83      0.81      3300\n",
      "           G       0.58      0.98      0.73      6600\n",
      "           H       1.00      0.00      0.00       660\n",
      "           I       1.00      0.00      0.00       660\n",
      "           J       0.71      0.78      0.74      3300\n",
      "\n",
      "    accuracy                           0.66     21450\n",
      "   macro avg       0.76      0.35      0.35     21450\n",
      "weighted avg       0.71      0.66      0.60     21450\n",
      "\n"
     ]
    },
    {
     "name": "stderr",
     "output_type": "stream",
     "text": [
      "/usr/local/lib/python3.6/dist-packages/sklearn/metrics/classification.py:1437: UndefinedMetricWarning: Precision and F-score are ill-defined and being set to 0.0 in labels with no predicted samples.\n",
      "  'precision', 'predicted', average, warn_for)\n"
     ]
    }
   ],
   "source": [
    "# Print a classification report\n",
    "print(metrics.classification_report(y_test,predictions))"
   ]
  },
  {
   "cell_type": "code",
   "execution_count": 37,
   "metadata": {
    "colab": {
     "base_uri": "https://localhost:8080/",
     "height": 34
    },
    "colab_type": "code",
    "executionInfo": {
     "elapsed": 835,
     "status": "ok",
     "timestamp": 1571402406292,
     "user": {
      "displayName": "Erika Gomes",
      "photoUrl": "https://lh3.googleusercontent.com/a-/AAuE7mBti3X0EibEh1pBxwe5lfY1SdwS0Z4VC_WAwwbYmfM=s64",
      "userId": "04485634194964420384"
     },
     "user_tz": -120
    },
    "id": "INqyF65qqr02",
    "outputId": "ae314b5a-f98e-4f60-f3e6-43965fd6feda"
   },
   "outputs": [
    {
     "name": "stdout",
     "output_type": "stream",
     "text": [
      "0.6597668997668997\n"
     ]
    }
   ],
   "source": [
    "# Print the overall accuracy\n",
    "print(metrics.accuracy_score(y_test,predictions))"
   ]
  },
  {
   "cell_type": "markdown",
   "metadata": {
    "colab_type": "text",
    "id": "RdsaSWCUq0bY"
   },
   "source": [
    "## Feed the training data through the second pipeline\n",
    "Next we'll run Linear SVC"
   ]
  },
  {
   "cell_type": "code",
   "execution_count": 38,
   "metadata": {
    "colab": {
     "base_uri": "https://localhost:8080/",
     "height": 374
    },
    "colab_type": "code",
    "executionInfo": {
     "elapsed": 2457,
     "status": "ok",
     "timestamp": 1571402419192,
     "user": {
      "displayName": "Erika Gomes",
      "photoUrl": "https://lh3.googleusercontent.com/a-/AAuE7mBti3X0EibEh1pBxwe5lfY1SdwS0Z4VC_WAwwbYmfM=s64",
      "userId": "04485634194964420384"
     },
     "user_tz": -120
    },
    "id": "Yv3_A4aeqy9f",
    "outputId": "bb9ca9b8-c85a-4352-b419-8aa4535c42c0"
   },
   "outputs": [
    {
     "data": {
      "text/plain": [
       "Pipeline(memory=None,\n",
       "         steps=[('tfidf',\n",
       "                 TfidfVectorizer(analyzer='word', binary=False,\n",
       "                                 decode_error='strict',\n",
       "                                 dtype=<class 'numpy.float64'>,\n",
       "                                 encoding='utf-8', input='content',\n",
       "                                 lowercase=True, max_df=1.0, max_features=None,\n",
       "                                 min_df=1, ngram_range=(1, 1), norm='l2',\n",
       "                                 preprocessor=None, smooth_idf=True,\n",
       "                                 stop_words=None, strip_accents=None,\n",
       "                                 sublinear_tf=False,\n",
       "                                 token_pattern='(?u)\\\\b\\\\w\\\\w+\\\\b',\n",
       "                                 tokenizer=None, use_idf=True,\n",
       "                                 vocabulary=None)),\n",
       "                ('clf',\n",
       "                 LinearSVC(C=1.0, class_weight=None, dual=True,\n",
       "                           fit_intercept=True, intercept_scaling=1,\n",
       "                           loss='squared_hinge', max_iter=1000,\n",
       "                           multi_class='ovr', penalty='l2', random_state=None,\n",
       "                           tol=0.0001, verbose=0))],\n",
       "         verbose=False)"
      ]
     },
     "execution_count": 38,
     "metadata": {
      "tags": []
     },
     "output_type": "execute_result"
    }
   ],
   "source": [
    "text_clf_lsvc.fit(X_train, y_train)"
   ]
  },
  {
   "cell_type": "code",
   "execution_count": null,
   "metadata": {
    "colab": {},
    "colab_type": "code",
    "id": "9p6e52bdq6XK"
   },
   "outputs": [],
   "source": [
    "# Form a prediction set\n",
    "predictions = text_clf_lsvc.predict(X_test)"
   ]
  },
  {
   "cell_type": "code",
   "execution_count": 40,
   "metadata": {
    "colab": {
     "base_uri": "https://localhost:8080/",
     "height": 187
    },
    "colab_type": "code",
    "executionInfo": {
     "elapsed": 797,
     "status": "ok",
     "timestamp": 1571402429024,
     "user": {
      "displayName": "Erika Gomes",
      "photoUrl": "https://lh3.googleusercontent.com/a-/AAuE7mBti3X0EibEh1pBxwe5lfY1SdwS0Z4VC_WAwwbYmfM=s64",
      "userId": "04485634194964420384"
     },
     "user_tz": -120
    },
    "id": "dnFh6oXzq-5Z",
    "outputId": "28ecd343-4289-465e-8df3-9a7d9fa88e7e"
   },
   "outputs": [
    {
     "name": "stdout",
     "output_type": "stream",
     "text": [
      "[[ 288   12    2   99    5   95   76    8   15   60]\n",
      " [   6  339   13   32    9   38  122   21   30   50]\n",
      " [   1    7  358   73    4   11  105    6   52   43]\n",
      " [  42   12   53 2316   46  138  431   13   24  225]\n",
      " [   9    5    4   46 1344   71   40    2   10  119]\n",
      " [  25   16    4   91   42 2864  102    6   15  135]\n",
      " [  16   63   52  300   22   58 5826   98   18  147]\n",
      " [  10   18   17   52    1   11  224  289   10   28]\n",
      " [  11   32   47   54   11   64   92    8  264   77]\n",
      " [  20   20   11  135   64  133  147   10   23 2737]]\n"
     ]
    }
   ],
   "source": [
    "# Report the confusion matrix\n",
    "from sklearn import metrics\n",
    "print(metrics.confusion_matrix(y_test,predictions))"
   ]
  },
  {
   "cell_type": "code",
   "execution_count": 41,
   "metadata": {
    "colab": {
     "base_uri": "https://localhost:8080/",
     "height": 306
    },
    "colab_type": "code",
    "executionInfo": {
     "elapsed": 1434,
     "status": "ok",
     "timestamp": 1571402452387,
     "user": {
      "displayName": "Erika Gomes",
      "photoUrl": "https://lh3.googleusercontent.com/a-/AAuE7mBti3X0EibEh1pBxwe5lfY1SdwS0Z4VC_WAwwbYmfM=s64",
      "userId": "04485634194964420384"
     },
     "user_tz": -120
    },
    "id": "UlU4oHqCrUMF",
    "outputId": "33c7659d-b01c-41fb-a0cb-5b921590dfd1"
   },
   "outputs": [
    {
     "name": "stdout",
     "output_type": "stream",
     "text": [
      "              precision    recall  f1-score   support\n",
      "\n",
      "           A       0.67      0.44      0.53       660\n",
      "           B       0.65      0.51      0.57       660\n",
      "           C       0.64      0.54      0.59       660\n",
      "           D       0.72      0.70      0.71      3300\n",
      "           E       0.87      0.81      0.84      1650\n",
      "           F       0.82      0.87      0.84      3300\n",
      "           G       0.81      0.88      0.85      6600\n",
      "           H       0.63      0.44      0.52       660\n",
      "           I       0.57      0.40      0.47       660\n",
      "           J       0.76      0.83      0.79      3300\n",
      "\n",
      "    accuracy                           0.78     21450\n",
      "   macro avg       0.71      0.64      0.67     21450\n",
      "weighted avg       0.77      0.78      0.77     21450\n",
      "\n"
     ]
    }
   ],
   "source": [
    "# Print a classification report\n",
    "print(metrics.classification_report(y_test,predictions))"
   ]
  },
  {
   "cell_type": "code",
   "execution_count": 42,
   "metadata": {
    "colab": {
     "base_uri": "https://localhost:8080/",
     "height": 34
    },
    "colab_type": "code",
    "executionInfo": {
     "elapsed": 770,
     "status": "ok",
     "timestamp": 1571402458108,
     "user": {
      "displayName": "Erika Gomes",
      "photoUrl": "https://lh3.googleusercontent.com/a-/AAuE7mBti3X0EibEh1pBxwe5lfY1SdwS0Z4VC_WAwwbYmfM=s64",
      "userId": "04485634194964420384"
     },
     "user_tz": -120
    },
    "id": "2IjPffqUrZdb",
    "outputId": "c3ba2163-9092-4fc2-df46-535d1ddcc6de"
   },
   "outputs": [
    {
     "name": "stdout",
     "output_type": "stream",
     "text": [
      "0.7750582750582751\n"
     ]
    }
   ],
   "source": [
    "# Print the overall accuracy\n",
    "print(metrics.accuracy_score(y_test,predictions))"
   ]
  },
  {
   "cell_type": "markdown",
   "metadata": {
    "colab_type": "text",
    "id": "CiDIJvpA0IlE"
   },
   "source": [
    "## Advanced Topic - Adding Stopwords to CountVectorizer\n",
    "By default, **CountVectorizer** and **TfidfVectorizer** do *not* filter stopwords. However, they offer some optional settings, including passing in your own stopword list.\n",
    "<div class=\"alert alert-info\" style=\"margin: 20px\">CAUTION: There are some [known issues](http://aclweb.org/anthology/W18-2502) using Scikit-learn's built-in stopwords list. Some words that are filtered may in fact aid in classification. In this section we'll pass in our own stopword list, so that we know exactly what's being filtered.</div>"
   ]
  },
  {
   "cell_type": "markdown",
   "metadata": {
    "colab_type": "text",
    "id": "Mjai_Tbn0jWq"
   },
   "source": [
    "The [CountVectorizer](https://scikit-learn.org/stable/modules/generated/sklearn.feature_extraction.text.CountVectorizer.html) class accepts the following arguments:\n",
    "> *CountVectorizer(input='content', encoding='utf-8', decode_error='strict', strip_accents=None, lowercase=True, preprocessor=None, tokenizer=None, **stop_words=None**, token_pattern='(?u)\\b\\w\\w+\\b', ngram_range=(1, 1), analyzer='word', max_df=1.0, min_df=1, max_features=None, vocabulary=None, binary=False, dtype=<class 'numpy.int64'>)*\n",
    "\n",
    "[TfidVectorizer](https://scikit-learn.org/stable/modules/generated/sklearn.feature_extraction.text.TfidfVectorizer.html) supports the same arguments and more. Under *stop_words* we have the following options:\n",
    "> stop_words : *string {'english'}, list, or None (default)*\n",
    "\n",
    "That is, we can run `TfidVectorizer(stop_words='english')` to accept scikit-learn's built-in list,<br>\n",
    "or `TfidVectorizer(stop_words=[a, and, the])` to filter these three words. In practice we would assign our list to a variable and pass that in instead."
   ]
  },
  {
   "cell_type": "markdown",
   "metadata": {
    "colab_type": "text",
    "id": "1M7Z3Qck0oPs"
   },
   "source": [
    "Scikit-learn's built-in list contains 318 stopwords:\n",
    "> <pre>from sklearn.feature_extraction import text\n",
    "> print(text.ENGLISH_STOP_WORDS)</pre>\n",
    "['a', 'about', 'above', 'across', 'after', 'afterwards', 'again', 'against', 'all', 'almost', 'alone', 'along', 'already', 'also', 'although', 'always', 'am', 'among', 'amongst', 'amoungst', 'amount', 'an', 'and', 'another', 'any', 'anyhow', 'anyone', 'anything', 'anyway', 'anywhere', 'are', 'around', 'as', 'at', 'back', 'be', 'became', 'because', 'become', 'becomes', 'becoming', 'been', 'before', 'beforehand', 'behind', 'being', 'below', 'beside', 'besides', 'between', 'beyond', 'bill', 'both', 'bottom', 'but', 'by', 'call', 'can', 'cannot', 'cant', 'co', 'con', 'could', 'couldnt', 'cry', 'de', 'describe', 'detail', 'do', 'done', 'down', 'due', 'during', 'each', 'eg', 'eight', 'either', 'eleven', 'else', 'elsewhere', 'empty', 'enough', 'etc', 'even', 'ever', 'every', 'everyone', 'everything', 'everywhere', 'except', 'few', 'fifteen', 'fifty', 'fill', 'find', 'fire', 'first', 'five', 'for', 'former', 'formerly', 'forty', 'found', 'four', 'from', 'front', 'full', 'further', 'get', 'give', 'go', 'had', 'has', 'hasnt', 'have', 'he', 'hence', 'her', 'here', 'hereafter', 'hereby', 'herein', 'hereupon', 'hers', 'herself', 'him', 'himself', 'his', 'how', 'however', 'hundred', 'i', 'ie', 'if', 'in', 'inc', 'indeed', 'interest', 'into', 'is', 'it', 'its', 'itself', 'keep', 'last', 'latter', 'latterly', 'least', 'less', 'ltd', 'made', 'many', 'may', 'me', 'meanwhile', 'might', 'mill', 'mine', 'more', 'moreover', 'most', 'mostly', 'move', 'much', 'must', 'my', 'myself', 'name', 'namely', 'neither', 'never', 'nevertheless', 'next', 'nine', 'no', 'nobody', 'none', 'noone', 'nor', 'not', 'nothing', 'now', 'nowhere', 'of', 'off', 'often', 'on', 'once', 'one', 'only', 'onto', 'or', 'other', 'others', 'otherwise', 'our', 'ours', 'ourselves', 'out', 'over', 'own', 'part', 'per', 'perhaps', 'please', 'put', 'rather', 're', 'same', 'see', 'seem', 'seemed', 'seeming', 'seems', 'serious', 'several', 'she', 'should', 'show', 'side', 'since', 'sincere', 'six', 'sixty', 'so', 'some', 'somehow', 'someone', 'something', 'sometime', 'sometimes', 'somewhere', 'still', 'such', 'system', 'take', 'ten', 'than', 'that', 'the', 'their', 'them', 'themselves', 'then', 'thence', 'there', 'thereafter', 'thereby', 'therefore', 'therein', 'thereupon', 'these', 'they', 'thick', 'thin', 'third', 'this', 'those', 'though', 'three', 'through', 'throughout', 'thru', 'thus', 'to', 'together', 'too', 'top', 'toward', 'towards', 'twelve', 'twenty', 'two', 'un', 'under', 'until', 'up', 'upon', 'us', 'very', 'via', 'was', 'we', 'well', 'were', 'what', 'whatever', 'when', 'whence', 'whenever', 'where', 'whereafter', 'whereas', 'whereby', 'wherein', 'whereupon', 'wherever', 'whether', 'which', 'while', 'whither', 'who', 'whoever', 'whole', 'whom', 'whose', 'why', 'will', 'with', 'within', 'without', 'would', 'yet', 'you', 'your', 'yours', 'yourself', 'yourselves']\n",
    "\n",
    "However, there are words in this list that may influence a classification of movie reviews. With this in mind, let's trim the list to just 60 words:"
   ]
  },
  {
   "cell_type": "code",
   "execution_count": null,
   "metadata": {
    "colab": {},
    "colab_type": "code",
    "id": "XPqtCNqI0HZl"
   },
   "outputs": [],
   "source": [
    "stopwords = ['a', 'about', 'an', 'and', 'are', 'as', 'at', 'be', 'been', 'but', 'by', 'can', \\\n",
    "             'even', 'ever', 'for', 'from', 'get', 'had', 'has', 'have', 'he', 'her', 'hers', 'his', \\\n",
    "             'how', 'i', 'if', 'in', 'into', 'is', 'it', 'its', 'just', 'me', 'my', 'of', 'on', 'or', \\\n",
    "             'see', 'seen', 'she', 'so', 'than', 'that', 'the', 'their', 'there', 'they', 'this', \\\n",
    "             'to', 'was', 'we', 'were', 'what', 'when', 'which', 'who', 'will', 'with', 'you']"
   ]
  },
  {
   "cell_type": "code",
   "execution_count": null,
   "metadata": {
    "colab": {},
    "colab_type": "code",
    "id": "7tFHJgLK1mOl"
   },
   "outputs": [],
   "source": [
    "from sklearn.pipeline import Pipeline\n",
    "from sklearn.feature_extraction.text import TfidfVectorizer\n",
    "from sklearn.naive_bayes import MultinomialNB\n",
    "from sklearn.svm import LinearSVC\n",
    "from sklearn import metrics"
   ]
  },
  {
   "cell_type": "code",
   "execution_count": 46,
   "metadata": {
    "colab": {
     "base_uri": "https://localhost:8080/",
     "height": 425
    },
    "colab_type": "code",
    "executionInfo": {
     "elapsed": 2362,
     "status": "ok",
     "timestamp": 1571402485355,
     "user": {
      "displayName": "Erika Gomes",
      "photoUrl": "https://lh3.googleusercontent.com/a-/AAuE7mBti3X0EibEh1pBxwe5lfY1SdwS0Z4VC_WAwwbYmfM=s64",
      "userId": "04485634194964420384"
     },
     "user_tz": -120
    },
    "id": "dJRZiQiW2MVv",
    "outputId": "6dd7315b-2cc4-4e75-bf09-e57808e6da88"
   },
   "outputs": [
    {
     "data": {
      "text/plain": [
       "Pipeline(memory=None,\n",
       "         steps=[('tfidf',\n",
       "                 TfidfVectorizer(analyzer='word', binary=False,\n",
       "                                 decode_error='strict',\n",
       "                                 dtype=<class 'numpy.float64'>,\n",
       "                                 encoding='utf-8', input='content',\n",
       "                                 lowercase=True, max_df=1.0, max_features=None,\n",
       "                                 min_df=1, ngram_range=(1, 1), norm='l2',\n",
       "                                 preprocessor=None, smooth_idf=True,\n",
       "                                 stop_words=['a', 'about', 'an', 'and', 'are',\n",
       "                                             'as', 'at', 'be', 'been', 'but',...\n",
       "                                             'how', 'i', 'if', 'in', 'into',\n",
       "                                             'is', ...],\n",
       "                                 strip_accents=None, sublinear_tf=False,\n",
       "                                 token_pattern='(?u)\\\\b\\\\w\\\\w+\\\\b',\n",
       "                                 tokenizer=None, use_idf=True,\n",
       "                                 vocabulary=None)),\n",
       "                ('clf',\n",
       "                 LinearSVC(C=1.0, class_weight=None, dual=True,\n",
       "                           fit_intercept=True, intercept_scaling=1,\n",
       "                           loss='squared_hinge', max_iter=1000,\n",
       "                           multi_class='ovr', penalty='l2', random_state=None,\n",
       "                           tol=0.0001, verbose=0))],\n",
       "         verbose=False)"
      ]
     },
     "execution_count": 46,
     "metadata": {
      "tags": []
     },
     "output_type": "execute_result"
    }
   ],
   "source": [
    "# RUN THIS CELL TO ADD STOPWORDS TO THE LINEAR SVC PIPELINE:\n",
    "text_clf_lsvc2 = Pipeline([('tfidf', TfidfVectorizer(stop_words=stopwords)),\n",
    "                     ('clf', LinearSVC()),\n",
    "])\n",
    "text_clf_lsvc2.fit(X_train, y_train)"
   ]
  },
  {
   "cell_type": "code",
   "execution_count": 47,
   "metadata": {
    "colab": {
     "base_uri": "https://localhost:8080/",
     "height": 187
    },
    "colab_type": "code",
    "executionInfo": {
     "elapsed": 797,
     "status": "ok",
     "timestamp": 1571402493129,
     "user": {
      "displayName": "Erika Gomes",
      "photoUrl": "https://lh3.googleusercontent.com/a-/AAuE7mBti3X0EibEh1pBxwe5lfY1SdwS0Z4VC_WAwwbYmfM=s64",
      "userId": "04485634194964420384"
     },
     "user_tz": -120
    },
    "id": "o1KrdJfL2Wz5",
    "outputId": "8be2187e-84b4-4d4d-8f12-2c595fcd48b5"
   },
   "outputs": [
    {
     "name": "stdout",
     "output_type": "stream",
     "text": [
      "[[ 290   14    2   91    4   98   79   10   15   57]\n",
      " [   5  328   10   31   11   38  126   21   34   56]\n",
      " [   0    7  350   77    4   12  108    9   50   43]\n",
      " [  47   13   54 2309   48  147  434   13   17  218]\n",
      " [   9    6    5   47 1349   66   42    1   12  113]\n",
      " [  23   19    4   90   41 2860  100    6   18  139]\n",
      " [  15   64   52  301   25   55 5813  100   23  152]\n",
      " [  11   22   17   50    1   15  218  293    8   25]\n",
      " [  11   30   47   51   14   64   92    6  255   90]\n",
      " [  20   19   13  132   61  132  158    9   29 2727]]\n"
     ]
    }
   ],
   "source": [
    "predictions = text_clf_lsvc2.predict(X_test)\n",
    "print(metrics.confusion_matrix(y_test,predictions))"
   ]
  },
  {
   "cell_type": "code",
   "execution_count": 48,
   "metadata": {
    "colab": {
     "base_uri": "https://localhost:8080/",
     "height": 306
    },
    "colab_type": "code",
    "executionInfo": {
     "elapsed": 1143,
     "status": "ok",
     "timestamp": 1571402495693,
     "user": {
      "displayName": "Erika Gomes",
      "photoUrl": "https://lh3.googleusercontent.com/a-/AAuE7mBti3X0EibEh1pBxwe5lfY1SdwS0Z4VC_WAwwbYmfM=s64",
      "userId": "04485634194964420384"
     },
     "user_tz": -120
    },
    "id": "e7yRl9ds2XyN",
    "outputId": "ebf453a7-d2c9-4054-9713-166b0f04e587"
   },
   "outputs": [
    {
     "name": "stdout",
     "output_type": "stream",
     "text": [
      "              precision    recall  f1-score   support\n",
      "\n",
      "           A       0.67      0.44      0.53       660\n",
      "           B       0.63      0.50      0.55       660\n",
      "           C       0.63      0.53      0.58       660\n",
      "           D       0.73      0.70      0.71      3300\n",
      "           E       0.87      0.82      0.84      1650\n",
      "           F       0.82      0.87      0.84      3300\n",
      "           G       0.81      0.88      0.84      6600\n",
      "           H       0.63      0.44      0.52       660\n",
      "           I       0.55      0.39      0.45       660\n",
      "           J       0.75      0.83      0.79      3300\n",
      "\n",
      "    accuracy                           0.77     21450\n",
      "   macro avg       0.71      0.64      0.67     21450\n",
      "weighted avg       0.77      0.77      0.77     21450\n",
      "\n"
     ]
    }
   ],
   "source": [
    "print(metrics.classification_report(y_test,predictions))"
   ]
  },
  {
   "cell_type": "code",
   "execution_count": 49,
   "metadata": {
    "colab": {
     "base_uri": "https://localhost:8080/",
     "height": 34
    },
    "colab_type": "code",
    "executionInfo": {
     "elapsed": 831,
     "status": "ok",
     "timestamp": 1571402497738,
     "user": {
      "displayName": "Erika Gomes",
      "photoUrl": "https://lh3.googleusercontent.com/a-/AAuE7mBti3X0EibEh1pBxwe5lfY1SdwS0Z4VC_WAwwbYmfM=s64",
      "userId": "04485634194964420384"
     },
     "user_tz": -120
    },
    "id": "B1VaZe0Z2bP8",
    "outputId": "11f580df-6ed7-4a18-fbe2-c7729f0a7384"
   },
   "outputs": [
    {
     "name": "stdout",
     "output_type": "stream",
     "text": [
      "0.7726806526806527\n"
     ]
    }
   ],
   "source": [
    "print(metrics.accuracy_score(y_test,predictions))"
   ]
  },
  {
   "cell_type": "markdown",
   "metadata": {
    "colab_type": "text",
    "id": "9eB3LcLz2qEE"
   },
   "source": [
    "Our score didn't change that much. Keep in mind that 2000 movie reviews is a relatively small dataset. The real gain from stripping stopwords is improved processing speed; depending on the size of the corpus, it might save hours."
   ]
  },
  {
   "cell_type": "markdown",
   "metadata": {
    "colab_type": "text",
    "id": "nFtQuXuVfROr"
   },
   "source": [
    "## GIVE AN EXAMPLE\n",
    "You can create your own example and give more value to the results...!!!!\n",
    "Por example: if we are talking about pos/neg reviews: give an example of a positive review and prove it in the model."
   ]
  },
  {
   "cell_type": "markdown",
   "metadata": {
    "colab_type": "text",
    "id": "V9PhX6kjGVql"
   },
   "source": [
    "## **TOPIC MODELLING**\n",
    "\n",
    "With the data that we have, see how many categories will fine (unsupervised learning)"
   ]
  },
  {
   "cell_type": "code",
   "execution_count": null,
   "metadata": {
    "colab": {},
    "colab_type": "code",
    "id": "19d068e42cVc"
   },
   "outputs": [],
   "source": []
  }
 ],
 "metadata": {
  "colab": {
   "collapsed_sections": [],
   "name": "NLP test.ipynb",
   "provenance": [
    {
     "file_id": "19J2tMAiY5od2BYzxmwcj0wp5W1PsTkqA",
     "timestamp": 1568802606717
    }
   ],
   "toc_visible": true
  },
  "kernelspec": {
   "display_name": "Python 3",
   "language": "python",
   "name": "python3"
  },
  "language_info": {
   "codemirror_mode": {
    "name": "ipython",
    "version": 3
   },
   "file_extension": ".py",
   "mimetype": "text/x-python",
   "name": "python",
   "nbconvert_exporter": "python",
   "pygments_lexer": "ipython3",
   "version": "3.7.4"
  }
 },
 "nbformat": 4,
 "nbformat_minor": 4
}
