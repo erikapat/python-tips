{
 "cells": [
  {
   "cell_type": "markdown",
   "metadata": {},
   "source": [
    "# **Example of automatic classification prediction modelling with the api H20**"
   ]
  },
  {
   "cell_type": "code",
   "execution_count": 1,
   "metadata": {},
   "outputs": [],
   "source": [
    "## install\n",
    "#conda install -c h2oai h2o=3.20.0.1"
   ]
  },
  {
   "cell_type": "code",
   "execution_count": 1,
   "metadata": {},
   "outputs": [
    {
     "name": "stdout",
     "output_type": "stream",
     "text": [
      "Checking whether there is an H2O instance running at http://localhost:54321 ..... not found.\n",
      "Attempting to start a local H2O server...\n",
      "  Java Version: java version \"1.8.0_181\"; Java(TM) SE Runtime Environment (build 1.8.0_181-b13); Java HotSpot(TM) 64-Bit Server VM (build 25.181-b13, mixed mode)\n",
      "  Starting server from /home/erikapat/anaconda3/lib/python3.7/site-packages/h2o/backend/bin/h2o.jar\n",
      "  Ice root: /tmp/tmprrtncm1b\n",
      "  JVM stdout: /tmp/tmprrtncm1b/h2o_erikapat_started_from_python.out\n",
      "  JVM stderr: /tmp/tmprrtncm1b/h2o_erikapat_started_from_python.err\n",
      "  Server is running at http://127.0.0.1:54321\n",
      "Connecting to H2O server at http://127.0.0.1:54321 ... successful.\n"
     ]
    },
    {
     "data": {
      "text/html": [
       "<div style=\"overflow:auto\"><table style=\"width:50%\"><tr><td>H2O cluster uptime:</td>\n",
       "<td>03 secs</td></tr>\n",
       "<tr><td>H2O cluster timezone:</td>\n",
       "<td>Europe/Madrid</td></tr>\n",
       "<tr><td>H2O data parsing timezone:</td>\n",
       "<td>UTC</td></tr>\n",
       "<tr><td>H2O cluster version:</td>\n",
       "<td>3.26.0.3</td></tr>\n",
       "<tr><td>H2O cluster version age:</td>\n",
       "<td>2 months and 19 days </td></tr>\n",
       "<tr><td>H2O cluster name:</td>\n",
       "<td>H2O_from_python_erikapat_pv8h5f</td></tr>\n",
       "<tr><td>H2O cluster total nodes:</td>\n",
       "<td>1</td></tr>\n",
       "<tr><td>H2O cluster free memory:</td>\n",
       "<td>3.464 Gb</td></tr>\n",
       "<tr><td>H2O cluster total cores:</td>\n",
       "<td>4</td></tr>\n",
       "<tr><td>H2O cluster allowed cores:</td>\n",
       "<td>4</td></tr>\n",
       "<tr><td>H2O cluster status:</td>\n",
       "<td>accepting new members, healthy</td></tr>\n",
       "<tr><td>H2O connection url:</td>\n",
       "<td>http://127.0.0.1:54321</td></tr>\n",
       "<tr><td>H2O connection proxy:</td>\n",
       "<td>None</td></tr>\n",
       "<tr><td>H2O internal security:</td>\n",
       "<td>False</td></tr>\n",
       "<tr><td>H2O API Extensions:</td>\n",
       "<td>Amazon S3, XGBoost, Algos, AutoML, Core V3, Core V4</td></tr>\n",
       "<tr><td>Python version:</td>\n",
       "<td>3.7.4 final</td></tr></table></div>"
      ],
      "text/plain": [
       "--------------------------  ---------------------------------------------------\n",
       "H2O cluster uptime:         03 secs\n",
       "H2O cluster timezone:       Europe/Madrid\n",
       "H2O data parsing timezone:  UTC\n",
       "H2O cluster version:        3.26.0.3\n",
       "H2O cluster version age:    2 months and 19 days\n",
       "H2O cluster name:           H2O_from_python_erikapat_pv8h5f\n",
       "H2O cluster total nodes:    1\n",
       "H2O cluster free memory:    3.464 Gb\n",
       "H2O cluster total cores:    4\n",
       "H2O cluster allowed cores:  4\n",
       "H2O cluster status:         accepting new members, healthy\n",
       "H2O connection url:         http://127.0.0.1:54321\n",
       "H2O connection proxy:\n",
       "H2O internal security:      False\n",
       "H2O API Extensions:         Amazon S3, XGBoost, Algos, AutoML, Core V3, Core V4\n",
       "Python version:             3.7.4 final\n",
       "--------------------------  ---------------------------------------------------"
      ]
     },
     "metadata": {},
     "output_type": "display_data"
    }
   ],
   "source": [
    "import h2o\n",
    "from h2o.automl import H2OAutoML\n",
    "h2o.init()"
   ]
  },
  {
   "cell_type": "code",
   "execution_count": 2,
   "metadata": {},
   "outputs": [
    {
     "name": "stdout",
     "output_type": "stream",
     "text": [
      "Parse progress: |█████████████████████████████████████████████████████████| 100%\n"
     ]
    },
    {
     "data": {
      "text/html": [
       "<table>\n",
       "<thead>\n",
       "<tr><th>Loan_ID  </th><th>Gender  </th><th>Married  </th><th style=\"text-align: right;\">  Dependents</th><th>Education   </th><th>Self_Employed  </th><th style=\"text-align: right;\">  ApplicantIncome</th><th style=\"text-align: right;\">  CoapplicantIncome</th><th style=\"text-align: right;\">  LoanAmount</th><th style=\"text-align: right;\">  Loan_Amount_Term</th><th style=\"text-align: right;\">  Credit_History</th><th>Property_Area  </th><th>Loan_Status  </th></tr>\n",
       "</thead>\n",
       "<tbody>\n",
       "<tr><td>LP001002 </td><td>Male    </td><td>No       </td><td style=\"text-align: right;\">           0</td><td>Graduate    </td><td>No             </td><td style=\"text-align: right;\">             5849</td><td style=\"text-align: right;\">                  0</td><td style=\"text-align: right;\">         nan</td><td style=\"text-align: right;\">               360</td><td style=\"text-align: right;\">               1</td><td>Urban          </td><td>Y            </td></tr>\n",
       "<tr><td>LP001003 </td><td>Male    </td><td>Yes      </td><td style=\"text-align: right;\">           1</td><td>Graduate    </td><td>No             </td><td style=\"text-align: right;\">             4583</td><td style=\"text-align: right;\">               1508</td><td style=\"text-align: right;\">         128</td><td style=\"text-align: right;\">               360</td><td style=\"text-align: right;\">               1</td><td>Rural          </td><td>N            </td></tr>\n",
       "<tr><td>LP001005 </td><td>Male    </td><td>Yes      </td><td style=\"text-align: right;\">           0</td><td>Graduate    </td><td>Yes            </td><td style=\"text-align: right;\">             3000</td><td style=\"text-align: right;\">                  0</td><td style=\"text-align: right;\">          66</td><td style=\"text-align: right;\">               360</td><td style=\"text-align: right;\">               1</td><td>Urban          </td><td>Y            </td></tr>\n",
       "<tr><td>LP001006 </td><td>Male    </td><td>Yes      </td><td style=\"text-align: right;\">           0</td><td>Not Graduate</td><td>No             </td><td style=\"text-align: right;\">             2583</td><td style=\"text-align: right;\">               2358</td><td style=\"text-align: right;\">         120</td><td style=\"text-align: right;\">               360</td><td style=\"text-align: right;\">               1</td><td>Urban          </td><td>Y            </td></tr>\n",
       "<tr><td>LP001008 </td><td>Male    </td><td>No       </td><td style=\"text-align: right;\">           0</td><td>Graduate    </td><td>No             </td><td style=\"text-align: right;\">             6000</td><td style=\"text-align: right;\">                  0</td><td style=\"text-align: right;\">         141</td><td style=\"text-align: right;\">               360</td><td style=\"text-align: right;\">               1</td><td>Urban          </td><td>Y            </td></tr>\n",
       "<tr><td>LP001011 </td><td>Male    </td><td>Yes      </td><td style=\"text-align: right;\">           2</td><td>Graduate    </td><td>Yes            </td><td style=\"text-align: right;\">             5417</td><td style=\"text-align: right;\">               4196</td><td style=\"text-align: right;\">         267</td><td style=\"text-align: right;\">               360</td><td style=\"text-align: right;\">               1</td><td>Urban          </td><td>Y            </td></tr>\n",
       "<tr><td>LP001013 </td><td>Male    </td><td>Yes      </td><td style=\"text-align: right;\">           0</td><td>Not Graduate</td><td>No             </td><td style=\"text-align: right;\">             2333</td><td style=\"text-align: right;\">               1516</td><td style=\"text-align: right;\">          95</td><td style=\"text-align: right;\">               360</td><td style=\"text-align: right;\">               1</td><td>Urban          </td><td>Y            </td></tr>\n",
       "<tr><td>LP001014 </td><td>Male    </td><td>Yes      </td><td style=\"text-align: right;\">         nan</td><td>Graduate    </td><td>No             </td><td style=\"text-align: right;\">             3036</td><td style=\"text-align: right;\">               2504</td><td style=\"text-align: right;\">         158</td><td style=\"text-align: right;\">               360</td><td style=\"text-align: right;\">               0</td><td>Semiurban      </td><td>N            </td></tr>\n",
       "<tr><td>LP001018 </td><td>Male    </td><td>Yes      </td><td style=\"text-align: right;\">           2</td><td>Graduate    </td><td>No             </td><td style=\"text-align: right;\">             4006</td><td style=\"text-align: right;\">               1526</td><td style=\"text-align: right;\">         168</td><td style=\"text-align: right;\">               360</td><td style=\"text-align: right;\">               1</td><td>Urban          </td><td>Y            </td></tr>\n",
       "<tr><td>LP001020 </td><td>Male    </td><td>Yes      </td><td style=\"text-align: right;\">           1</td><td>Graduate    </td><td>No             </td><td style=\"text-align: right;\">            12841</td><td style=\"text-align: right;\">              10968</td><td style=\"text-align: right;\">         349</td><td style=\"text-align: right;\">               360</td><td style=\"text-align: right;\">               1</td><td>Semiurban      </td><td>N            </td></tr>\n",
       "</tbody>\n",
       "</table>"
      ]
     },
     "metadata": {},
     "output_type": "display_data"
    },
    {
     "data": {
      "text/plain": []
     },
     "execution_count": 2,
     "metadata": {},
     "output_type": "execute_result"
    }
   ],
   "source": [
    "df = h2o.import_file('data/train_u6lujuX_CVtuZ9i.csv')\n",
    "df.head()"
   ]
  },
  {
   "cell_type": "code",
   "execution_count": 3,
   "metadata": {},
   "outputs": [
    {
     "data": {
      "text/plain": [
       "h2o.frame.H2OFrame"
      ]
     },
     "execution_count": 3,
     "metadata": {},
     "output_type": "execute_result"
    }
   ],
   "source": [
    "type(df)"
   ]
  },
  {
   "cell_type": "code",
   "execution_count": 4,
   "metadata": {},
   "outputs": [],
   "source": [
    "df['Loan_Status'] = df['Loan_Status'].asfactor()"
   ]
  },
  {
   "cell_type": "code",
   "execution_count": 5,
   "metadata": {},
   "outputs": [
    {
     "data": {
      "text/html": [
       "<table>\n",
       "<thead>\n",
       "<tr><th>Loan_ID  </th><th>Gender  </th><th>Married  </th><th style=\"text-align: right;\">  Dependents</th><th>Education   </th><th>Self_Employed  </th><th style=\"text-align: right;\">  ApplicantIncome</th><th style=\"text-align: right;\">  CoapplicantIncome</th><th style=\"text-align: right;\">  LoanAmount</th><th style=\"text-align: right;\">  Loan_Amount_Term</th><th style=\"text-align: right;\">  Credit_History</th><th>Property_Area  </th><th>Loan_Status  </th></tr>\n",
       "</thead>\n",
       "<tbody>\n",
       "<tr><td>LP001002 </td><td>Male    </td><td>No       </td><td style=\"text-align: right;\">           0</td><td>Graduate    </td><td>No             </td><td style=\"text-align: right;\">             5849</td><td style=\"text-align: right;\">                  0</td><td style=\"text-align: right;\">         nan</td><td style=\"text-align: right;\">               360</td><td style=\"text-align: right;\">               1</td><td>Urban          </td><td>Y            </td></tr>\n",
       "<tr><td>LP001003 </td><td>Male    </td><td>Yes      </td><td style=\"text-align: right;\">           1</td><td>Graduate    </td><td>No             </td><td style=\"text-align: right;\">             4583</td><td style=\"text-align: right;\">               1508</td><td style=\"text-align: right;\">         128</td><td style=\"text-align: right;\">               360</td><td style=\"text-align: right;\">               1</td><td>Rural          </td><td>N            </td></tr>\n",
       "<tr><td>LP001005 </td><td>Male    </td><td>Yes      </td><td style=\"text-align: right;\">           0</td><td>Graduate    </td><td>Yes            </td><td style=\"text-align: right;\">             3000</td><td style=\"text-align: right;\">                  0</td><td style=\"text-align: right;\">          66</td><td style=\"text-align: right;\">               360</td><td style=\"text-align: right;\">               1</td><td>Urban          </td><td>Y            </td></tr>\n",
       "<tr><td>LP001006 </td><td>Male    </td><td>Yes      </td><td style=\"text-align: right;\">           0</td><td>Not Graduate</td><td>No             </td><td style=\"text-align: right;\">             2583</td><td style=\"text-align: right;\">               2358</td><td style=\"text-align: right;\">         120</td><td style=\"text-align: right;\">               360</td><td style=\"text-align: right;\">               1</td><td>Urban          </td><td>Y            </td></tr>\n",
       "<tr><td>LP001008 </td><td>Male    </td><td>No       </td><td style=\"text-align: right;\">           0</td><td>Graduate    </td><td>No             </td><td style=\"text-align: right;\">             6000</td><td style=\"text-align: right;\">                  0</td><td style=\"text-align: right;\">         141</td><td style=\"text-align: right;\">               360</td><td style=\"text-align: right;\">               1</td><td>Urban          </td><td>Y            </td></tr>\n",
       "<tr><td>LP001011 </td><td>Male    </td><td>Yes      </td><td style=\"text-align: right;\">           2</td><td>Graduate    </td><td>Yes            </td><td style=\"text-align: right;\">             5417</td><td style=\"text-align: right;\">               4196</td><td style=\"text-align: right;\">         267</td><td style=\"text-align: right;\">               360</td><td style=\"text-align: right;\">               1</td><td>Urban          </td><td>Y            </td></tr>\n",
       "<tr><td>LP001013 </td><td>Male    </td><td>Yes      </td><td style=\"text-align: right;\">           0</td><td>Not Graduate</td><td>No             </td><td style=\"text-align: right;\">             2333</td><td style=\"text-align: right;\">               1516</td><td style=\"text-align: right;\">          95</td><td style=\"text-align: right;\">               360</td><td style=\"text-align: right;\">               1</td><td>Urban          </td><td>Y            </td></tr>\n",
       "<tr><td>LP001014 </td><td>Male    </td><td>Yes      </td><td style=\"text-align: right;\">         nan</td><td>Graduate    </td><td>No             </td><td style=\"text-align: right;\">             3036</td><td style=\"text-align: right;\">               2504</td><td style=\"text-align: right;\">         158</td><td style=\"text-align: right;\">               360</td><td style=\"text-align: right;\">               0</td><td>Semiurban      </td><td>N            </td></tr>\n",
       "<tr><td>LP001018 </td><td>Male    </td><td>Yes      </td><td style=\"text-align: right;\">           2</td><td>Graduate    </td><td>No             </td><td style=\"text-align: right;\">             4006</td><td style=\"text-align: right;\">               1526</td><td style=\"text-align: right;\">         168</td><td style=\"text-align: right;\">               360</td><td style=\"text-align: right;\">               1</td><td>Urban          </td><td>Y            </td></tr>\n",
       "<tr><td>LP001020 </td><td>Male    </td><td>Yes      </td><td style=\"text-align: right;\">           1</td><td>Graduate    </td><td>No             </td><td style=\"text-align: right;\">            12841</td><td style=\"text-align: right;\">              10968</td><td style=\"text-align: right;\">         349</td><td style=\"text-align: right;\">               360</td><td style=\"text-align: right;\">               1</td><td>Semiurban      </td><td>N            </td></tr>\n",
       "</tbody>\n",
       "</table>"
      ]
     },
     "metadata": {},
     "output_type": "display_data"
    },
    {
     "data": {
      "text/plain": [
       "<bound method H2OFrame.describe of >"
      ]
     },
     "execution_count": 5,
     "metadata": {},
     "output_type": "execute_result"
    }
   ],
   "source": [
    "df.describe"
   ]
  },
  {
   "cell_type": "code",
   "execution_count": 6,
   "metadata": {},
   "outputs": [],
   "source": [
    "y = \"Loan_Status\"\n",
    "x = ['Gender','Married','Education','ApplicantIncome',\n",
    "    'LoanAmount','CoapplicantIncome','Loan_Amount_Term',\n",
    "    'Credit_History','Property_Area']"
   ]
  },
  {
   "cell_type": "code",
   "execution_count": 7,
   "metadata": {},
   "outputs": [
    {
     "name": "stdout",
     "output_type": "stream",
     "text": [
      "AutoML progress: |████████████████████████████████████████████████████████| 100%\n"
     ]
    }
   ],
   "source": [
    "aml = H2OAutoML(max_models = 30, max_runtime_secs=300, seed = 1)\n",
    "aml.train(x = x, y = y, training_frame = df)"
   ]
  },
  {
   "cell_type": "code",
   "execution_count": 8,
   "metadata": {},
   "outputs": [
    {
     "data": {
      "text/html": [
       "<table>\n",
       "<thead>\n",
       "<tr><th>model_id                                           </th><th style=\"text-align: right;\">     auc</th><th style=\"text-align: right;\">  logloss</th><th style=\"text-align: right;\">  mean_per_class_error</th><th style=\"text-align: right;\">    rmse</th><th style=\"text-align: right;\">     mse</th></tr>\n",
       "</thead>\n",
       "<tbody>\n",
       "<tr><td>XGBoost_grid_1_AutoML_20191112_092552_model_3      </td><td style=\"text-align: right;\">0.782132</td><td style=\"text-align: right;\"> 0.48679 </td><td style=\"text-align: right;\">              0.296653</td><td style=\"text-align: right;\">0.394822</td><td style=\"text-align: right;\">0.155885</td></tr>\n",
       "<tr><td>DRF_1_AutoML_20191112_092552                       </td><td style=\"text-align: right;\">0.778319</td><td style=\"text-align: right;\"> 0.71234 </td><td style=\"text-align: right;\">              0.298307</td><td style=\"text-align: right;\">0.398046</td><td style=\"text-align: right;\">0.158441</td></tr>\n",
       "<tr><td>StackedEnsemble_BestOfFamily_AutoML_20191112_092552</td><td style=\"text-align: right;\">0.775085</td><td style=\"text-align: right;\"> 0.47698 </td><td style=\"text-align: right;\">              0.295937</td><td style=\"text-align: right;\">0.38981 </td><td style=\"text-align: right;\">0.151952</td></tr>\n",
       "<tr><td>XGBoost_grid_1_AutoML_20191112_092552_model_7      </td><td style=\"text-align: right;\">0.77013 </td><td style=\"text-align: right;\"> 0.484244</td><td style=\"text-align: right;\">              0.294752</td><td style=\"text-align: right;\">0.392787</td><td style=\"text-align: right;\">0.154282</td></tr>\n",
       "<tr><td>XGBoost_2_AutoML_20191112_092552                   </td><td style=\"text-align: right;\">0.769963</td><td style=\"text-align: right;\"> 0.494983</td><td style=\"text-align: right;\">              0.297356</td><td style=\"text-align: right;\">0.399111</td><td style=\"text-align: right;\">0.15929 </td></tr>\n",
       "<tr><td>XRT_1_AutoML_20191112_092552                       </td><td style=\"text-align: right;\">0.767927</td><td style=\"text-align: right;\"> 0.559623</td><td style=\"text-align: right;\">              0.303281</td><td style=\"text-align: right;\">0.401759</td><td style=\"text-align: right;\">0.16141 </td></tr>\n",
       "<tr><td>XGBoost_grid_1_AutoML_20191112_092552_model_5      </td><td style=\"text-align: right;\">0.767433</td><td style=\"text-align: right;\"> 0.478706</td><td style=\"text-align: right;\">              0.294752</td><td style=\"text-align: right;\">0.391843</td><td style=\"text-align: right;\">0.153541</td></tr>\n",
       "<tr><td>GBM_1_AutoML_20191112_092552                       </td><td style=\"text-align: right;\">0.766946</td><td style=\"text-align: right;\"> 0.495518</td><td style=\"text-align: right;\">              0.308958</td><td style=\"text-align: right;\">0.397398</td><td style=\"text-align: right;\">0.157925</td></tr>\n",
       "<tr><td>XGBoost_grid_1_AutoML_20191112_092552_model_1      </td><td style=\"text-align: right;\">0.76689 </td><td style=\"text-align: right;\"> 0.486253</td><td style=\"text-align: right;\">              0.293333</td><td style=\"text-align: right;\">0.395389</td><td style=\"text-align: right;\">0.156332</td></tr>\n",
       "<tr><td>StackedEnsemble_AllModels_AutoML_20191112_092552   </td><td style=\"text-align: right;\">0.765841</td><td style=\"text-align: right;\"> 0.483699</td><td style=\"text-align: right;\">              0.298541</td><td style=\"text-align: right;\">0.393367</td><td style=\"text-align: right;\">0.154738</td></tr>\n",
       "</tbody>\n",
       "</table>"
      ]
     },
     "metadata": {},
     "output_type": "display_data"
    },
    {
     "data": {
      "text/plain": []
     },
     "execution_count": 8,
     "metadata": {},
     "output_type": "execute_result"
    }
   ],
   "source": [
    "lb = aml.leaderboard\n",
    "lb.head()"
   ]
  },
  {
   "cell_type": "code",
   "execution_count": 12,
   "metadata": {},
   "outputs": [
    {
     "name": "stdout",
     "output_type": "stream",
     "text": [
      "xgboost prediction progress: |████████████████████████████████████████████| 100%\n"
     ]
    }
   ],
   "source": [
    "# predict and save\n",
    "preds = aml.predict(df)\n",
    "#save model\n",
    "#h2o.save_model(aml.leader, path = \"./Loan_Pred_Model_III_shaz13\")"
   ]
  },
  {
   "cell_type": "code",
   "execution_count": 13,
   "metadata": {},
   "outputs": [],
   "source": [
    "preds = preds.as_data_frame()"
   ]
  },
  {
   "cell_type": "code",
   "execution_count": 16,
   "metadata": {},
   "outputs": [
    {
     "data": {
      "text/html": [
       "<div>\n",
       "<style scoped>\n",
       "    .dataframe tbody tr th:only-of-type {\n",
       "        vertical-align: middle;\n",
       "    }\n",
       "\n",
       "    .dataframe tbody tr th {\n",
       "        vertical-align: top;\n",
       "    }\n",
       "\n",
       "    .dataframe thead th {\n",
       "        text-align: right;\n",
       "    }\n",
       "</style>\n",
       "<table border=\"1\" class=\"dataframe\">\n",
       "  <thead>\n",
       "    <tr style=\"text-align: right;\">\n",
       "      <th></th>\n",
       "      <th>predict</th>\n",
       "      <th>N</th>\n",
       "      <th>Y</th>\n",
       "    </tr>\n",
       "  </thead>\n",
       "  <tbody>\n",
       "    <tr>\n",
       "      <td>0</td>\n",
       "      <td>Y</td>\n",
       "      <td>0.277237</td>\n",
       "      <td>0.722763</td>\n",
       "    </tr>\n",
       "    <tr>\n",
       "      <td>1</td>\n",
       "      <td>N</td>\n",
       "      <td>0.614261</td>\n",
       "      <td>0.385739</td>\n",
       "    </tr>\n",
       "    <tr>\n",
       "      <td>2</td>\n",
       "      <td>Y</td>\n",
       "      <td>0.146095</td>\n",
       "      <td>0.853905</td>\n",
       "    </tr>\n",
       "    <tr>\n",
       "      <td>3</td>\n",
       "      <td>Y</td>\n",
       "      <td>0.049931</td>\n",
       "      <td>0.950069</td>\n",
       "    </tr>\n",
       "    <tr>\n",
       "      <td>4</td>\n",
       "      <td>Y</td>\n",
       "      <td>0.068774</td>\n",
       "      <td>0.931226</td>\n",
       "    </tr>\n",
       "  </tbody>\n",
       "</table>\n",
       "</div>"
      ],
      "text/plain": [
       "  predict         N         Y\n",
       "0       Y  0.277237  0.722763\n",
       "1       N  0.614261  0.385739\n",
       "2       Y  0.146095  0.853905\n",
       "3       Y  0.049931  0.950069\n",
       "4       Y  0.068774  0.931226"
      ]
     },
     "execution_count": 16,
     "metadata": {},
     "output_type": "execute_result"
    }
   ],
   "source": [
    "preds.head()"
   ]
  },
  {
   "cell_type": "code",
   "execution_count": 18,
   "metadata": {},
   "outputs": [
    {
     "data": {
      "text/html": [
       "<table>\n",
       "<thead>\n",
       "<tr><th>Loan_ID  </th><th>Gender  </th><th>Married  </th><th style=\"text-align: right;\">  Dependents</th><th>Education   </th><th>Self_Employed  </th><th style=\"text-align: right;\">  ApplicantIncome</th><th style=\"text-align: right;\">  CoapplicantIncome</th><th style=\"text-align: right;\">  LoanAmount</th><th style=\"text-align: right;\">  Loan_Amount_Term</th><th style=\"text-align: right;\">  Credit_History</th><th>Property_Area  </th><th>Loan_Status  </th></tr>\n",
       "</thead>\n",
       "<tbody>\n",
       "<tr><td>LP001002 </td><td>Male    </td><td>No       </td><td style=\"text-align: right;\">           0</td><td>Graduate    </td><td>No             </td><td style=\"text-align: right;\">             5849</td><td style=\"text-align: right;\">                  0</td><td style=\"text-align: right;\">         nan</td><td style=\"text-align: right;\">               360</td><td style=\"text-align: right;\">               1</td><td>Urban          </td><td>Y            </td></tr>\n",
       "<tr><td>LP001003 </td><td>Male    </td><td>Yes      </td><td style=\"text-align: right;\">           1</td><td>Graduate    </td><td>No             </td><td style=\"text-align: right;\">             4583</td><td style=\"text-align: right;\">               1508</td><td style=\"text-align: right;\">         128</td><td style=\"text-align: right;\">               360</td><td style=\"text-align: right;\">               1</td><td>Rural          </td><td>N            </td></tr>\n",
       "<tr><td>LP001005 </td><td>Male    </td><td>Yes      </td><td style=\"text-align: right;\">           0</td><td>Graduate    </td><td>Yes            </td><td style=\"text-align: right;\">             3000</td><td style=\"text-align: right;\">                  0</td><td style=\"text-align: right;\">          66</td><td style=\"text-align: right;\">               360</td><td style=\"text-align: right;\">               1</td><td>Urban          </td><td>Y            </td></tr>\n",
       "<tr><td>LP001006 </td><td>Male    </td><td>Yes      </td><td style=\"text-align: right;\">           0</td><td>Not Graduate</td><td>No             </td><td style=\"text-align: right;\">             2583</td><td style=\"text-align: right;\">               2358</td><td style=\"text-align: right;\">         120</td><td style=\"text-align: right;\">               360</td><td style=\"text-align: right;\">               1</td><td>Urban          </td><td>Y            </td></tr>\n",
       "<tr><td>LP001008 </td><td>Male    </td><td>No       </td><td style=\"text-align: right;\">           0</td><td>Graduate    </td><td>No             </td><td style=\"text-align: right;\">             6000</td><td style=\"text-align: right;\">                  0</td><td style=\"text-align: right;\">         141</td><td style=\"text-align: right;\">               360</td><td style=\"text-align: right;\">               1</td><td>Urban          </td><td>Y            </td></tr>\n",
       "<tr><td>LP001011 </td><td>Male    </td><td>Yes      </td><td style=\"text-align: right;\">           2</td><td>Graduate    </td><td>Yes            </td><td style=\"text-align: right;\">             5417</td><td style=\"text-align: right;\">               4196</td><td style=\"text-align: right;\">         267</td><td style=\"text-align: right;\">               360</td><td style=\"text-align: right;\">               1</td><td>Urban          </td><td>Y            </td></tr>\n",
       "<tr><td>LP001013 </td><td>Male    </td><td>Yes      </td><td style=\"text-align: right;\">           0</td><td>Not Graduate</td><td>No             </td><td style=\"text-align: right;\">             2333</td><td style=\"text-align: right;\">               1516</td><td style=\"text-align: right;\">          95</td><td style=\"text-align: right;\">               360</td><td style=\"text-align: right;\">               1</td><td>Urban          </td><td>Y            </td></tr>\n",
       "<tr><td>LP001014 </td><td>Male    </td><td>Yes      </td><td style=\"text-align: right;\">         nan</td><td>Graduate    </td><td>No             </td><td style=\"text-align: right;\">             3036</td><td style=\"text-align: right;\">               2504</td><td style=\"text-align: right;\">         158</td><td style=\"text-align: right;\">               360</td><td style=\"text-align: right;\">               0</td><td>Semiurban      </td><td>N            </td></tr>\n",
       "<tr><td>LP001018 </td><td>Male    </td><td>Yes      </td><td style=\"text-align: right;\">           2</td><td>Graduate    </td><td>No             </td><td style=\"text-align: right;\">             4006</td><td style=\"text-align: right;\">               1526</td><td style=\"text-align: right;\">         168</td><td style=\"text-align: right;\">               360</td><td style=\"text-align: right;\">               1</td><td>Urban          </td><td>Y            </td></tr>\n",
       "<tr><td>LP001020 </td><td>Male    </td><td>Yes      </td><td style=\"text-align: right;\">           1</td><td>Graduate    </td><td>No             </td><td style=\"text-align: right;\">            12841</td><td style=\"text-align: right;\">              10968</td><td style=\"text-align: right;\">         349</td><td style=\"text-align: right;\">               360</td><td style=\"text-align: right;\">               1</td><td>Semiurban      </td><td>N            </td></tr>\n",
       "</tbody>\n",
       "</table>"
      ]
     },
     "metadata": {},
     "output_type": "display_data"
    },
    {
     "data": {
      "text/plain": []
     },
     "execution_count": 18,
     "metadata": {},
     "output_type": "execute_result"
    }
   ],
   "source": [
    "df.head()"
   ]
  },
  {
   "cell_type": "code",
   "execution_count": null,
   "metadata": {},
   "outputs": [],
   "source": []
  }
 ],
 "metadata": {
  "kernelspec": {
   "display_name": "Python 3",
   "language": "python",
   "name": "python3"
  },
  "language_info": {
   "codemirror_mode": {
    "name": "ipython",
    "version": 3
   },
   "file_extension": ".py",
   "mimetype": "text/x-python",
   "name": "python",
   "nbconvert_exporter": "python",
   "pygments_lexer": "ipython3",
   "version": "3.7.4"
  }
 },
 "nbformat": 4,
 "nbformat_minor": 4
}
