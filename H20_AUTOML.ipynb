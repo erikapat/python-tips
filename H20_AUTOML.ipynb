{
 "cells": [
  {
   "cell_type": "markdown",
   "metadata": {},
   "source": [
    "# **Example of automatic classification prediction modelling with the api H20**"
   ]
  },
  {
   "cell_type": "code",
   "execution_count": 1,
   "metadata": {},
   "outputs": [],
   "source": [
    "## install\n",
    "#conda install -c h2oai h2o=3.20.0.1"
   ]
  },
  {
   "cell_type": "code",
   "execution_count": 2,
   "metadata": {},
   "outputs": [
    {
     "name": "stdout",
     "output_type": "stream",
     "text": [
      "Checking whether there is an H2O instance running at http://localhost:54321 . connected.\n"
     ]
    },
    {
     "data": {
      "text/html": [
       "<div style=\"overflow:auto\"><table style=\"width:50%\"><tr><td>H2O cluster uptime:</td>\n",
       "<td>5 mins 35 secs</td></tr>\n",
       "<tr><td>H2O cluster timezone:</td>\n",
       "<td>Europe/Madrid</td></tr>\n",
       "<tr><td>H2O data parsing timezone:</td>\n",
       "<td>UTC</td></tr>\n",
       "<tr><td>H2O cluster version:</td>\n",
       "<td>3.26.0.3</td></tr>\n",
       "<tr><td>H2O cluster version age:</td>\n",
       "<td>2 months and 11 days </td></tr>\n",
       "<tr><td>H2O cluster name:</td>\n",
       "<td>H2O_from_python_erikapat_3snyti</td></tr>\n",
       "<tr><td>H2O cluster total nodes:</td>\n",
       "<td>1</td></tr>\n",
       "<tr><td>H2O cluster free memory:</td>\n",
       "<td>3.428 Gb</td></tr>\n",
       "<tr><td>H2O cluster total cores:</td>\n",
       "<td>4</td></tr>\n",
       "<tr><td>H2O cluster allowed cores:</td>\n",
       "<td>4</td></tr>\n",
       "<tr><td>H2O cluster status:</td>\n",
       "<td>locked, healthy</td></tr>\n",
       "<tr><td>H2O connection url:</td>\n",
       "<td>http://localhost:54321</td></tr>\n",
       "<tr><td>H2O connection proxy:</td>\n",
       "<td>None</td></tr>\n",
       "<tr><td>H2O internal security:</td>\n",
       "<td>False</td></tr>\n",
       "<tr><td>H2O API Extensions:</td>\n",
       "<td>Amazon S3, XGBoost, Algos, AutoML, Core V3, Core V4</td></tr>\n",
       "<tr><td>Python version:</td>\n",
       "<td>3.7.4 final</td></tr></table></div>"
      ],
      "text/plain": [
       "--------------------------  ---------------------------------------------------\n",
       "H2O cluster uptime:         5 mins 35 secs\n",
       "H2O cluster timezone:       Europe/Madrid\n",
       "H2O data parsing timezone:  UTC\n",
       "H2O cluster version:        3.26.0.3\n",
       "H2O cluster version age:    2 months and 11 days\n",
       "H2O cluster name:           H2O_from_python_erikapat_3snyti\n",
       "H2O cluster total nodes:    1\n",
       "H2O cluster free memory:    3.428 Gb\n",
       "H2O cluster total cores:    4\n",
       "H2O cluster allowed cores:  4\n",
       "H2O cluster status:         locked, healthy\n",
       "H2O connection url:         http://localhost:54321\n",
       "H2O connection proxy:\n",
       "H2O internal security:      False\n",
       "H2O API Extensions:         Amazon S3, XGBoost, Algos, AutoML, Core V3, Core V4\n",
       "Python version:             3.7.4 final\n",
       "--------------------------  ---------------------------------------------------"
      ]
     },
     "metadata": {},
     "output_type": "display_data"
    }
   ],
   "source": [
    "import h2o\n",
    "from h2o.automl import H2OAutoML\n",
    "h2o.init()"
   ]
  },
  {
   "cell_type": "code",
   "execution_count": 3,
   "metadata": {},
   "outputs": [
    {
     "name": "stdout",
     "output_type": "stream",
     "text": [
      "Parse progress: |█████████████████████████████████████████████████████████| 100%\n"
     ]
    },
    {
     "data": {
      "text/html": [
       "<table>\n",
       "<thead>\n",
       "<tr><th>Loan_ID  </th><th>Gender  </th><th>Married  </th><th style=\"text-align: right;\">  Dependents</th><th>Education   </th><th>Self_Employed  </th><th style=\"text-align: right;\">  ApplicantIncome</th><th style=\"text-align: right;\">  CoapplicantIncome</th><th style=\"text-align: right;\">  LoanAmount</th><th style=\"text-align: right;\">  Loan_Amount_Term</th><th style=\"text-align: right;\">  Credit_History</th><th>Property_Area  </th><th>Loan_Status  </th></tr>\n",
       "</thead>\n",
       "<tbody>\n",
       "<tr><td>LP001002 </td><td>Male    </td><td>No       </td><td style=\"text-align: right;\">           0</td><td>Graduate    </td><td>No             </td><td style=\"text-align: right;\">             5849</td><td style=\"text-align: right;\">                  0</td><td style=\"text-align: right;\">         nan</td><td style=\"text-align: right;\">               360</td><td style=\"text-align: right;\">               1</td><td>Urban          </td><td>Y            </td></tr>\n",
       "<tr><td>LP001003 </td><td>Male    </td><td>Yes      </td><td style=\"text-align: right;\">           1</td><td>Graduate    </td><td>No             </td><td style=\"text-align: right;\">             4583</td><td style=\"text-align: right;\">               1508</td><td style=\"text-align: right;\">         128</td><td style=\"text-align: right;\">               360</td><td style=\"text-align: right;\">               1</td><td>Rural          </td><td>N            </td></tr>\n",
       "<tr><td>LP001005 </td><td>Male    </td><td>Yes      </td><td style=\"text-align: right;\">           0</td><td>Graduate    </td><td>Yes            </td><td style=\"text-align: right;\">             3000</td><td style=\"text-align: right;\">                  0</td><td style=\"text-align: right;\">          66</td><td style=\"text-align: right;\">               360</td><td style=\"text-align: right;\">               1</td><td>Urban          </td><td>Y            </td></tr>\n",
       "<tr><td>LP001006 </td><td>Male    </td><td>Yes      </td><td style=\"text-align: right;\">           0</td><td>Not Graduate</td><td>No             </td><td style=\"text-align: right;\">             2583</td><td style=\"text-align: right;\">               2358</td><td style=\"text-align: right;\">         120</td><td style=\"text-align: right;\">               360</td><td style=\"text-align: right;\">               1</td><td>Urban          </td><td>Y            </td></tr>\n",
       "<tr><td>LP001008 </td><td>Male    </td><td>No       </td><td style=\"text-align: right;\">           0</td><td>Graduate    </td><td>No             </td><td style=\"text-align: right;\">             6000</td><td style=\"text-align: right;\">                  0</td><td style=\"text-align: right;\">         141</td><td style=\"text-align: right;\">               360</td><td style=\"text-align: right;\">               1</td><td>Urban          </td><td>Y            </td></tr>\n",
       "<tr><td>LP001011 </td><td>Male    </td><td>Yes      </td><td style=\"text-align: right;\">           2</td><td>Graduate    </td><td>Yes            </td><td style=\"text-align: right;\">             5417</td><td style=\"text-align: right;\">               4196</td><td style=\"text-align: right;\">         267</td><td style=\"text-align: right;\">               360</td><td style=\"text-align: right;\">               1</td><td>Urban          </td><td>Y            </td></tr>\n",
       "<tr><td>LP001013 </td><td>Male    </td><td>Yes      </td><td style=\"text-align: right;\">           0</td><td>Not Graduate</td><td>No             </td><td style=\"text-align: right;\">             2333</td><td style=\"text-align: right;\">               1516</td><td style=\"text-align: right;\">          95</td><td style=\"text-align: right;\">               360</td><td style=\"text-align: right;\">               1</td><td>Urban          </td><td>Y            </td></tr>\n",
       "<tr><td>LP001014 </td><td>Male    </td><td>Yes      </td><td style=\"text-align: right;\">         nan</td><td>Graduate    </td><td>No             </td><td style=\"text-align: right;\">             3036</td><td style=\"text-align: right;\">               2504</td><td style=\"text-align: right;\">         158</td><td style=\"text-align: right;\">               360</td><td style=\"text-align: right;\">               0</td><td>Semiurban      </td><td>N            </td></tr>\n",
       "<tr><td>LP001018 </td><td>Male    </td><td>Yes      </td><td style=\"text-align: right;\">           2</td><td>Graduate    </td><td>No             </td><td style=\"text-align: right;\">             4006</td><td style=\"text-align: right;\">               1526</td><td style=\"text-align: right;\">         168</td><td style=\"text-align: right;\">               360</td><td style=\"text-align: right;\">               1</td><td>Urban          </td><td>Y            </td></tr>\n",
       "<tr><td>LP001020 </td><td>Male    </td><td>Yes      </td><td style=\"text-align: right;\">           1</td><td>Graduate    </td><td>No             </td><td style=\"text-align: right;\">            12841</td><td style=\"text-align: right;\">              10968</td><td style=\"text-align: right;\">         349</td><td style=\"text-align: right;\">               360</td><td style=\"text-align: right;\">               1</td><td>Semiurban      </td><td>N            </td></tr>\n",
       "</tbody>\n",
       "</table>"
      ]
     },
     "metadata": {},
     "output_type": "display_data"
    },
    {
     "data": {
      "text/plain": []
     },
     "execution_count": 3,
     "metadata": {},
     "output_type": "execute_result"
    }
   ],
   "source": [
    "df = h2o.import_file('data/train_u6lujuX_CVtuZ9i.csv')\n",
    "df.head()"
   ]
  },
  {
   "cell_type": "code",
   "execution_count": 4,
   "metadata": {},
   "outputs": [
    {
     "data": {
      "text/plain": [
       "h2o.frame.H2OFrame"
      ]
     },
     "execution_count": 4,
     "metadata": {},
     "output_type": "execute_result"
    }
   ],
   "source": [
    "type(df)"
   ]
  },
  {
   "cell_type": "code",
   "execution_count": 5,
   "metadata": {},
   "outputs": [],
   "source": [
    "df['Loan_Status'] = df['Loan_Status'].asfactor()"
   ]
  },
  {
   "cell_type": "code",
   "execution_count": 6,
   "metadata": {},
   "outputs": [
    {
     "data": {
      "text/html": [
       "<table>\n",
       "<thead>\n",
       "<tr><th>Loan_ID  </th><th>Gender  </th><th>Married  </th><th style=\"text-align: right;\">  Dependents</th><th>Education   </th><th>Self_Employed  </th><th style=\"text-align: right;\">  ApplicantIncome</th><th style=\"text-align: right;\">  CoapplicantIncome</th><th style=\"text-align: right;\">  LoanAmount</th><th style=\"text-align: right;\">  Loan_Amount_Term</th><th style=\"text-align: right;\">  Credit_History</th><th>Property_Area  </th><th>Loan_Status  </th></tr>\n",
       "</thead>\n",
       "<tbody>\n",
       "<tr><td>LP001002 </td><td>Male    </td><td>No       </td><td style=\"text-align: right;\">           0</td><td>Graduate    </td><td>No             </td><td style=\"text-align: right;\">             5849</td><td style=\"text-align: right;\">                  0</td><td style=\"text-align: right;\">         nan</td><td style=\"text-align: right;\">               360</td><td style=\"text-align: right;\">               1</td><td>Urban          </td><td>Y            </td></tr>\n",
       "<tr><td>LP001003 </td><td>Male    </td><td>Yes      </td><td style=\"text-align: right;\">           1</td><td>Graduate    </td><td>No             </td><td style=\"text-align: right;\">             4583</td><td style=\"text-align: right;\">               1508</td><td style=\"text-align: right;\">         128</td><td style=\"text-align: right;\">               360</td><td style=\"text-align: right;\">               1</td><td>Rural          </td><td>N            </td></tr>\n",
       "<tr><td>LP001005 </td><td>Male    </td><td>Yes      </td><td style=\"text-align: right;\">           0</td><td>Graduate    </td><td>Yes            </td><td style=\"text-align: right;\">             3000</td><td style=\"text-align: right;\">                  0</td><td style=\"text-align: right;\">          66</td><td style=\"text-align: right;\">               360</td><td style=\"text-align: right;\">               1</td><td>Urban          </td><td>Y            </td></tr>\n",
       "<tr><td>LP001006 </td><td>Male    </td><td>Yes      </td><td style=\"text-align: right;\">           0</td><td>Not Graduate</td><td>No             </td><td style=\"text-align: right;\">             2583</td><td style=\"text-align: right;\">               2358</td><td style=\"text-align: right;\">         120</td><td style=\"text-align: right;\">               360</td><td style=\"text-align: right;\">               1</td><td>Urban          </td><td>Y            </td></tr>\n",
       "<tr><td>LP001008 </td><td>Male    </td><td>No       </td><td style=\"text-align: right;\">           0</td><td>Graduate    </td><td>No             </td><td style=\"text-align: right;\">             6000</td><td style=\"text-align: right;\">                  0</td><td style=\"text-align: right;\">         141</td><td style=\"text-align: right;\">               360</td><td style=\"text-align: right;\">               1</td><td>Urban          </td><td>Y            </td></tr>\n",
       "<tr><td>LP001011 </td><td>Male    </td><td>Yes      </td><td style=\"text-align: right;\">           2</td><td>Graduate    </td><td>Yes            </td><td style=\"text-align: right;\">             5417</td><td style=\"text-align: right;\">               4196</td><td style=\"text-align: right;\">         267</td><td style=\"text-align: right;\">               360</td><td style=\"text-align: right;\">               1</td><td>Urban          </td><td>Y            </td></tr>\n",
       "<tr><td>LP001013 </td><td>Male    </td><td>Yes      </td><td style=\"text-align: right;\">           0</td><td>Not Graduate</td><td>No             </td><td style=\"text-align: right;\">             2333</td><td style=\"text-align: right;\">               1516</td><td style=\"text-align: right;\">          95</td><td style=\"text-align: right;\">               360</td><td style=\"text-align: right;\">               1</td><td>Urban          </td><td>Y            </td></tr>\n",
       "<tr><td>LP001014 </td><td>Male    </td><td>Yes      </td><td style=\"text-align: right;\">         nan</td><td>Graduate    </td><td>No             </td><td style=\"text-align: right;\">             3036</td><td style=\"text-align: right;\">               2504</td><td style=\"text-align: right;\">         158</td><td style=\"text-align: right;\">               360</td><td style=\"text-align: right;\">               0</td><td>Semiurban      </td><td>N            </td></tr>\n",
       "<tr><td>LP001018 </td><td>Male    </td><td>Yes      </td><td style=\"text-align: right;\">           2</td><td>Graduate    </td><td>No             </td><td style=\"text-align: right;\">             4006</td><td style=\"text-align: right;\">               1526</td><td style=\"text-align: right;\">         168</td><td style=\"text-align: right;\">               360</td><td style=\"text-align: right;\">               1</td><td>Urban          </td><td>Y            </td></tr>\n",
       "<tr><td>LP001020 </td><td>Male    </td><td>Yes      </td><td style=\"text-align: right;\">           1</td><td>Graduate    </td><td>No             </td><td style=\"text-align: right;\">            12841</td><td style=\"text-align: right;\">              10968</td><td style=\"text-align: right;\">         349</td><td style=\"text-align: right;\">               360</td><td style=\"text-align: right;\">               1</td><td>Semiurban      </td><td>N            </td></tr>\n",
       "</tbody>\n",
       "</table>"
      ]
     },
     "metadata": {},
     "output_type": "display_data"
    },
    {
     "data": {
      "text/plain": [
       "<bound method H2OFrame.describe of >"
      ]
     },
     "execution_count": 6,
     "metadata": {},
     "output_type": "execute_result"
    }
   ],
   "source": [
    "df.describe"
   ]
  },
  {
   "cell_type": "code",
   "execution_count": 7,
   "metadata": {},
   "outputs": [],
   "source": [
    "y = \"Loan_Status\"\n",
    "x = ['Gender','Married','Education','ApplicantIncome',\n",
    "    'LoanAmount','CoapplicantIncome','Loan_Amount_Term',\n",
    "    'Credit_History','Property_Area']"
   ]
  },
  {
   "cell_type": "code",
   "execution_count": 9,
   "metadata": {},
   "outputs": [
    {
     "ename": "H2OServerError",
     "evalue": "HTTP 500 Server Error:\nServer error java.lang.NullPointerException:\n  Error: Caught exception: java.lang.NullPointerException\n  Request: None\n",
     "output_type": "error",
     "traceback": [
      "\u001b[0;31m---------------------------------------------------------------------------\u001b[0m",
      "\u001b[0;31mH2OServerError\u001b[0m                            Traceback (most recent call last)",
      "\u001b[0;32m<ipython-input-9-f22503e96092>\u001b[0m in \u001b[0;36m<module>\u001b[0;34m\u001b[0m\n\u001b[1;32m      1\u001b[0m \u001b[0maml\u001b[0m \u001b[0;34m=\u001b[0m \u001b[0mH2OAutoML\u001b[0m\u001b[0;34m(\u001b[0m\u001b[0mmax_models\u001b[0m \u001b[0;34m=\u001b[0m \u001b[0;36m30\u001b[0m\u001b[0;34m,\u001b[0m \u001b[0mmax_runtime_secs\u001b[0m\u001b[0;34m=\u001b[0m\u001b[0;36m300\u001b[0m\u001b[0;34m,\u001b[0m \u001b[0mseed\u001b[0m \u001b[0;34m=\u001b[0m \u001b[0;36m1\u001b[0m\u001b[0;34m)\u001b[0m\u001b[0;34m\u001b[0m\u001b[0;34m\u001b[0m\u001b[0m\n\u001b[0;32m----> 2\u001b[0;31m \u001b[0maml\u001b[0m\u001b[0;34m.\u001b[0m\u001b[0mtrain\u001b[0m\u001b[0;34m(\u001b[0m\u001b[0mx\u001b[0m \u001b[0;34m=\u001b[0m \u001b[0mx\u001b[0m\u001b[0;34m,\u001b[0m \u001b[0my\u001b[0m \u001b[0;34m=\u001b[0m \u001b[0my\u001b[0m\u001b[0;34m,\u001b[0m \u001b[0mtraining_frame\u001b[0m \u001b[0;34m=\u001b[0m \u001b[0mdf\u001b[0m\u001b[0;34m)\u001b[0m\u001b[0;34m\u001b[0m\u001b[0;34m\u001b[0m\u001b[0m\n\u001b[0m",
      "\u001b[0;32m~/anaconda3/lib/python3.7/site-packages/h2o/automl/autoh2o.py\u001b[0m in \u001b[0;36mtrain\u001b[0;34m(self, x, y, training_frame, fold_column, weights_column, validation_frame, leaderboard_frame, blending_frame)\u001b[0m\n\u001b[1;32m    434\u001b[0m         \u001b[0mautoml_build_params\u001b[0m\u001b[0;34m[\u001b[0m\u001b[0;34m'build_models'\u001b[0m\u001b[0;34m]\u001b[0m \u001b[0;34m=\u001b[0m \u001b[0mself\u001b[0m\u001b[0;34m.\u001b[0m\u001b[0mbuild_models\u001b[0m\u001b[0;34m\u001b[0m\u001b[0;34m\u001b[0m\u001b[0m\n\u001b[1;32m    435\u001b[0m \u001b[0;34m\u001b[0m\u001b[0m\n\u001b[0;32m--> 436\u001b[0;31m         \u001b[0mresp\u001b[0m \u001b[0;34m=\u001b[0m \u001b[0mh2o\u001b[0m\u001b[0;34m.\u001b[0m\u001b[0mapi\u001b[0m\u001b[0;34m(\u001b[0m\u001b[0;34m'POST /99/AutoMLBuilder'\u001b[0m\u001b[0;34m,\u001b[0m \u001b[0mjson\u001b[0m\u001b[0;34m=\u001b[0m\u001b[0mautoml_build_params\u001b[0m\u001b[0;34m)\u001b[0m\u001b[0;34m\u001b[0m\u001b[0;34m\u001b[0m\u001b[0m\n\u001b[0m\u001b[1;32m    437\u001b[0m         \u001b[0;32mif\u001b[0m \u001b[0;34m'job'\u001b[0m \u001b[0;32mnot\u001b[0m \u001b[0;32min\u001b[0m \u001b[0mresp\u001b[0m\u001b[0;34m:\u001b[0m\u001b[0;34m\u001b[0m\u001b[0;34m\u001b[0m\u001b[0m\n\u001b[1;32m    438\u001b[0m             \u001b[0mprint\u001b[0m\u001b[0;34m(\u001b[0m\u001b[0;34m\"Exception from the back end: \"\u001b[0m\u001b[0;34m)\u001b[0m\u001b[0;34m\u001b[0m\u001b[0;34m\u001b[0m\u001b[0m\n",
      "\u001b[0;32m~/anaconda3/lib/python3.7/site-packages/h2o/h2o.py\u001b[0m in \u001b[0;36mapi\u001b[0;34m(endpoint, data, json, filename, save_to)\u001b[0m\n\u001b[1;32m    102\u001b[0m     \u001b[0;31m# type checks are performed in H2OConnection class\u001b[0m\u001b[0;34m\u001b[0m\u001b[0;34m\u001b[0m\u001b[0;34m\u001b[0m\u001b[0m\n\u001b[1;32m    103\u001b[0m     \u001b[0m_check_connection\u001b[0m\u001b[0;34m(\u001b[0m\u001b[0;34m)\u001b[0m\u001b[0;34m\u001b[0m\u001b[0;34m\u001b[0m\u001b[0m\n\u001b[0;32m--> 104\u001b[0;31m     \u001b[0;32mreturn\u001b[0m \u001b[0mh2oconn\u001b[0m\u001b[0;34m.\u001b[0m\u001b[0mrequest\u001b[0m\u001b[0;34m(\u001b[0m\u001b[0mendpoint\u001b[0m\u001b[0;34m,\u001b[0m \u001b[0mdata\u001b[0m\u001b[0;34m=\u001b[0m\u001b[0mdata\u001b[0m\u001b[0;34m,\u001b[0m \u001b[0mjson\u001b[0m\u001b[0;34m=\u001b[0m\u001b[0mjson\u001b[0m\u001b[0;34m,\u001b[0m \u001b[0mfilename\u001b[0m\u001b[0;34m=\u001b[0m\u001b[0mfilename\u001b[0m\u001b[0;34m,\u001b[0m \u001b[0msave_to\u001b[0m\u001b[0;34m=\u001b[0m\u001b[0msave_to\u001b[0m\u001b[0;34m)\u001b[0m\u001b[0;34m\u001b[0m\u001b[0;34m\u001b[0m\u001b[0m\n\u001b[0m\u001b[1;32m    105\u001b[0m \u001b[0;34m\u001b[0m\u001b[0m\n\u001b[1;32m    106\u001b[0m \u001b[0;34m\u001b[0m\u001b[0m\n",
      "\u001b[0;32m~/anaconda3/lib/python3.7/site-packages/h2o/backend/connection.py\u001b[0m in \u001b[0;36mrequest\u001b[0;34m(self, endpoint, data, json, filename, save_to)\u001b[0m\n\u001b[1;32m    405\u001b[0m                                     auth=self._auth, verify=self._verify_ssl_cert, proxies=self._proxies)\n\u001b[1;32m    406\u001b[0m             \u001b[0mself\u001b[0m\u001b[0;34m.\u001b[0m\u001b[0m_log_end_transaction\u001b[0m\u001b[0;34m(\u001b[0m\u001b[0mstart_time\u001b[0m\u001b[0;34m,\u001b[0m \u001b[0mresp\u001b[0m\u001b[0;34m)\u001b[0m\u001b[0;34m\u001b[0m\u001b[0;34m\u001b[0m\u001b[0m\n\u001b[0;32m--> 407\u001b[0;31m             \u001b[0;32mreturn\u001b[0m \u001b[0mself\u001b[0m\u001b[0;34m.\u001b[0m\u001b[0m_process_response\u001b[0m\u001b[0;34m(\u001b[0m\u001b[0mresp\u001b[0m\u001b[0;34m,\u001b[0m \u001b[0msave_to\u001b[0m\u001b[0;34m)\u001b[0m\u001b[0;34m\u001b[0m\u001b[0;34m\u001b[0m\u001b[0m\n\u001b[0m\u001b[1;32m    408\u001b[0m \u001b[0;34m\u001b[0m\u001b[0m\n\u001b[1;32m    409\u001b[0m         \u001b[0;32mexcept\u001b[0m \u001b[0;34m(\u001b[0m\u001b[0mrequests\u001b[0m\u001b[0;34m.\u001b[0m\u001b[0mexceptions\u001b[0m\u001b[0;34m.\u001b[0m\u001b[0mConnectionError\u001b[0m\u001b[0;34m,\u001b[0m \u001b[0mrequests\u001b[0m\u001b[0;34m.\u001b[0m\u001b[0mexceptions\u001b[0m\u001b[0;34m.\u001b[0m\u001b[0mHTTPError\u001b[0m\u001b[0;34m)\u001b[0m \u001b[0;32mas\u001b[0m \u001b[0me\u001b[0m\u001b[0;34m:\u001b[0m\u001b[0;34m\u001b[0m\u001b[0;34m\u001b[0m\u001b[0m\n",
      "\u001b[0;32m~/anaconda3/lib/python3.7/site-packages/h2o/backend/connection.py\u001b[0m in \u001b[0;36m_process_response\u001b[0;34m(response, save_to)\u001b[0m\n\u001b[1;32m    746\u001b[0m         \u001b[0;31m# Note that it is possible to receive valid H2OErrorV3 object in this case, however it merely means the server\u001b[0m\u001b[0;34m\u001b[0m\u001b[0;34m\u001b[0m\u001b[0;34m\u001b[0m\u001b[0m\n\u001b[1;32m    747\u001b[0m         \u001b[0;31m# did not provide the correct status code.\u001b[0m\u001b[0;34m\u001b[0m\u001b[0;34m\u001b[0m\u001b[0;34m\u001b[0m\u001b[0m\n\u001b[0;32m--> 748\u001b[0;31m         \u001b[0;32mraise\u001b[0m \u001b[0mH2OServerError\u001b[0m\u001b[0;34m(\u001b[0m\u001b[0;34m\"HTTP %d %s:\\n%r\"\u001b[0m \u001b[0;34m%\u001b[0m \u001b[0;34m(\u001b[0m\u001b[0mstatus_code\u001b[0m\u001b[0;34m,\u001b[0m \u001b[0mresponse\u001b[0m\u001b[0;34m.\u001b[0m\u001b[0mreason\u001b[0m\u001b[0;34m,\u001b[0m \u001b[0mdata\u001b[0m\u001b[0;34m)\u001b[0m\u001b[0;34m)\u001b[0m\u001b[0;34m\u001b[0m\u001b[0;34m\u001b[0m\u001b[0m\n\u001b[0m\u001b[1;32m    749\u001b[0m \u001b[0;34m\u001b[0m\u001b[0m\n\u001b[1;32m    750\u001b[0m \u001b[0;34m\u001b[0m\u001b[0m\n",
      "\u001b[0;31mH2OServerError\u001b[0m: HTTP 500 Server Error:\nServer error java.lang.NullPointerException:\n  Error: Caught exception: java.lang.NullPointerException\n  Request: None\n"
     ]
    }
   ],
   "source": [
    "aml = H2OAutoML(max_models = 30, max_runtime_secs=300, seed = 1)\n",
    "aml.train(x = x, y = y, training_frame = df)"
   ]
  },
  {
   "cell_type": "code",
   "execution_count": null,
   "metadata": {},
   "outputs": [],
   "source": [
    "lb = aml.leaderboard\n",
    "lb.head()"
   ]
  },
  {
   "cell_type": "code",
   "execution_count": null,
   "metadata": {},
   "outputs": [],
   "source": [
    "# predict and save\n",
    "#preds = aml.predict(test)\n",
    "#h2o.save_model(aml.leader, path = \"./Loan_Pred_Model_III_shaz13\")"
   ]
  }
 ],
 "metadata": {
  "kernelspec": {
   "display_name": "Python 3",
   "language": "python",
   "name": "python3"
  },
  "language_info": {
   "codemirror_mode": {
    "name": "ipython",
    "version": 3
   },
   "file_extension": ".py",
   "mimetype": "text/x-python",
   "name": "python",
   "nbconvert_exporter": "python",
   "pygments_lexer": "ipython3",
   "version": "3.7.4"
  }
 },
 "nbformat": 4,
 "nbformat_minor": 4
}
