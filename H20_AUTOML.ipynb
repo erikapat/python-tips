{
 "cells": [
  {
   "cell_type": "markdown",
   "metadata": {},
   "source": [
    "# **Example of automatic classification prediction modelling with the api H20**"
   ]
  },
  {
   "cell_type": "code",
   "execution_count": 4,
   "metadata": {},
   "outputs": [
    {
     "name": "stdout",
     "output_type": "stream",
     "text": [
      "Collecting package metadata (current_repodata.json): done\n",
      "Solving environment: failed with initial frozen solve. Retrying with flexible solve.\n",
      "Collecting package metadata (repodata.json): done\n",
      "Solving environment: failed with initial frozen solve. Retrying with flexible solve.\n",
      "\n",
      "PackagesNotFoundError: The following packages are not available from current channels:\n",
      "\n",
      "  - h2o=3.20.0.1\n",
      "\n",
      "Current channels:\n",
      "\n",
      "  - https://conda.anaconda.org/h2oai/osx-64\n",
      "  - https://conda.anaconda.org/h2oai/noarch\n",
      "  - https://repo.anaconda.com/pkgs/main/osx-64\n",
      "  - https://repo.anaconda.com/pkgs/main/noarch\n",
      "  - https://repo.anaconda.com/pkgs/r/osx-64\n",
      "  - https://repo.anaconda.com/pkgs/r/noarch\n",
      "\n",
      "To search for alternate channels that may provide the conda package you're\n",
      "looking for, navigate to\n",
      "\n",
      "    https://anaconda.org\n",
      "\n",
      "and use the search bar at the top of the page.\n",
      "\n",
      "\n"
     ]
    }
   ],
   "source": [
    "## install\n",
    "#in linux\n",
    "#conda install -c h2oai h2o=3.20.0.1\n",
    "#in mac\n",
    "#https://h2o-release.s3.amazonaws.com/h2o/master/3888/docs-website/h2o-docs/downloading.html"
   ]
  },
  {
   "cell_type": "code",
   "execution_count": 1,
   "metadata": {},
   "outputs": [
    {
     "name": "stdout",
     "output_type": "stream",
     "text": [
      "Checking whether there is an H2O instance running at http://localhost:54321 ..... not found.\n",
      "Attempting to start a local H2O server...\n",
      "  Java Version: openjdk version \"1.8.0_152-release\"; OpenJDK Runtime Environment (build 1.8.0_152-release-1056-b12); OpenJDK 64-Bit Server VM (build 25.152-b12, mixed mode)\n",
      "  Starting server from /Users/erikapat/anaconda3/lib/python3.7/site-packages/h2o/backend/bin/h2o.jar\n",
      "  Ice root: /var/folders/nj/tcdmjt1954x5bp_7_l7cn2k40000gn/T/tmp2k8hcrld\n",
      "  JVM stdout: /var/folders/nj/tcdmjt1954x5bp_7_l7cn2k40000gn/T/tmp2k8hcrld/h2o_erikapat_started_from_python.out\n",
      "  JVM stderr: /var/folders/nj/tcdmjt1954x5bp_7_l7cn2k40000gn/T/tmp2k8hcrld/h2o_erikapat_started_from_python.err\n",
      "  Server is running at http://127.0.0.1:54321\n",
      "Connecting to H2O server at http://127.0.0.1:54321 ... successful.\n"
     ]
    },
    {
     "data": {
      "text/html": [
       "<div style=\"overflow:auto\"><table style=\"width:50%\"><tr><td>H2O cluster uptime:</td>\n",
       "<td>01 secs</td></tr>\n",
       "<tr><td>H2O cluster timezone:</td>\n",
       "<td>Europe/Madrid</td></tr>\n",
       "<tr><td>H2O data parsing timezone:</td>\n",
       "<td>UTC</td></tr>\n",
       "<tr><td>H2O cluster version:</td>\n",
       "<td>3.26.0.10</td></tr>\n",
       "<tr><td>H2O cluster version age:</td>\n",
       "<td>9 days </td></tr>\n",
       "<tr><td>H2O cluster name:</td>\n",
       "<td>H2O_from_python_erikapat_ddld9v</td></tr>\n",
       "<tr><td>H2O cluster total nodes:</td>\n",
       "<td>1</td></tr>\n",
       "<tr><td>H2O cluster free memory:</td>\n",
       "<td>3.556 Gb</td></tr>\n",
       "<tr><td>H2O cluster total cores:</td>\n",
       "<td>0</td></tr>\n",
       "<tr><td>H2O cluster allowed cores:</td>\n",
       "<td>0</td></tr>\n",
       "<tr><td>H2O cluster status:</td>\n",
       "<td>accepting new members, healthy</td></tr>\n",
       "<tr><td>H2O connection url:</td>\n",
       "<td>http://127.0.0.1:54321</td></tr>\n",
       "<tr><td>H2O connection proxy:</td>\n",
       "<td>{'http': None, 'https': None}</td></tr>\n",
       "<tr><td>H2O internal security:</td>\n",
       "<td>False</td></tr>\n",
       "<tr><td>H2O API Extensions:</td>\n",
       "<td>Amazon S3, XGBoost, Algos, AutoML, Core V3, TargetEncoder, Core V4</td></tr>\n",
       "<tr><td>Python version:</td>\n",
       "<td>3.7.4 final</td></tr></table></div>"
      ],
      "text/plain": [
       "--------------------------  ------------------------------------------------------------------\n",
       "H2O cluster uptime:         01 secs\n",
       "H2O cluster timezone:       Europe/Madrid\n",
       "H2O data parsing timezone:  UTC\n",
       "H2O cluster version:        3.26.0.10\n",
       "H2O cluster version age:    9 days\n",
       "H2O cluster name:           H2O_from_python_erikapat_ddld9v\n",
       "H2O cluster total nodes:    1\n",
       "H2O cluster free memory:    3.556 Gb\n",
       "H2O cluster total cores:    0\n",
       "H2O cluster allowed cores:  0\n",
       "H2O cluster status:         accepting new members, healthy\n",
       "H2O connection url:         http://127.0.0.1:54321\n",
       "H2O connection proxy:       {'http': None, 'https': None}\n",
       "H2O internal security:      False\n",
       "H2O API Extensions:         Amazon S3, XGBoost, Algos, AutoML, Core V3, TargetEncoder, Core V4\n",
       "Python version:             3.7.4 final\n",
       "--------------------------  ------------------------------------------------------------------"
      ]
     },
     "metadata": {},
     "output_type": "display_data"
    }
   ],
   "source": [
    "import h2o\n",
    "from h2o.automl import H2OAutoML\n",
    "h2o.init()"
   ]
  },
  {
   "cell_type": "code",
   "execution_count": 2,
   "metadata": {},
   "outputs": [
    {
     "name": "stdout",
     "output_type": "stream",
     "text": [
      "Parse progress: |█████████████████████████████████████████████████████████| 100%\n"
     ]
    },
    {
     "data": {
      "text/html": [
       "<table>\n",
       "<thead>\n",
       "<tr><th>Loan_ID  </th><th>Gender  </th><th>Married  </th><th style=\"text-align: right;\">  Dependents</th><th>Education   </th><th>Self_Employed  </th><th style=\"text-align: right;\">  ApplicantIncome</th><th style=\"text-align: right;\">  CoapplicantIncome</th><th style=\"text-align: right;\">  LoanAmount</th><th style=\"text-align: right;\">  Loan_Amount_Term</th><th style=\"text-align: right;\">  Credit_History</th><th>Property_Area  </th><th>Loan_Status  </th></tr>\n",
       "</thead>\n",
       "<tbody>\n",
       "<tr><td>LP001002 </td><td>Male    </td><td>No       </td><td style=\"text-align: right;\">           0</td><td>Graduate    </td><td>No             </td><td style=\"text-align: right;\">             5849</td><td style=\"text-align: right;\">                  0</td><td style=\"text-align: right;\">         nan</td><td style=\"text-align: right;\">               360</td><td style=\"text-align: right;\">               1</td><td>Urban          </td><td>Y            </td></tr>\n",
       "<tr><td>LP001003 </td><td>Male    </td><td>Yes      </td><td style=\"text-align: right;\">           1</td><td>Graduate    </td><td>No             </td><td style=\"text-align: right;\">             4583</td><td style=\"text-align: right;\">               1508</td><td style=\"text-align: right;\">         128</td><td style=\"text-align: right;\">               360</td><td style=\"text-align: right;\">               1</td><td>Rural          </td><td>N            </td></tr>\n",
       "<tr><td>LP001005 </td><td>Male    </td><td>Yes      </td><td style=\"text-align: right;\">           0</td><td>Graduate    </td><td>Yes            </td><td style=\"text-align: right;\">             3000</td><td style=\"text-align: right;\">                  0</td><td style=\"text-align: right;\">          66</td><td style=\"text-align: right;\">               360</td><td style=\"text-align: right;\">               1</td><td>Urban          </td><td>Y            </td></tr>\n",
       "<tr><td>LP001006 </td><td>Male    </td><td>Yes      </td><td style=\"text-align: right;\">           0</td><td>Not Graduate</td><td>No             </td><td style=\"text-align: right;\">             2583</td><td style=\"text-align: right;\">               2358</td><td style=\"text-align: right;\">         120</td><td style=\"text-align: right;\">               360</td><td style=\"text-align: right;\">               1</td><td>Urban          </td><td>Y            </td></tr>\n",
       "<tr><td>LP001008 </td><td>Male    </td><td>No       </td><td style=\"text-align: right;\">           0</td><td>Graduate    </td><td>No             </td><td style=\"text-align: right;\">             6000</td><td style=\"text-align: right;\">                  0</td><td style=\"text-align: right;\">         141</td><td style=\"text-align: right;\">               360</td><td style=\"text-align: right;\">               1</td><td>Urban          </td><td>Y            </td></tr>\n",
       "<tr><td>LP001011 </td><td>Male    </td><td>Yes      </td><td style=\"text-align: right;\">           2</td><td>Graduate    </td><td>Yes            </td><td style=\"text-align: right;\">             5417</td><td style=\"text-align: right;\">               4196</td><td style=\"text-align: right;\">         267</td><td style=\"text-align: right;\">               360</td><td style=\"text-align: right;\">               1</td><td>Urban          </td><td>Y            </td></tr>\n",
       "<tr><td>LP001013 </td><td>Male    </td><td>Yes      </td><td style=\"text-align: right;\">           0</td><td>Not Graduate</td><td>No             </td><td style=\"text-align: right;\">             2333</td><td style=\"text-align: right;\">               1516</td><td style=\"text-align: right;\">          95</td><td style=\"text-align: right;\">               360</td><td style=\"text-align: right;\">               1</td><td>Urban          </td><td>Y            </td></tr>\n",
       "<tr><td>LP001014 </td><td>Male    </td><td>Yes      </td><td style=\"text-align: right;\">         nan</td><td>Graduate    </td><td>No             </td><td style=\"text-align: right;\">             3036</td><td style=\"text-align: right;\">               2504</td><td style=\"text-align: right;\">         158</td><td style=\"text-align: right;\">               360</td><td style=\"text-align: right;\">               0</td><td>Semiurban      </td><td>N            </td></tr>\n",
       "<tr><td>LP001018 </td><td>Male    </td><td>Yes      </td><td style=\"text-align: right;\">           2</td><td>Graduate    </td><td>No             </td><td style=\"text-align: right;\">             4006</td><td style=\"text-align: right;\">               1526</td><td style=\"text-align: right;\">         168</td><td style=\"text-align: right;\">               360</td><td style=\"text-align: right;\">               1</td><td>Urban          </td><td>Y            </td></tr>\n",
       "<tr><td>LP001020 </td><td>Male    </td><td>Yes      </td><td style=\"text-align: right;\">           1</td><td>Graduate    </td><td>No             </td><td style=\"text-align: right;\">            12841</td><td style=\"text-align: right;\">              10968</td><td style=\"text-align: right;\">         349</td><td style=\"text-align: right;\">               360</td><td style=\"text-align: right;\">               1</td><td>Semiurban      </td><td>N            </td></tr>\n",
       "</tbody>\n",
       "</table>"
      ]
     },
     "metadata": {},
     "output_type": "display_data"
    },
    {
     "data": {
      "text/plain": []
     },
     "execution_count": 2,
     "metadata": {},
     "output_type": "execute_result"
    }
   ],
   "source": [
    "df = h2o.import_file('data/train_u6lujuX_CVtuZ9i.csv')\n",
    "df.head()"
   ]
  },
  {
   "cell_type": "code",
   "execution_count": 3,
   "metadata": {},
   "outputs": [
    {
     "data": {
      "text/plain": [
       "h2o.frame.H2OFrame"
      ]
     },
     "execution_count": 3,
     "metadata": {},
     "output_type": "execute_result"
    }
   ],
   "source": [
    "type(df)"
   ]
  },
  {
   "cell_type": "code",
   "execution_count": 4,
   "metadata": {},
   "outputs": [],
   "source": [
    "df['Loan_Status'] = df['Loan_Status'].asfactor()"
   ]
  },
  {
   "cell_type": "code",
   "execution_count": 5,
   "metadata": {},
   "outputs": [
    {
     "data": {
      "text/html": [
       "<table>\n",
       "<thead>\n",
       "<tr><th>Loan_ID  </th><th>Gender  </th><th>Married  </th><th style=\"text-align: right;\">  Dependents</th><th>Education   </th><th>Self_Employed  </th><th style=\"text-align: right;\">  ApplicantIncome</th><th style=\"text-align: right;\">  CoapplicantIncome</th><th style=\"text-align: right;\">  LoanAmount</th><th style=\"text-align: right;\">  Loan_Amount_Term</th><th style=\"text-align: right;\">  Credit_History</th><th>Property_Area  </th><th>Loan_Status  </th></tr>\n",
       "</thead>\n",
       "<tbody>\n",
       "<tr><td>LP001002 </td><td>Male    </td><td>No       </td><td style=\"text-align: right;\">           0</td><td>Graduate    </td><td>No             </td><td style=\"text-align: right;\">             5849</td><td style=\"text-align: right;\">                  0</td><td style=\"text-align: right;\">         nan</td><td style=\"text-align: right;\">               360</td><td style=\"text-align: right;\">               1</td><td>Urban          </td><td>Y            </td></tr>\n",
       "<tr><td>LP001003 </td><td>Male    </td><td>Yes      </td><td style=\"text-align: right;\">           1</td><td>Graduate    </td><td>No             </td><td style=\"text-align: right;\">             4583</td><td style=\"text-align: right;\">               1508</td><td style=\"text-align: right;\">         128</td><td style=\"text-align: right;\">               360</td><td style=\"text-align: right;\">               1</td><td>Rural          </td><td>N            </td></tr>\n",
       "<tr><td>LP001005 </td><td>Male    </td><td>Yes      </td><td style=\"text-align: right;\">           0</td><td>Graduate    </td><td>Yes            </td><td style=\"text-align: right;\">             3000</td><td style=\"text-align: right;\">                  0</td><td style=\"text-align: right;\">          66</td><td style=\"text-align: right;\">               360</td><td style=\"text-align: right;\">               1</td><td>Urban          </td><td>Y            </td></tr>\n",
       "<tr><td>LP001006 </td><td>Male    </td><td>Yes      </td><td style=\"text-align: right;\">           0</td><td>Not Graduate</td><td>No             </td><td style=\"text-align: right;\">             2583</td><td style=\"text-align: right;\">               2358</td><td style=\"text-align: right;\">         120</td><td style=\"text-align: right;\">               360</td><td style=\"text-align: right;\">               1</td><td>Urban          </td><td>Y            </td></tr>\n",
       "<tr><td>LP001008 </td><td>Male    </td><td>No       </td><td style=\"text-align: right;\">           0</td><td>Graduate    </td><td>No             </td><td style=\"text-align: right;\">             6000</td><td style=\"text-align: right;\">                  0</td><td style=\"text-align: right;\">         141</td><td style=\"text-align: right;\">               360</td><td style=\"text-align: right;\">               1</td><td>Urban          </td><td>Y            </td></tr>\n",
       "<tr><td>LP001011 </td><td>Male    </td><td>Yes      </td><td style=\"text-align: right;\">           2</td><td>Graduate    </td><td>Yes            </td><td style=\"text-align: right;\">             5417</td><td style=\"text-align: right;\">               4196</td><td style=\"text-align: right;\">         267</td><td style=\"text-align: right;\">               360</td><td style=\"text-align: right;\">               1</td><td>Urban          </td><td>Y            </td></tr>\n",
       "<tr><td>LP001013 </td><td>Male    </td><td>Yes      </td><td style=\"text-align: right;\">           0</td><td>Not Graduate</td><td>No             </td><td style=\"text-align: right;\">             2333</td><td style=\"text-align: right;\">               1516</td><td style=\"text-align: right;\">          95</td><td style=\"text-align: right;\">               360</td><td style=\"text-align: right;\">               1</td><td>Urban          </td><td>Y            </td></tr>\n",
       "<tr><td>LP001014 </td><td>Male    </td><td>Yes      </td><td style=\"text-align: right;\">         nan</td><td>Graduate    </td><td>No             </td><td style=\"text-align: right;\">             3036</td><td style=\"text-align: right;\">               2504</td><td style=\"text-align: right;\">         158</td><td style=\"text-align: right;\">               360</td><td style=\"text-align: right;\">               0</td><td>Semiurban      </td><td>N            </td></tr>\n",
       "<tr><td>LP001018 </td><td>Male    </td><td>Yes      </td><td style=\"text-align: right;\">           2</td><td>Graduate    </td><td>No             </td><td style=\"text-align: right;\">             4006</td><td style=\"text-align: right;\">               1526</td><td style=\"text-align: right;\">         168</td><td style=\"text-align: right;\">               360</td><td style=\"text-align: right;\">               1</td><td>Urban          </td><td>Y            </td></tr>\n",
       "<tr><td>LP001020 </td><td>Male    </td><td>Yes      </td><td style=\"text-align: right;\">           1</td><td>Graduate    </td><td>No             </td><td style=\"text-align: right;\">            12841</td><td style=\"text-align: right;\">              10968</td><td style=\"text-align: right;\">         349</td><td style=\"text-align: right;\">               360</td><td style=\"text-align: right;\">               1</td><td>Semiurban      </td><td>N            </td></tr>\n",
       "</tbody>\n",
       "</table>"
      ]
     },
     "metadata": {},
     "output_type": "display_data"
    },
    {
     "data": {
      "text/plain": [
       "<bound method H2OFrame.describe of >"
      ]
     },
     "execution_count": 5,
     "metadata": {},
     "output_type": "execute_result"
    }
   ],
   "source": [
    "df.describe"
   ]
  },
  {
   "cell_type": "code",
   "execution_count": 6,
   "metadata": {},
   "outputs": [],
   "source": [
    "y = \"Loan_Status\"\n",
    "x = ['Gender','Married','Education','ApplicantIncome',\n",
    "    'LoanAmount','CoapplicantIncome','Loan_Amount_Term',\n",
    "    'Credit_History','Property_Area']"
   ]
  },
  {
   "cell_type": "code",
   "execution_count": 7,
   "metadata": {},
   "outputs": [
    {
     "name": "stdout",
     "output_type": "stream",
     "text": [
      "AutoML progress: |████████████████████████████████████████████████████████| 100%\n"
     ]
    }
   ],
   "source": [
    "aml = H2OAutoML(max_models = 30, max_runtime_secs=300, seed = 1)\n",
    "aml.train(x = x, y = y, training_frame = df)"
   ]
  },
  {
   "cell_type": "code",
   "execution_count": 8,
   "metadata": {},
   "outputs": [
    {
     "data": {
      "text/html": [
       "<table>\n",
       "<thead>\n",
       "<tr><th>model_id                                           </th><th style=\"text-align: right;\">     auc</th><th style=\"text-align: right;\">  logloss</th><th style=\"text-align: right;\">  mean_per_class_error</th><th style=\"text-align: right;\">    rmse</th><th style=\"text-align: right;\">     mse</th></tr>\n",
       "</thead>\n",
       "<tbody>\n",
       "<tr><td>DRF_1_AutoML_20191116_145011                       </td><td style=\"text-align: right;\">0.778319</td><td style=\"text-align: right;\"> 0.71234 </td><td style=\"text-align: right;\">              0.298307</td><td style=\"text-align: right;\">0.398046</td><td style=\"text-align: right;\">0.158441</td></tr>\n",
       "<tr><td>XGBoost_grid_1_AutoML_20191116_145011_model_3      </td><td style=\"text-align: right;\">0.772753</td><td style=\"text-align: right;\"> 0.491016</td><td style=\"text-align: right;\">              0.296887</td><td style=\"text-align: right;\">0.39651 </td><td style=\"text-align: right;\">0.15722 </td></tr>\n",
       "<tr><td>StackedEnsemble_BestOfFamily_AutoML_20191116_145011</td><td style=\"text-align: right;\">0.771765</td><td style=\"text-align: right;\"> 0.474827</td><td style=\"text-align: right;\">              0.290729</td><td style=\"text-align: right;\">0.388943</td><td style=\"text-align: right;\">0.151277</td></tr>\n",
       "<tr><td>XGBoost_1_AutoML_20191116_145011                   </td><td style=\"text-align: right;\">0.768889</td><td style=\"text-align: right;\"> 0.477044</td><td style=\"text-align: right;\">              0.292148</td><td style=\"text-align: right;\">0.390604</td><td style=\"text-align: right;\">0.152571</td></tr>\n",
       "<tr><td>XRT_1_AutoML_20191116_145011                       </td><td style=\"text-align: right;\">0.767927</td><td style=\"text-align: right;\"> 0.559623</td><td style=\"text-align: right;\">              0.303281</td><td style=\"text-align: right;\">0.401759</td><td style=\"text-align: right;\">0.16141 </td></tr>\n",
       "<tr><td>GBM_1_AutoML_20191116_145011                       </td><td style=\"text-align: right;\">0.766946</td><td style=\"text-align: right;\"> 0.495518</td><td style=\"text-align: right;\">              0.308958</td><td style=\"text-align: right;\">0.397398</td><td style=\"text-align: right;\">0.157925</td></tr>\n",
       "<tr><td>XGBoost_grid_1_AutoML_20191116_145011_model_7      </td><td style=\"text-align: right;\">0.766822</td><td style=\"text-align: right;\"> 0.485314</td><td style=\"text-align: right;\">              0.294752</td><td style=\"text-align: right;\">0.393139</td><td style=\"text-align: right;\">0.154558</td></tr>\n",
       "<tr><td>XGBoost_grid_1_AutoML_20191116_145011_model_4      </td><td style=\"text-align: right;\">0.766187</td><td style=\"text-align: right;\"> 0.484269</td><td style=\"text-align: right;\">              0.293333</td><td style=\"text-align: right;\">0.394066</td><td style=\"text-align: right;\">0.155288</td></tr>\n",
       "<tr><td>XGBoost_2_AutoML_20191116_145011                   </td><td style=\"text-align: right;\">0.765588</td><td style=\"text-align: right;\"> 0.494801</td><td style=\"text-align: right;\">              0.294752</td><td style=\"text-align: right;\">0.398957</td><td style=\"text-align: right;\">0.159166</td></tr>\n",
       "<tr><td>XGBoost_3_AutoML_20191116_145011                   </td><td style=\"text-align: right;\">0.763243</td><td style=\"text-align: right;\"> 0.484189</td><td style=\"text-align: right;\">              0.293333</td><td style=\"text-align: right;\">0.394297</td><td style=\"text-align: right;\">0.15547 </td></tr>\n",
       "</tbody>\n",
       "</table>"
      ]
     },
     "metadata": {},
     "output_type": "display_data"
    },
    {
     "data": {
      "text/plain": []
     },
     "execution_count": 8,
     "metadata": {},
     "output_type": "execute_result"
    }
   ],
   "source": [
    "lb = aml.leaderboard\n",
    "lb.head()"
   ]
  },
  {
   "cell_type": "code",
   "execution_count": 9,
   "metadata": {},
   "outputs": [
    {
     "name": "stdout",
     "output_type": "stream",
     "text": [
      "drf prediction progress: |████████████████████████████████████████████████| 100%\n"
     ]
    }
   ],
   "source": [
    "# predict and save\n",
    "preds = aml.predict(df)\n",
    "#save model\n",
    "#h2o.save_model(aml.leader, path = \"./Loan_Pred_Model_III_shaz13\")"
   ]
  },
  {
   "cell_type": "code",
   "execution_count": 10,
   "metadata": {},
   "outputs": [],
   "source": [
    "preds = preds.as_data_frame()"
   ]
  },
  {
   "cell_type": "code",
   "execution_count": 11,
   "metadata": {},
   "outputs": [
    {
     "data": {
      "text/html": [
       "<div>\n",
       "<style scoped>\n",
       "    .dataframe tbody tr th:only-of-type {\n",
       "        vertical-align: middle;\n",
       "    }\n",
       "\n",
       "    .dataframe tbody tr th {\n",
       "        vertical-align: top;\n",
       "    }\n",
       "\n",
       "    .dataframe thead th {\n",
       "        text-align: right;\n",
       "    }\n",
       "</style>\n",
       "<table border=\"1\" class=\"dataframe\">\n",
       "  <thead>\n",
       "    <tr style=\"text-align: right;\">\n",
       "      <th></th>\n",
       "      <th>predict</th>\n",
       "      <th>N</th>\n",
       "      <th>Y</th>\n",
       "    </tr>\n",
       "  </thead>\n",
       "  <tbody>\n",
       "    <tr>\n",
       "      <td>0</td>\n",
       "      <td>Y</td>\n",
       "      <td>0.295154</td>\n",
       "      <td>0.704846</td>\n",
       "    </tr>\n",
       "    <tr>\n",
       "      <td>1</td>\n",
       "      <td>Y</td>\n",
       "      <td>0.651064</td>\n",
       "      <td>0.348936</td>\n",
       "    </tr>\n",
       "    <tr>\n",
       "      <td>2</td>\n",
       "      <td>Y</td>\n",
       "      <td>0.087199</td>\n",
       "      <td>0.912801</td>\n",
       "    </tr>\n",
       "    <tr>\n",
       "      <td>3</td>\n",
       "      <td>Y</td>\n",
       "      <td>0.002093</td>\n",
       "      <td>0.997907</td>\n",
       "    </tr>\n",
       "    <tr>\n",
       "      <td>4</td>\n",
       "      <td>Y</td>\n",
       "      <td>0.021277</td>\n",
       "      <td>0.978723</td>\n",
       "    </tr>\n",
       "  </tbody>\n",
       "</table>\n",
       "</div>"
      ],
      "text/plain": [
       "  predict         N         Y\n",
       "0       Y  0.295154  0.704846\n",
       "1       Y  0.651064  0.348936\n",
       "2       Y  0.087199  0.912801\n",
       "3       Y  0.002093  0.997907\n",
       "4       Y  0.021277  0.978723"
      ]
     },
     "execution_count": 11,
     "metadata": {},
     "output_type": "execute_result"
    }
   ],
   "source": [
    "preds.head()"
   ]
  },
  {
   "cell_type": "code",
   "execution_count": 12,
   "metadata": {},
   "outputs": [
    {
     "data": {
      "text/html": [
       "<table>\n",
       "<thead>\n",
       "<tr><th>Loan_ID  </th><th>Gender  </th><th>Married  </th><th style=\"text-align: right;\">  Dependents</th><th>Education   </th><th>Self_Employed  </th><th style=\"text-align: right;\">  ApplicantIncome</th><th style=\"text-align: right;\">  CoapplicantIncome</th><th style=\"text-align: right;\">  LoanAmount</th><th style=\"text-align: right;\">  Loan_Amount_Term</th><th style=\"text-align: right;\">  Credit_History</th><th>Property_Area  </th><th>Loan_Status  </th></tr>\n",
       "</thead>\n",
       "<tbody>\n",
       "<tr><td>LP001002 </td><td>Male    </td><td>No       </td><td style=\"text-align: right;\">           0</td><td>Graduate    </td><td>No             </td><td style=\"text-align: right;\">             5849</td><td style=\"text-align: right;\">                  0</td><td style=\"text-align: right;\">         nan</td><td style=\"text-align: right;\">               360</td><td style=\"text-align: right;\">               1</td><td>Urban          </td><td>Y            </td></tr>\n",
       "<tr><td>LP001003 </td><td>Male    </td><td>Yes      </td><td style=\"text-align: right;\">           1</td><td>Graduate    </td><td>No             </td><td style=\"text-align: right;\">             4583</td><td style=\"text-align: right;\">               1508</td><td style=\"text-align: right;\">         128</td><td style=\"text-align: right;\">               360</td><td style=\"text-align: right;\">               1</td><td>Rural          </td><td>N            </td></tr>\n",
       "<tr><td>LP001005 </td><td>Male    </td><td>Yes      </td><td style=\"text-align: right;\">           0</td><td>Graduate    </td><td>Yes            </td><td style=\"text-align: right;\">             3000</td><td style=\"text-align: right;\">                  0</td><td style=\"text-align: right;\">          66</td><td style=\"text-align: right;\">               360</td><td style=\"text-align: right;\">               1</td><td>Urban          </td><td>Y            </td></tr>\n",
       "<tr><td>LP001006 </td><td>Male    </td><td>Yes      </td><td style=\"text-align: right;\">           0</td><td>Not Graduate</td><td>No             </td><td style=\"text-align: right;\">             2583</td><td style=\"text-align: right;\">               2358</td><td style=\"text-align: right;\">         120</td><td style=\"text-align: right;\">               360</td><td style=\"text-align: right;\">               1</td><td>Urban          </td><td>Y            </td></tr>\n",
       "<tr><td>LP001008 </td><td>Male    </td><td>No       </td><td style=\"text-align: right;\">           0</td><td>Graduate    </td><td>No             </td><td style=\"text-align: right;\">             6000</td><td style=\"text-align: right;\">                  0</td><td style=\"text-align: right;\">         141</td><td style=\"text-align: right;\">               360</td><td style=\"text-align: right;\">               1</td><td>Urban          </td><td>Y            </td></tr>\n",
       "<tr><td>LP001011 </td><td>Male    </td><td>Yes      </td><td style=\"text-align: right;\">           2</td><td>Graduate    </td><td>Yes            </td><td style=\"text-align: right;\">             5417</td><td style=\"text-align: right;\">               4196</td><td style=\"text-align: right;\">         267</td><td style=\"text-align: right;\">               360</td><td style=\"text-align: right;\">               1</td><td>Urban          </td><td>Y            </td></tr>\n",
       "<tr><td>LP001013 </td><td>Male    </td><td>Yes      </td><td style=\"text-align: right;\">           0</td><td>Not Graduate</td><td>No             </td><td style=\"text-align: right;\">             2333</td><td style=\"text-align: right;\">               1516</td><td style=\"text-align: right;\">          95</td><td style=\"text-align: right;\">               360</td><td style=\"text-align: right;\">               1</td><td>Urban          </td><td>Y            </td></tr>\n",
       "<tr><td>LP001014 </td><td>Male    </td><td>Yes      </td><td style=\"text-align: right;\">         nan</td><td>Graduate    </td><td>No             </td><td style=\"text-align: right;\">             3036</td><td style=\"text-align: right;\">               2504</td><td style=\"text-align: right;\">         158</td><td style=\"text-align: right;\">               360</td><td style=\"text-align: right;\">               0</td><td>Semiurban      </td><td>N            </td></tr>\n",
       "<tr><td>LP001018 </td><td>Male    </td><td>Yes      </td><td style=\"text-align: right;\">           2</td><td>Graduate    </td><td>No             </td><td style=\"text-align: right;\">             4006</td><td style=\"text-align: right;\">               1526</td><td style=\"text-align: right;\">         168</td><td style=\"text-align: right;\">               360</td><td style=\"text-align: right;\">               1</td><td>Urban          </td><td>Y            </td></tr>\n",
       "<tr><td>LP001020 </td><td>Male    </td><td>Yes      </td><td style=\"text-align: right;\">           1</td><td>Graduate    </td><td>No             </td><td style=\"text-align: right;\">            12841</td><td style=\"text-align: right;\">              10968</td><td style=\"text-align: right;\">         349</td><td style=\"text-align: right;\">               360</td><td style=\"text-align: right;\">               1</td><td>Semiurban      </td><td>N            </td></tr>\n",
       "</tbody>\n",
       "</table>"
      ]
     },
     "metadata": {},
     "output_type": "display_data"
    },
    {
     "data": {
      "text/plain": []
     },
     "execution_count": 12,
     "metadata": {},
     "output_type": "execute_result"
    }
   ],
   "source": [
    "df.head()"
   ]
  },
  {
   "cell_type": "code",
   "execution_count": null,
   "metadata": {},
   "outputs": [],
   "source": []
  }
 ],
 "metadata": {
  "kernelspec": {
   "display_name": "Python 3",
   "language": "python",
   "name": "python3"
  },
  "language_info": {
   "codemirror_mode": {
    "name": "ipython",
    "version": 3
   },
   "file_extension": ".py",
   "mimetype": "text/x-python",
   "name": "python",
   "nbconvert_exporter": "python",
   "pygments_lexer": "ipython3",
   "version": "3.7.4"
  }
 },
 "nbformat": 4,
 "nbformat_minor": 4
}
