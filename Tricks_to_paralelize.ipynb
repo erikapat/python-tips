{
 "cells": [
  {
   "cell_type": "code",
   "execution_count": null,
   "metadata": {},
   "outputs": [],
   "source": []
  },
  {
   "cell_type": "markdown",
   "metadata": {},
   "source": [
    "**Refs:**:\n",
    "\n",
    "https://www.machinelearningplus.com/python/parallel-processing-python/"
   ]
  },
  {
   "cell_type": "markdown",
   "metadata": {},
   "source": [
    "parallelization in pythoN, R AND MATLAB\n",
    "\n",
    "* https://blog.dominodatalab.com/simple-parallelization/\n",
    "\n",
    "gpu\n",
    "\n",
    "*https://medium.com/rapids-ai/tsne-with-gpus-hours-to-seconds-9d9c17c941db\n",
    "\n",
    "otros\n",
    "\n",
    "* https://www.r-bloggers.com/using-parallelization-multiple-git-repositories-and-setting-permissions-when-automating-r-applications-with-jenkins/\n",
    "\n",
    "* in spark: https://towardsdatascience.com/how-to-train-multiple-machine-learning-models-and-run-other-data-tasks-in-parallel-by-combining-2fa9670dd579"
   ]
  },
  {
   "cell_type": "markdown",
   "metadata": {},
   "source": [
    "https://jaehyeon.me/blog/2019-11-15-Distributed-Task-Queue-with-Python-and-R-Example/"
   ]
  },
  {
   "cell_type": "markdown",
   "metadata": {},
   "source": [
    "## docker and kubernetes\n",
    "\n",
    "https://medium.com/javarevisited/whatever-you-need-to-learn-about-docker-kubernetes-ci-and-cd-57006d9d8be4"
   ]
  },
  {
   "cell_type": "markdown",
   "metadata": {},
   "source": [
    "## data managements\n",
    "https://www.kdnuggets.com/2019/10/data-scientist-data-management.html\n",
    "\n",
    "https://www.notsosecure.com/cloud-services-enumeration-aws-azure-and-gcp/"
   ]
  },
  {
   "cell_type": "markdown",
   "metadata": {},
   "source": [
    "## mage Classification With TensorFlow 2.0 ( Without Keras )\n",
    "https://becominghuman.ai/image-classification-with-tensorflow-2-0-without-keras-e6534adddab2\n",
    "https://towardsdatascience.com/deep-learning-saving-rainforests-with-tensorflow-4e906344811a\n",
    "\n",
    "https://register.gotowebinar.com/register/8202599037694830093"
   ]
  },
  {
   "cell_type": "markdown",
   "metadata": {},
   "source": [
    "How To Fake Being a Good Programmer\n",
    "https://towardsdatascience.com/how-to-fake-being-a-good-programmer-cbef2c39764c"
   ]
  }
 ],
 "metadata": {
  "kernelspec": {
   "display_name": "Python 3",
   "language": "python",
   "name": "python3"
  },
  "language_info": {
   "codemirror_mode": {
    "name": "ipython",
    "version": 3
   },
   "file_extension": ".py",
   "mimetype": "text/x-python",
   "name": "python",
   "nbconvert_exporter": "python",
   "pygments_lexer": "ipython3",
   "version": "3.7.4"
  }
 },
 "nbformat": 4,
 "nbformat_minor": 4
}
