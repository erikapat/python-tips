{
 "cells": [
  {
   "cell_type": "code",
   "execution_count": null,
   "metadata": {},
   "outputs": [],
   "source": []
  },
  {
   "cell_type": "code",
   "execution_count": 1,
   "metadata": {},
   "outputs": [],
   "source": [
    "## **LOAD PACKAGES**\n",
    "\n",
    "import pandas as pd\n",
    "import os\n",
    "from datetime import datetime\n",
    "import numpy as np\n",
    "\n",
    "#Sometimes I will use R functions (those I believe are the best ones)\n",
    "# Load in the r magic\n",
    "%load_ext rpy2.ipython"
   ]
  },
  {
   "cell_type": "code",
   "execution_count": 2,
   "metadata": {},
   "outputs": [],
   "source": [
    "#load treated and aggregated datas\n",
    "df = pd.read_csv('data/eng_data.csv') \n",
    "df_topic = pd.read_csv('data/topic_data.csv') "
   ]
  },
  {
   "cell_type": "code",
   "execution_count": 3,
   "metadata": {},
   "outputs": [
    {
     "name": "stdout",
     "output_type": "stream",
     "text": [
      "(9860, 20)\n"
     ]
    }
   ],
   "source": [
    "print(df.shape)"
   ]
  },
  {
   "cell_type": "code",
   "execution_count": 4,
   "metadata": {},
   "outputs": [
    {
     "data": {
      "text/html": [
       "<div>\n",
       "<style scoped>\n",
       "    .dataframe tbody tr th:only-of-type {\n",
       "        vertical-align: middle;\n",
       "    }\n",
       "\n",
       "    .dataframe tbody tr th {\n",
       "        vertical-align: top;\n",
       "    }\n",
       "\n",
       "    .dataframe thead th {\n",
       "        text-align: right;\n",
       "    }\n",
       "</style>\n",
       "<table border=\"1\" class=\"dataframe\">\n",
       "  <thead>\n",
       "    <tr style=\"text-align: right;\">\n",
       "      <th></th>\n",
       "      <th>url_title</th>\n",
       "      <th>Topic</th>\n",
       "    </tr>\n",
       "  </thead>\n",
       "  <tbody>\n",
       "    <tr>\n",
       "      <td>0</td>\n",
       "      <td>saw-liked-2017-part-3</td>\n",
       "      <td>0</td>\n",
       "    </tr>\n",
       "    <tr>\n",
       "      <td>1</td>\n",
       "      <td>not-deep-learning-learning-represent</td>\n",
       "      <td>0</td>\n",
       "    </tr>\n",
       "    <tr>\n",
       "      <td>2</td>\n",
       "      <td>a-weird-introduction-to-deep-learning</td>\n",
       "      <td>0</td>\n",
       "    </tr>\n",
       "    <tr>\n",
       "      <td>3</td>\n",
       "      <td>saw-liked-2017</td>\n",
       "      <td>0</td>\n",
       "    </tr>\n",
       "    <tr>\n",
       "      <td>4</td>\n",
       "      <td>saw-open-data-science-conference-europe-2017</td>\n",
       "      <td>0</td>\n",
       "    </tr>\n",
       "  </tbody>\n",
       "</table>\n",
       "</div>"
      ],
      "text/plain": [
       "                                      url_title  Topic\n",
       "0                         saw-liked-2017-part-3      0\n",
       "1          not-deep-learning-learning-represent      0\n",
       "2         a-weird-introduction-to-deep-learning      0\n",
       "3                                saw-liked-2017      0\n",
       "4  saw-open-data-science-conference-europe-2017      0"
      ]
     },
     "execution_count": 4,
     "metadata": {},
     "output_type": "execute_result"
    }
   ],
   "source": [
    "df_topic.head()"
   ]
  },
  {
   "cell_type": "code",
   "execution_count": 5,
   "metadata": {},
   "outputs": [],
   "source": [
    "df = pd.merge(df, df_topic, on = 'url_title', how = 'left')"
   ]
  },
  {
   "cell_type": "code",
   "execution_count": 6,
   "metadata": {},
   "outputs": [
    {
     "data": {
      "text/html": [
       "<div>\n",
       "<style scoped>\n",
       "    .dataframe tbody tr th:only-of-type {\n",
       "        vertical-align: middle;\n",
       "    }\n",
       "\n",
       "    .dataframe tbody tr th {\n",
       "        vertical-align: top;\n",
       "    }\n",
       "\n",
       "    .dataframe thead th {\n",
       "        text-align: right;\n",
       "    }\n",
       "</style>\n",
       "<table border=\"1\" class=\"dataframe\">\n",
       "  <thead>\n",
       "    <tr style=\"text-align: right;\">\n",
       "      <th></th>\n",
       "      <th>Page Title</th>\n",
       "      <th>Sessions</th>\n",
       "      <th>Avg. Time on Page</th>\n",
       "      <th>Bounce Rate</th>\n",
       "      <th>Page Views</th>\n",
       "      <th>Unique Page Views</th>\n",
       "      <th>Users</th>\n",
       "      <th>url_title</th>\n",
       "      <th>content</th>\n",
       "      <th>title</th>\n",
       "      <th>...</th>\n",
       "      <th>month</th>\n",
       "      <th>mobile</th>\n",
       "      <th>tablet</th>\n",
       "      <th>(direct)</th>\n",
       "      <th>goog</th>\n",
       "      <th>nkedin</th>\n",
       "      <th>t.co</th>\n",
       "      <th>spain</th>\n",
       "      <th>united states</th>\n",
       "      <th>Topic</th>\n",
       "    </tr>\n",
       "  </thead>\n",
       "  <tbody>\n",
       "    <tr>\n",
       "      <td>1078</td>\n",
       "      <td>predicting regional economic indices - bbva da...</td>\n",
       "      <td>3.0</td>\n",
       "      <td>11</td>\n",
       "      <td>0.6667</td>\n",
       "      <td>3.0</td>\n",
       "      <td>3.0</td>\n",
       "      <td>3.0</td>\n",
       "      <td>bbva-da-won-best-paper-award-in-data-science-c...</td>\n",
       "      <td>\\nit’s not unusual for people to complain abou...</td>\n",
       "      <td>predicting regional economic indices</td>\n",
       "      <td>...</td>\n",
       "      <td>2</td>\n",
       "      <td>0</td>\n",
       "      <td>0</td>\n",
       "      <td>0</td>\n",
       "      <td>1</td>\n",
       "      <td>0</td>\n",
       "      <td>0</td>\n",
       "      <td>0</td>\n",
       "      <td>0</td>\n",
       "      <td>NaN</td>\n",
       "    </tr>\n",
       "    <tr>\n",
       "      <td>1079</td>\n",
       "      <td>predicting regional economic indices - bbva da...</td>\n",
       "      <td>2.0</td>\n",
       "      <td>0</td>\n",
       "      <td>1.0000</td>\n",
       "      <td>2.0</td>\n",
       "      <td>2.0</td>\n",
       "      <td>2.0</td>\n",
       "      <td>bbva-da-won-best-paper-award-in-data-science-c...</td>\n",
       "      <td>\\nit’s not unusual for people to complain abou...</td>\n",
       "      <td>predicting regional economic indices</td>\n",
       "      <td>...</td>\n",
       "      <td>2</td>\n",
       "      <td>0</td>\n",
       "      <td>0</td>\n",
       "      <td>0</td>\n",
       "      <td>1</td>\n",
       "      <td>0</td>\n",
       "      <td>0</td>\n",
       "      <td>0</td>\n",
       "      <td>0</td>\n",
       "      <td>NaN</td>\n",
       "    </tr>\n",
       "  </tbody>\n",
       "</table>\n",
       "<p>2 rows × 21 columns</p>\n",
       "</div>"
      ],
      "text/plain": [
       "                                             Page Title  Sessions  \\\n",
       "1078  predicting regional economic indices - bbva da...       3.0   \n",
       "1079  predicting regional economic indices - bbva da...       2.0   \n",
       "\n",
       "      Avg. Time on Page  Bounce Rate  Page Views  Unique Page Views  Users  \\\n",
       "1078                 11       0.6667         3.0                3.0    3.0   \n",
       "1079                  0       1.0000         2.0                2.0    2.0   \n",
       "\n",
       "                                              url_title  \\\n",
       "1078  bbva-da-won-best-paper-award-in-data-science-c...   \n",
       "1079  bbva-da-won-best-paper-award-in-data-science-c...   \n",
       "\n",
       "                                                content  \\\n",
       "1078  \\nit’s not unusual for people to complain abou...   \n",
       "1079  \\nit’s not unusual for people to complain abou...   \n",
       "\n",
       "                                     title  ...  month  mobile  tablet  \\\n",
       "1078  predicting regional economic indices  ...      2       0       0   \n",
       "1079  predicting regional economic indices  ...      2       0       0   \n",
       "\n",
       "      (direct)  goog  nkedin  t.co  spain  united states  Topic  \n",
       "1078         0     1       0     0      0              0    NaN  \n",
       "1079         0     1       0     0      0              0    NaN  \n",
       "\n",
       "[2 rows x 21 columns]"
      ]
     },
     "execution_count": 6,
     "metadata": {},
     "output_type": "execute_result"
    }
   ],
   "source": [
    "#topics in other languages\n",
    "df[df.Topic.isnull()].head(2)"
   ]
  },
  {
   "cell_type": "code",
   "execution_count": 7,
   "metadata": {},
   "outputs": [],
   "source": [
    "df_notnull = df[~df.isnull()]"
   ]
  },
  {
   "cell_type": "code",
   "execution_count": 8,
   "metadata": {},
   "outputs": [],
   "source": [
    "topic_user = df_notnull.groupby('Topic')['Users'].sum()/df_notnull['Users'].sum()\n",
    "topic_unique_page_views = df_notnull.groupby('Topic')['Unique Page Views'].sum()/df_notnull['Unique Page Views'].sum()\n",
    "topic_page_views = df_notnull.groupby('Topic')['Page Views'].sum()/df_notnull['Page Views'].sum()\n",
    "Avg_Time_Page = df_notnull.groupby('Topic')['Avg. Time on Page'].sum()/df_notnull['Avg. Time on Page'].sum()\n",
    "topic_user = topic_user.reset_index()\n",
    "topic_unique_page_views = topic_unique_page_views.reset_index()\n",
    "topic_page_views = topic_page_views.reset_index()\n",
    "Avg_Time_Page = Avg_Time_Page.reset_index()"
   ]
  },
  {
   "cell_type": "code",
   "execution_count": 9,
   "metadata": {},
   "outputs": [
    {
     "data": {
      "text/html": [
       "<div>\n",
       "<style scoped>\n",
       "    .dataframe tbody tr th:only-of-type {\n",
       "        vertical-align: middle;\n",
       "    }\n",
       "\n",
       "    .dataframe tbody tr th {\n",
       "        vertical-align: top;\n",
       "    }\n",
       "\n",
       "    .dataframe thead th {\n",
       "        text-align: right;\n",
       "    }\n",
       "</style>\n",
       "<table border=\"1\" class=\"dataframe\">\n",
       "  <thead>\n",
       "    <tr style=\"text-align: right;\">\n",
       "      <th></th>\n",
       "      <th>Topic</th>\n",
       "      <th>Users</th>\n",
       "    </tr>\n",
       "  </thead>\n",
       "  <tbody>\n",
       "    <tr>\n",
       "      <td>0</td>\n",
       "      <td>0.0</td>\n",
       "      <td>0.113543</td>\n",
       "    </tr>\n",
       "    <tr>\n",
       "      <td>1</td>\n",
       "      <td>1.0</td>\n",
       "      <td>0.311047</td>\n",
       "    </tr>\n",
       "    <tr>\n",
       "      <td>2</td>\n",
       "      <td>2.0</td>\n",
       "      <td>0.042029</td>\n",
       "    </tr>\n",
       "    <tr>\n",
       "      <td>3</td>\n",
       "      <td>3.0</td>\n",
       "      <td>0.048786</td>\n",
       "    </tr>\n",
       "    <tr>\n",
       "      <td>4</td>\n",
       "      <td>4.0</td>\n",
       "      <td>0.173030</td>\n",
       "    </tr>\n",
       "    <tr>\n",
       "      <td>5</td>\n",
       "      <td>5.0</td>\n",
       "      <td>0.103359</td>\n",
       "    </tr>\n",
       "    <tr>\n",
       "      <td>6</td>\n",
       "      <td>6.0</td>\n",
       "      <td>0.059487</td>\n",
       "    </tr>\n",
       "  </tbody>\n",
       "</table>\n",
       "</div>"
      ],
      "text/plain": [
       "   Topic     Users\n",
       "0    0.0  0.113543\n",
       "1    1.0  0.311047\n",
       "2    2.0  0.042029\n",
       "3    3.0  0.048786\n",
       "4    4.0  0.173030\n",
       "5    5.0  0.103359\n",
       "6    6.0  0.059487"
      ]
     },
     "execution_count": 9,
     "metadata": {},
     "output_type": "execute_result"
    }
   ],
   "source": [
    "topic_user"
   ]
  },
  {
   "cell_type": "code",
   "execution_count": 10,
   "metadata": {},
   "outputs": [],
   "source": [
    "%%R \n",
    "\n",
    "#functions of R created by me and use it in this notebook: in Rgraphs.R - loaded before\n",
    "bar_plot <- function(dataset, var, siz = 15, title = ''){\n",
    "    require(forcats)\n",
    "    require(ggplot2)\n",
    "    require(data.table)\n",
    "    require(tidyquant)\n",
    "    dataset_copy = copy(dataset)\n",
    "    names(dataset_copy) <- c('var', 'val')\n",
    "    d <- ggplot(dataset_copy, aes(x = reorder(factor(var),val), y = val)) + geom_bar(stat=\"identity\") + coord_flip()\n",
    "    d <- d + ylab(var) + xlab('Frequency') \n",
    "    d <- d + theme_tq() \n",
    "    d <- d + theme(axis.title.y = element_text(size = rel(1.5)))\n",
    "    d <- d + theme(axis.text.y = element_text(size = rel(1.8)))\n",
    "    d <- d + theme(axis.text.x = element_text(size = rel(1.8)))\n",
    "    d <- d + theme(axis.title.x = element_text(size = rel(1.5)))\n",
    "    d <- d + theme(legend.text = element_text(size = siz))\n",
    "    d <- d + theme(legend.title = element_text(size = siz))\n",
    "    d <- d +  theme(\n",
    "        panel.background = element_rect(fill=\"white\") ,\n",
    "        panel.grid.minor.y = element_line(size=3),\n",
    "        panel.grid.major = element_line(colour = \"lightgray\"),\n",
    "        plot.background = element_rect(fill=\"white\")\n",
    "      )\n",
    "\n",
    "    d <- d + ggtitle(title)\n",
    "    return(d)\n",
    "}"
   ]
  },
  {
   "cell_type": "code",
   "execution_count": 11,
   "metadata": {},
   "outputs": [
    {
     "name": "stderr",
     "output_type": "stream",
     "text": [
      "R[write to console]: Loading required package: forcats\n",
      "\n",
      "R[write to console]: Loading required package: ggplot2\n",
      "\n",
      "R[write to console]: Loading required package: data.table\n",
      "\n",
      "R[write to console]: Loading required package: tidyquant\n",
      "\n",
      "R[write to console]: Loading required package: lubridate\n",
      "\n",
      "R[write to console]: \n",
      "Attaching package: ‘lubridate’\n",
      "\n",
      "\n",
      "R[write to console]: The following objects are masked from ‘package:data.table’:\n",
      "\n",
      "    hour, isoweek, mday, minute, month, quarter, second, wday, week,\n",
      "    yday, year\n",
      "\n",
      "\n",
      "R[write to console]: The following object is masked from ‘package:base’:\n",
      "\n",
      "    date\n",
      "\n",
      "\n",
      "R[write to console]: Loading required package: PerformanceAnalytics\n",
      "\n",
      "R[write to console]: Loading required package: xts\n",
      "\n",
      "R[write to console]: Loading required package: zoo\n",
      "\n",
      "R[write to console]: \n",
      "Attaching package: ‘zoo’\n",
      "\n",
      "\n",
      "R[write to console]: The following objects are masked from ‘package:base’:\n",
      "\n",
      "    as.Date, as.Date.numeric\n",
      "\n",
      "\n",
      "R[write to console]: \n",
      "Attaching package: ‘xts’\n",
      "\n",
      "\n",
      "R[write to console]: The following objects are masked from ‘package:data.table’:\n",
      "\n",
      "    first, last\n",
      "\n",
      "\n",
      "R[write to console]: \n",
      "Attaching package: ‘PerformanceAnalytics’\n",
      "\n",
      "\n",
      "R[write to console]: The following object is masked from ‘package:graphics’:\n",
      "\n",
      "    legend\n",
      "\n",
      "\n",
      "R[write to console]: Loading required package: quantmod\n",
      "\n",
      "R[write to console]: Loading required package: TTR\n",
      "\n",
      "R[write to console]: Version 0.4-0 included new data defaults. See ?getSymbols.\n",
      "\n",
      "R[write to console]: Loading required package: tidyverse\n",
      "\n",
      "R[write to console]: ── \u001b[1mAttaching packages\u001b[22m ─────────────────────────────────────── tidyverse 1.2.1 ──\n",
      "\n",
      "R[write to console]: \u001b[32m✔\u001b[39m \u001b[34mtibble \u001b[39m 1.4.2     \u001b[32m✔\u001b[39m \u001b[34mpurrr  \u001b[39m 0.2.5\n",
      "\u001b[32m✔\u001b[39m \u001b[34mtidyr  \u001b[39m 0.8.1     \u001b[32m✔\u001b[39m \u001b[34mdplyr  \u001b[39m 0.7.6\n",
      "\u001b[32m✔\u001b[39m \u001b[34mreadr  \u001b[39m 1.1.1     \u001b[32m✔\u001b[39m \u001b[34mstringr\u001b[39m 1.3.1\n",
      "\n",
      "R[write to console]: ── \u001b[1mConflicts\u001b[22m ────────────────────────────────────────── tidyverse_conflicts() ──\n",
      "\u001b[31m✖\u001b[39m \u001b[34mlubridate\u001b[39m::\u001b[32mas.difftime()\u001b[39m masks \u001b[34mbase\u001b[39m::as.difftime()\n",
      "\u001b[31m✖\u001b[39m \u001b[34mdplyr\u001b[39m::\u001b[32mbetween()\u001b[39m         masks \u001b[34mdata.table\u001b[39m::between()\n",
      "\u001b[31m✖\u001b[39m \u001b[34mlubridate\u001b[39m::\u001b[32mdate()\u001b[39m        masks \u001b[34mbase\u001b[39m::date()\n",
      "\u001b[31m✖\u001b[39m \u001b[34mdplyr\u001b[39m::\u001b[32mfilter()\u001b[39m          masks \u001b[34mstats\u001b[39m::filter()\n",
      "\u001b[31m✖\u001b[39m \u001b[34mdplyr\u001b[39m::\u001b[32mfirst()\u001b[39m           masks \u001b[34mxts\u001b[39m::first(), \u001b[34mdata.table\u001b[39m::first()\n",
      "\u001b[31m✖\u001b[39m \u001b[34mlubridate\u001b[39m::\u001b[32mhour()\u001b[39m        masks \u001b[34mdata.table\u001b[39m::hour()\n",
      "\u001b[31m✖\u001b[39m \u001b[34mlubridate\u001b[39m::\u001b[32mintersect()\u001b[39m   masks \u001b[34mbase\u001b[39m::intersect()\n",
      "\u001b[31m✖\u001b[39m \u001b[34mlubridate\u001b[39m::\u001b[32misoweek()\u001b[39m     masks \u001b[34mdata.table\u001b[39m::isoweek()\n",
      "\u001b[31m✖\u001b[39m \u001b[34mdplyr\u001b[39m::\u001b[32mlag()\u001b[39m             masks \u001b[34mstats\u001b[39m::lag()\n",
      "\u001b[31m✖\u001b[39m \u001b[34mdplyr\u001b[39m::\u001b[32mlast()\u001b[39m            masks \u001b[34mxts\u001b[39m::last(), \u001b[34mdata.table\u001b[39m::last()\n",
      "\u001b[31m✖\u001b[39m \u001b[34mlubridate\u001b[39m::\u001b[32mmday()\u001b[39m        masks \u001b[34mdata.table\u001b[39m::mday()\n",
      "\u001b[31m✖\u001b[39m \u001b[34mlubridate\u001b[39m::\u001b[32mminute()\u001b[39m      masks \u001b[34mdata.table\u001b[39m::minute()\n",
      "\u001b[31m✖\u001b[39m \u001b[34mlubridate\u001b[39m::\u001b[32mmonth()\u001b[39m       masks \u001b[34mdata.table\u001b[39m::month()\n",
      "\u001b[31m✖\u001b[39m \u001b[34mlubridate\u001b[39m::\u001b[32mquarter()\u001b[39m     masks \u001b[34mdata.table\u001b[39m::quarter()\n",
      "\u001b[31m✖\u001b[39m \u001b[34mlubridate\u001b[39m::\u001b[32msecond()\u001b[39m      masks \u001b[34mdata.table\u001b[39m::second()\n",
      "\u001b[31m✖\u001b[39m \u001b[34mlubridate\u001b[39m::\u001b[32msetdiff()\u001b[39m     masks \u001b[34mbase\u001b[39m::setdiff()\n",
      "\u001b[31m✖\u001b[39m \u001b[34mpurrr\u001b[39m::\u001b[32mtranspose()\u001b[39m       masks \u001b[34mdata.table\u001b[39m::transpose()\n",
      "\u001b[31m✖\u001b[39m \u001b[34mlubridate\u001b[39m::\u001b[32munion()\u001b[39m       masks \u001b[34mbase\u001b[39m::union()\n",
      "\u001b[31m✖\u001b[39m \u001b[34mlubridate\u001b[39m::\u001b[32mwday()\u001b[39m        masks \u001b[34mdata.table\u001b[39m::wday()\n",
      "\u001b[31m✖\u001b[39m \u001b[34mlubridate\u001b[39m::\u001b[32mweek()\u001b[39m        masks \u001b[34mdata.table\u001b[39m::week()\n",
      "\u001b[31m✖\u001b[39m \u001b[34mlubridate\u001b[39m::\u001b[32myday()\u001b[39m        masks \u001b[34mdata.table\u001b[39m::yday()\n",
      "\u001b[31m✖\u001b[39m \u001b[34mlubridate\u001b[39m::\u001b[32myear()\u001b[39m        masks \u001b[34mdata.table\u001b[39m::year()\n",
      "\n"
     ]
    },
    {
     "data": {
      "image/png": "[encoded data removed]"
     },
     "metadata": {},
     "output_type": "display_data"
    }
   ],
   "source": [
    "%%R -i topic_user -w 1000 -h 500 -u px\n",
    "bar_plot(topic_user, 'Topic', title = 'Users')"
   ]
  },
  {
   "cell_type": "code",
   "execution_count": 12,
   "metadata": {},
   "outputs": [
    {
     "data": {
      "image/png": "[encoded data removed]"
     },
     "metadata": {},
     "output_type": "display_data"
    }
   ],
   "source": [
    "%%R -i topic_unique_page_views -w 1000 -h 500 -u px\n",
    "bar_plot(topic_unique_page_views, 'Topic', title = 'Unique Page Views')"
   ]
  },
  {
   "cell_type": "code",
   "execution_count": 13,
   "metadata": {},
   "outputs": [
    {
     "data": {
      "image/png": "[encoded data removed]"
     },
     "metadata": {},
     "output_type": "display_data"
    }
   ],
   "source": [
    "%%R -i topic_page_views -w 1000 -h 500 -u px\n",
    "bar_plot(topic_page_views, 'Topic', title = 'Page Views')"
   ]
  },
  {
   "cell_type": "code",
   "execution_count": 14,
   "metadata": {},
   "outputs": [
    {
     "data": {
      "image/png": "[encoded data removed]"
     },
     "metadata": {},
     "output_type": "display_data"
    }
   ],
   "source": [
    "%%R -i Avg_Time_Page -w 1000 -h 500 -u px\n",
    "bar_plot(Avg_Time_Page, 'Topic', title = 'Avg_Time_Page')"
   ]
  },
  {
   "cell_type": "code",
   "execution_count": 15,
   "metadata": {},
   "outputs": [],
   "source": [
    "#topics in other languages\n",
    "df[\"Topic\"] = pd.to_numeric(df.Topic, errors='coerce').fillna(7).astype(int)\n",
    "#one hot encoding of topic\n",
    "df_topic = pd.get_dummies(df['Topic'],drop_first=True, prefix='Topic')\n",
    "# concatenate data.frames\n",
    "frames = [df, df_topic]\n",
    "df = pd.concat(frames, axis = 1) #, sort= True\n",
    "df = df.drop(columns = ['Topic'])"
   ]
  },
  {
   "cell_type": "code",
   "execution_count": 16,
   "metadata": {},
   "outputs": [
    {
     "data": {
      "text/html": [
       "<div>\n",
       "<style scoped>\n",
       "    .dataframe tbody tr th:only-of-type {\n",
       "        vertical-align: middle;\n",
       "    }\n",
       "\n",
       "    .dataframe tbody tr th {\n",
       "        vertical-align: top;\n",
       "    }\n",
       "\n",
       "    .dataframe thead th {\n",
       "        text-align: right;\n",
       "    }\n",
       "</style>\n",
       "<table border=\"1\" class=\"dataframe\">\n",
       "  <thead>\n",
       "    <tr style=\"text-align: right;\">\n",
       "      <th></th>\n",
       "      <th>0</th>\n",
       "    </tr>\n",
       "  </thead>\n",
       "  <tbody>\n",
       "    <tr>\n",
       "      <td>Page Title</td>\n",
       "      <td>0.0</td>\n",
       "    </tr>\n",
       "    <tr>\n",
       "      <td>Sessions</td>\n",
       "      <td>0.0</td>\n",
       "    </tr>\n",
       "    <tr>\n",
       "      <td>Avg. Time on Page</td>\n",
       "      <td>0.0</td>\n",
       "    </tr>\n",
       "    <tr>\n",
       "      <td>Bounce Rate</td>\n",
       "      <td>0.0</td>\n",
       "    </tr>\n",
       "    <tr>\n",
       "      <td>Page Views</td>\n",
       "      <td>0.0</td>\n",
       "    </tr>\n",
       "    <tr>\n",
       "      <td>Unique Page Views</td>\n",
       "      <td>0.0</td>\n",
       "    </tr>\n",
       "    <tr>\n",
       "      <td>Users</td>\n",
       "      <td>0.0</td>\n",
       "    </tr>\n",
       "    <tr>\n",
       "      <td>url_title</td>\n",
       "      <td>0.0</td>\n",
       "    </tr>\n",
       "    <tr>\n",
       "      <td>content</td>\n",
       "      <td>0.0</td>\n",
       "    </tr>\n",
       "    <tr>\n",
       "      <td>title</td>\n",
       "      <td>0.0</td>\n",
       "    </tr>\n",
       "    <tr>\n",
       "      <td>content_length</td>\n",
       "      <td>0.0</td>\n",
       "    </tr>\n",
       "    <tr>\n",
       "      <td>month</td>\n",
       "      <td>0.0</td>\n",
       "    </tr>\n",
       "    <tr>\n",
       "      <td>mobile</td>\n",
       "      <td>0.0</td>\n",
       "    </tr>\n",
       "    <tr>\n",
       "      <td>tablet</td>\n",
       "      <td>0.0</td>\n",
       "    </tr>\n",
       "    <tr>\n",
       "      <td>(direct)</td>\n",
       "      <td>0.0</td>\n",
       "    </tr>\n",
       "    <tr>\n",
       "      <td>goog</td>\n",
       "      <td>0.0</td>\n",
       "    </tr>\n",
       "    <tr>\n",
       "      <td>nkedin</td>\n",
       "      <td>0.0</td>\n",
       "    </tr>\n",
       "    <tr>\n",
       "      <td>t.co</td>\n",
       "      <td>0.0</td>\n",
       "    </tr>\n",
       "    <tr>\n",
       "      <td>spain</td>\n",
       "      <td>0.0</td>\n",
       "    </tr>\n",
       "    <tr>\n",
       "      <td>united states</td>\n",
       "      <td>0.0</td>\n",
       "    </tr>\n",
       "    <tr>\n",
       "      <td>Topic_1</td>\n",
       "      <td>0.0</td>\n",
       "    </tr>\n",
       "    <tr>\n",
       "      <td>Topic_2</td>\n",
       "      <td>0.0</td>\n",
       "    </tr>\n",
       "    <tr>\n",
       "      <td>Topic_3</td>\n",
       "      <td>0.0</td>\n",
       "    </tr>\n",
       "    <tr>\n",
       "      <td>Topic_4</td>\n",
       "      <td>0.0</td>\n",
       "    </tr>\n",
       "    <tr>\n",
       "      <td>Topic_5</td>\n",
       "      <td>0.0</td>\n",
       "    </tr>\n",
       "    <tr>\n",
       "      <td>Topic_6</td>\n",
       "      <td>0.0</td>\n",
       "    </tr>\n",
       "    <tr>\n",
       "      <td>Topic_7</td>\n",
       "      <td>0.0</td>\n",
       "    </tr>\n",
       "  </tbody>\n",
       "</table>\n",
       "</div>"
      ],
      "text/plain": [
       "                     0\n",
       "Page Title         0.0\n",
       "Sessions           0.0\n",
       "Avg. Time on Page  0.0\n",
       "Bounce Rate        0.0\n",
       "Page Views         0.0\n",
       "Unique Page Views  0.0\n",
       "Users              0.0\n",
       "url_title          0.0\n",
       "content            0.0\n",
       "title              0.0\n",
       "content_length     0.0\n",
       "month              0.0\n",
       "mobile             0.0\n",
       "tablet             0.0\n",
       "(direct)           0.0\n",
       "goog               0.0\n",
       "nkedin             0.0\n",
       "t.co               0.0\n",
       "spain              0.0\n",
       "united states      0.0\n",
       "Topic_1            0.0\n",
       "Topic_2            0.0\n",
       "Topic_3            0.0\n",
       "Topic_4            0.0\n",
       "Topic_5            0.0\n",
       "Topic_6            0.0\n",
       "Topic_7            0.0"
      ]
     },
     "execution_count": 16,
     "metadata": {},
     "output_type": "execute_result"
    }
   ],
   "source": [
    "#missing\n",
    "missing = (df.isnull().sum(axis = 0)/df.shape[0])*100\n",
    "missing = missing.apply(pd.to_numeric)\n",
    "missing= pd.DataFrame(missing)\n",
    "missing"
   ]
  },
  {
   "cell_type": "code",
   "execution_count": 17,
   "metadata": {},
   "outputs": [
    {
     "data": {
      "text/plain": [
       "Index(['Page Title', 'Sessions', 'Avg. Time on Page', 'Bounce Rate',\n",
       "       'Page Views', 'Unique Page Views', 'Users', 'url_title', 'content',\n",
       "       'title', 'content_length', 'month', 'mobile', 'tablet', '(direct)',\n",
       "       'goog', 'nkedin', 't.co', 'spain', 'united states', 'Topic_1',\n",
       "       'Topic_2', 'Topic_3', 'Topic_4', 'Topic_5', 'Topic_6', 'Topic_7'],\n",
       "      dtype='object')"
      ]
     },
     "execution_count": 17,
     "metadata": {},
     "output_type": "execute_result"
    }
   ],
   "source": [
    "df.columns"
   ]
  },
  {
   "cell_type": "code",
   "execution_count": 18,
   "metadata": {},
   "outputs": [],
   "source": [
    "df['Avg_Time_Page'] = df['Avg. Time on Page']\n",
    "df = df.drop(columns = ['Avg. Time on Page'])"
   ]
  },
  {
   "cell_type": "code",
   "execution_count": 19,
   "metadata": {},
   "outputs": [],
   "source": [
    "df = df.select_dtypes(include=[np.int, np.float])"
   ]
  },
  {
   "cell_type": "markdown",
   "metadata": {},
   "source": [
    "## **DISTRIBUTION OF Avg. Time on Page**"
   ]
  },
  {
   "cell_type": "code",
   "execution_count": 20,
   "metadata": {},
   "outputs": [
    {
     "data": {
      "image/png": "[encoded data removed]"
     },
     "metadata": {},
     "output_type": "display_data"
    }
   ],
   "source": [
    "%%R -i df -w 800 -h 500 -u px\n",
    "require(ggplot2)\n",
    "x1 = ggplot(df, aes(x=Avg_Time_Page)) + geom_density(fill = 'gray', alpha = .6) + \n",
    "  labs(title=\"Density Plot\", x=\"Avg_Time_Page\")\n",
    "\n",
    "x2 = ggplot(df, aes(x=log(Avg_Time_Page +10))) + geom_density(fill = 'gray', alpha = .6) + \n",
    "  labs(title=\"Density Plot\", x=\"Avg_Time_Page\") + ggtitle('log Avg_Time_Page')\n",
    "    \n",
    "x3 = ggplot(df, aes(x= Users )) + geom_density(fill = 'gray', alpha = .6) + \n",
    "  labs(title=\"Density Plot\", x=\"Users\") + ggtitle('Users')\n",
    "    \n",
    "x4 = ggplot(df, aes(x= log(Users +1))) + geom_density(fill = 'gray', alpha = .6) + \n",
    "  labs(title=\"Density Plot\", x=\"Users\") + ggtitle('Users log')\n",
    "\n",
    "gridExtra::grid.arrange(x1, x2, x3, x4, ncol=2)  "
   ]
  },
  {
   "cell_type": "markdown",
   "metadata": {},
   "source": [
    "## **Eliminate correlated columns**"
   ]
  },
  {
   "cell_type": "code",
   "execution_count": 21,
   "metadata": {},
   "outputs": [],
   "source": [
    "df = df.drop(columns = ['Unique Page Views', 'Users'])"
   ]
  },
  {
   "cell_type": "code",
   "execution_count": 22,
   "metadata": {},
   "outputs": [
    {
     "data": {
      "text/html": [
       "<div>\n",
       "<style scoped>\n",
       "    .dataframe tbody tr th:only-of-type {\n",
       "        vertical-align: middle;\n",
       "    }\n",
       "\n",
       "    .dataframe tbody tr th {\n",
       "        vertical-align: top;\n",
       "    }\n",
       "\n",
       "    .dataframe thead th {\n",
       "        text-align: right;\n",
       "    }\n",
       "</style>\n",
       "<table border=\"1\" class=\"dataframe\">\n",
       "  <thead>\n",
       "    <tr style=\"text-align: right;\">\n",
       "      <th></th>\n",
       "      <th>Sessions</th>\n",
       "      <th>Bounce Rate</th>\n",
       "      <th>Page Views</th>\n",
       "      <th>content_length</th>\n",
       "      <th>month</th>\n",
       "      <th>mobile</th>\n",
       "      <th>tablet</th>\n",
       "      <th>(direct)</th>\n",
       "      <th>goog</th>\n",
       "      <th>nkedin</th>\n",
       "      <th>t.co</th>\n",
       "      <th>spain</th>\n",
       "      <th>united states</th>\n",
       "      <th>Avg_Time_Page</th>\n",
       "      <th>log_Avg_Time_Page</th>\n",
       "    </tr>\n",
       "  </thead>\n",
       "  <tbody>\n",
       "    <tr>\n",
       "      <td>0</td>\n",
       "      <td>47.0</td>\n",
       "      <td>0.8511</td>\n",
       "      <td>64.0</td>\n",
       "      <td>15966</td>\n",
       "      <td>6</td>\n",
       "      <td>1</td>\n",
       "      <td>0</td>\n",
       "      <td>1</td>\n",
       "      <td>0</td>\n",
       "      <td>0</td>\n",
       "      <td>0</td>\n",
       "      <td>1</td>\n",
       "      <td>0</td>\n",
       "      <td>339</td>\n",
       "      <td>5.855072</td>\n",
       "    </tr>\n",
       "    <tr>\n",
       "      <td>1</td>\n",
       "      <td>19.0</td>\n",
       "      <td>0.7368</td>\n",
       "      <td>30.0</td>\n",
       "      <td>15966</td>\n",
       "      <td>6</td>\n",
       "      <td>0</td>\n",
       "      <td>0</td>\n",
       "      <td>1</td>\n",
       "      <td>0</td>\n",
       "      <td>0</td>\n",
       "      <td>0</td>\n",
       "      <td>1</td>\n",
       "      <td>0</td>\n",
       "      <td>698</td>\n",
       "      <td>6.562444</td>\n",
       "    </tr>\n",
       "    <tr>\n",
       "      <td>2</td>\n",
       "      <td>14.0</td>\n",
       "      <td>1.0000</td>\n",
       "      <td>14.0</td>\n",
       "      <td>15966</td>\n",
       "      <td>6</td>\n",
       "      <td>1</td>\n",
       "      <td>0</td>\n",
       "      <td>0</td>\n",
       "      <td>0</td>\n",
       "      <td>0</td>\n",
       "      <td>1</td>\n",
       "      <td>1</td>\n",
       "      <td>0</td>\n",
       "      <td>0</td>\n",
       "      <td>2.302585</td>\n",
       "    </tr>\n",
       "    <tr>\n",
       "      <td>3</td>\n",
       "      <td>13.0</td>\n",
       "      <td>0.8462</td>\n",
       "      <td>16.0</td>\n",
       "      <td>15966</td>\n",
       "      <td>6</td>\n",
       "      <td>0</td>\n",
       "      <td>0</td>\n",
       "      <td>0</td>\n",
       "      <td>0</td>\n",
       "      <td>1</td>\n",
       "      <td>0</td>\n",
       "      <td>1</td>\n",
       "      <td>0</td>\n",
       "      <td>685</td>\n",
       "      <td>6.543912</td>\n",
       "    </tr>\n",
       "    <tr>\n",
       "      <td>4</td>\n",
       "      <td>9.0</td>\n",
       "      <td>0.8889</td>\n",
       "      <td>13.0</td>\n",
       "      <td>15966</td>\n",
       "      <td>6</td>\n",
       "      <td>0</td>\n",
       "      <td>0</td>\n",
       "      <td>0</td>\n",
       "      <td>1</td>\n",
       "      <td>0</td>\n",
       "      <td>0</td>\n",
       "      <td>0</td>\n",
       "      <td>1</td>\n",
       "      <td>192</td>\n",
       "      <td>5.308268</td>\n",
       "    </tr>\n",
       "  </tbody>\n",
       "</table>\n",
       "</div>"
      ],
      "text/plain": [
       "   Sessions  Bounce Rate  Page Views  content_length  month  mobile  tablet  \\\n",
       "0      47.0       0.8511        64.0           15966      6       1       0   \n",
       "1      19.0       0.7368        30.0           15966      6       0       0   \n",
       "2      14.0       1.0000        14.0           15966      6       1       0   \n",
       "3      13.0       0.8462        16.0           15966      6       0       0   \n",
       "4       9.0       0.8889        13.0           15966      6       0       0   \n",
       "\n",
       "   (direct)  goog  nkedin  t.co  spain  united states  Avg_Time_Page  \\\n",
       "0         1     0       0     0      1              0            339   \n",
       "1         1     0       0     0      1              0            698   \n",
       "2         0     0       0     1      1              0              0   \n",
       "3         0     0       1     0      1              0            685   \n",
       "4         0     1       0     0      0              1            192   \n",
       "\n",
       "   log_Avg_Time_Page  \n",
       "0           5.855072  \n",
       "1           6.562444  \n",
       "2           2.302585  \n",
       "3           6.543912  \n",
       "4           5.308268  "
      ]
     },
     "execution_count": 22,
     "metadata": {},
     "output_type": "execute_result"
    }
   ],
   "source": [
    "df['log_Avg_Time_Page'] = np.log(df['Avg_Time_Page'] + 10)\n",
    "df.head()"
   ]
  },
  {
   "cell_type": "code",
   "execution_count": 23,
   "metadata": {},
   "outputs": [],
   "source": [
    "df = df.drop(columns = ['Avg_Time_Page'])"
   ]
  },
  {
   "cell_type": "code",
   "execution_count": 24,
   "metadata": {},
   "outputs": [],
   "source": [
    "from sklearn.model_selection import train_test_split\n",
    "\n",
    "train, test = train_test_split(df, test_size=0.2)\n",
    "test_y = test['log_Avg_Time_Page'] \n",
    "test = test.drop(columns = ['log_Avg_Time_Page'])\n",
    "train_y_XX = train['log_Avg_Time_Page'] \n",
    "train_XX = train.drop(columns = ['log_Avg_Time_Page'])"
   ]
  },
  {
   "cell_type": "code",
   "execution_count": 25,
   "metadata": {},
   "outputs": [
    {
     "name": "stdout",
     "output_type": "stream",
     "text": [
      "(1972, 13)\n",
      "(7888, 14)\n"
     ]
    }
   ],
   "source": [
    "print(test.shape)\n",
    "print(train.shape)"
   ]
  },
  {
   "cell_type": "code",
   "execution_count": 26,
   "metadata": {},
   "outputs": [
    {
     "name": "stderr",
     "output_type": "stream",
     "text": [
      "/home/erikapat/anaconda3/lib/python3.7/site-packages/ipykernel_launcher.py:3: FutureWarning: The signature of `Series.to_csv` was aligned to that of `DataFrame.to_csv`, and argument 'header' will change its default value from False to True: please pass an explicit value to suppress this warning.\n",
      "  This is separate from the ipykernel package so we can avoid doing imports until\n",
      "/home/erikapat/anaconda3/lib/python3.7/site-packages/ipykernel_launcher.py:5: FutureWarning: The signature of `Series.to_csv` was aligned to that of `DataFrame.to_csv`, and argument 'header' will change its default value from False to True: please pass an explicit value to suppress this warning.\n",
      "  \"\"\"\n"
     ]
    }
   ],
   "source": [
    "train.to_csv(r'data/H20_train_data.csv', index = False)\n",
    "test.to_csv(r'data/H20_test_data.csv', index = False)\n",
    "test_y.to_csv(r'data/H20_test_y.csv', index = False)\n",
    "train_XX.to_csv(r'data/H20_train_xx.csv', index = False)\n",
    "train_y_XX.to_csv(r'data/H20_train_y_XX.csv', index = False)"
   ]
  },
  {
   "cell_type": "code",
   "execution_count": 27,
   "metadata": {},
   "outputs": [
    {
     "name": "stdout",
     "output_type": "stream",
     "text": [
      "Checking whether there is an H2O instance running at http://localhost:54321 . connected.\n"
     ]
    },
    {
     "data": {
      "text/html": [
       "<div style=\"overflow:auto\"><table style=\"width:50%\"><tr><td>H2O cluster uptime:</td>\n",
       "<td>23 hours 33 mins</td></tr>\n",
       "<tr><td>H2O cluster timezone:</td>\n",
       "<td>Europe/Madrid</td></tr>\n",
       "<tr><td>H2O data parsing timezone:</td>\n",
       "<td>UTC</td></tr>\n",
       "<tr><td>H2O cluster version:</td>\n",
       "<td>3.26.0.3</td></tr>\n",
       "<tr><td>H2O cluster version age:</td>\n",
       "<td>2 months and 14 days </td></tr>\n",
       "<tr><td>H2O cluster name:</td>\n",
       "<td>H2O_from_python_erikapat_xs4wkf</td></tr>\n",
       "<tr><td>H2O cluster total nodes:</td>\n",
       "<td>1</td></tr>\n",
       "<tr><td>H2O cluster free memory:</td>\n",
       "<td>2.670 Gb</td></tr>\n",
       "<tr><td>H2O cluster total cores:</td>\n",
       "<td>4</td></tr>\n",
       "<tr><td>H2O cluster allowed cores:</td>\n",
       "<td>4</td></tr>\n",
       "<tr><td>H2O cluster status:</td>\n",
       "<td>locked, healthy</td></tr>\n",
       "<tr><td>H2O connection url:</td>\n",
       "<td>http://localhost:54321</td></tr>\n",
       "<tr><td>H2O connection proxy:</td>\n",
       "<td>None</td></tr>\n",
       "<tr><td>H2O internal security:</td>\n",
       "<td>False</td></tr>\n",
       "<tr><td>H2O API Extensions:</td>\n",
       "<td>Amazon S3, XGBoost, Algos, AutoML, Core V3, Core V4</td></tr>\n",
       "<tr><td>Python version:</td>\n",
       "<td>3.7.4 final</td></tr></table></div>"
      ],
      "text/plain": [
       "--------------------------  ---------------------------------------------------\n",
       "H2O cluster uptime:         23 hours 33 mins\n",
       "H2O cluster timezone:       Europe/Madrid\n",
       "H2O data parsing timezone:  UTC\n",
       "H2O cluster version:        3.26.0.3\n",
       "H2O cluster version age:    2 months and 14 days\n",
       "H2O cluster name:           H2O_from_python_erikapat_xs4wkf\n",
       "H2O cluster total nodes:    1\n",
       "H2O cluster free memory:    2.670 Gb\n",
       "H2O cluster total cores:    4\n",
       "H2O cluster allowed cores:  4\n",
       "H2O cluster status:         locked, healthy\n",
       "H2O connection url:         http://localhost:54321\n",
       "H2O connection proxy:\n",
       "H2O internal security:      False\n",
       "H2O API Extensions:         Amazon S3, XGBoost, Algos, AutoML, Core V3, Core V4\n",
       "Python version:             3.7.4 final\n",
       "--------------------------  ---------------------------------------------------"
      ]
     },
     "metadata": {},
     "output_type": "display_data"
    },
    {
     "name": "stdout",
     "output_type": "stream",
     "text": [
      "Parse progress: |█████████████████████████████████████████████████████████| 100%\n",
      "Parse progress: |█████████████████████████████████████████████████████████| 100%\n",
      "Parse progress: |█████████████████████████████████████████████████████████| 100%\n",
      "Parse progress: |█████████████████████████████████████████████████████████| 100%\n",
      "Parse progress: |█████████████████████████████████████████████████████████| 100%\n"
     ]
    }
   ],
   "source": [
    "import h2o\n",
    "from h2o.automl import H2OAutoML\n",
    "h2o.init()\n",
    "train_h2o = h2o.import_file('data/H20_train_data.csv')\n",
    "test_h2o = h2o.import_file('data/H20_test_data.csv')\n",
    "y_test_h2o = h2o.import_file('data/H20_test_y.csv')\n",
    "train = h2o.import_file('data/H20_train_xx.csv')\n",
    "train_y = h2o.import_file('data/H20_train_y_XX.csv')"
   ]
  },
  {
   "cell_type": "code",
   "execution_count": 28,
   "metadata": {},
   "outputs": [
    {
     "data": {
      "text/plain": [
       "h2o.frame.H2OFrame"
      ]
     },
     "execution_count": 28,
     "metadata": {},
     "output_type": "execute_result"
    }
   ],
   "source": [
    "type(test_h2o)"
   ]
  },
  {
   "cell_type": "code",
   "execution_count": 29,
   "metadata": {},
   "outputs": [],
   "source": [
    "y = \"log_Avg_Time_Page\"\n",
    "x = df.drop(columns = ['log_Avg_Time_Page']).columns.tolist()"
   ]
  },
  {
   "cell_type": "code",
   "execution_count": 30,
   "metadata": {},
   "outputs": [
    {
     "data": {
      "text/plain": [
       "['Sessions',\n",
       " 'Bounce Rate',\n",
       " 'Page Views',\n",
       " 'content_length',\n",
       " 'month',\n",
       " 'mobile',\n",
       " 'tablet',\n",
       " '(direct)',\n",
       " 'goog',\n",
       " 'nkedin',\n",
       " 't.co',\n",
       " 'spain',\n",
       " 'united states']"
      ]
     },
     "execution_count": 30,
     "metadata": {},
     "output_type": "execute_result"
    }
   ],
   "source": [
    "x"
   ]
  },
  {
   "cell_type": "code",
   "execution_count": 31,
   "metadata": {},
   "outputs": [
    {
     "name": "stdout",
     "output_type": "stream",
     "text": [
      "AutoML progress: |████████████████████████████████████████████████████████| 100%\n"
     ]
    }
   ],
   "source": [
    "aml = H2OAutoML(max_models = 30, max_runtime_secs=300, seed = 1)\n",
    "aml.train(x = x, y = y, training_frame = train_h2o)"
   ]
  },
  {
   "cell_type": "code",
   "execution_count": 32,
   "metadata": {},
   "outputs": [
    {
     "data": {
      "text/html": [
       "<table>\n",
       "<thead>\n",
       "<tr><th>model_id                                           </th><th style=\"text-align: right;\">  mean_residual_deviance</th><th style=\"text-align: right;\">    rmse</th><th style=\"text-align: right;\">     mse</th><th style=\"text-align: right;\">     mae</th><th style=\"text-align: right;\">   rmsle</th></tr>\n",
       "</thead>\n",
       "<tbody>\n",
       "<tr><td>StackedEnsemble_BestOfFamily_AutoML_20191107_114356</td><td style=\"text-align: right;\">                0.860896</td><td style=\"text-align: right;\">0.927845</td><td style=\"text-align: right;\">0.860896</td><td style=\"text-align: right;\">0.572707</td><td style=\"text-align: right;\">0.182572</td></tr>\n",
       "<tr><td>XGBoost_grid_1_AutoML_20191107_114356_model_2      </td><td style=\"text-align: right;\">                0.861591</td><td style=\"text-align: right;\">0.928219</td><td style=\"text-align: right;\">0.861591</td><td style=\"text-align: right;\">0.566519</td><td style=\"text-align: right;\">0.182134</td></tr>\n",
       "<tr><td>StackedEnsemble_AllModels_AutoML_20191107_114356   </td><td style=\"text-align: right;\">                0.862173</td><td style=\"text-align: right;\">0.928533</td><td style=\"text-align: right;\">0.862173</td><td style=\"text-align: right;\">0.573316</td><td style=\"text-align: right;\">0.182657</td></tr>\n",
       "<tr><td>XGBoost_3_AutoML_20191107_114356                   </td><td style=\"text-align: right;\">                0.864418</td><td style=\"text-align: right;\">0.929741</td><td style=\"text-align: right;\">0.864418</td><td style=\"text-align: right;\">0.574811</td><td style=\"text-align: right;\">0.182511</td></tr>\n",
       "<tr><td>XGBoost_grid_1_AutoML_20191107_114356_model_1      </td><td style=\"text-align: right;\">                0.867584</td><td style=\"text-align: right;\">0.931442</td><td style=\"text-align: right;\">0.867584</td><td style=\"text-align: right;\">0.580334</td><td style=\"text-align: right;\">0.182972</td></tr>\n",
       "<tr><td>GBM_5_AutoML_20191107_114356                       </td><td style=\"text-align: right;\">                0.869799</td><td style=\"text-align: right;\">0.93263 </td><td style=\"text-align: right;\">0.869799</td><td style=\"text-align: right;\">0.586355</td><td style=\"text-align: right;\">0.183684</td></tr>\n",
       "<tr><td>GBM_2_AutoML_20191107_114356                       </td><td style=\"text-align: right;\">                0.878057</td><td style=\"text-align: right;\">0.937047</td><td style=\"text-align: right;\">0.878057</td><td style=\"text-align: right;\">0.581386</td><td style=\"text-align: right;\">0.184473</td></tr>\n",
       "<tr><td>GBM_1_AutoML_20191107_114356                       </td><td style=\"text-align: right;\">                0.879268</td><td style=\"text-align: right;\">0.937693</td><td style=\"text-align: right;\">0.879268</td><td style=\"text-align: right;\">0.581628</td><td style=\"text-align: right;\">0.184522</td></tr>\n",
       "<tr><td>GBM_3_AutoML_20191107_114356                       </td><td style=\"text-align: right;\">                0.886639</td><td style=\"text-align: right;\">0.941615</td><td style=\"text-align: right;\">0.886639</td><td style=\"text-align: right;\">0.582153</td><td style=\"text-align: right;\">0.185472</td></tr>\n",
       "<tr><td>GBM_4_AutoML_20191107_114356                       </td><td style=\"text-align: right;\">                0.897376</td><td style=\"text-align: right;\">0.947299</td><td style=\"text-align: right;\">0.897376</td><td style=\"text-align: right;\">0.588042</td><td style=\"text-align: right;\">0.186461</td></tr>\n",
       "</tbody>\n",
       "</table>"
      ]
     },
     "metadata": {},
     "output_type": "display_data"
    },
    {
     "data": {
      "text/plain": []
     },
     "execution_count": 32,
     "metadata": {},
     "output_type": "execute_result"
    }
   ],
   "source": [
    "lb = aml.leaderboard\n",
    "lb.head()"
   ]
  },
  {
   "cell_type": "code",
   "execution_count": 33,
   "metadata": {},
   "outputs": [],
   "source": [
    "#aml@leader"
   ]
  },
  {
   "cell_type": "code",
   "execution_count": 34,
   "metadata": {},
   "outputs": [
    {
     "data": {
      "text/plain": [
       "(1972, 13)"
      ]
     },
     "execution_count": 34,
     "metadata": {},
     "output_type": "execute_result"
    }
   ],
   "source": [
    "test_h2o.shape"
   ]
  },
  {
   "cell_type": "code",
   "execution_count": 35,
   "metadata": {},
   "outputs": [
    {
     "name": "stdout",
     "output_type": "stream",
     "text": [
      "stackedensemble prediction progress: |████████████████████████████████████| 100%\n"
     ]
    },
    {
     "data": {
      "text/plain": [
       "'/home/erikapat/Dropbox/PRUEBAS_DATA_SCIENCE/BBVA/Pred_Model/StackedEnsemble_BestOfFamily_AutoML_20191107_114356'"
      ]
     },
     "execution_count": 35,
     "metadata": {},
     "output_type": "execute_result"
    }
   ],
   "source": [
    "#predict and save\n",
    "preds = aml.predict(test_h2o)\n",
    "h2o.save_model(aml.leader, path = \"./Pred_Model\")"
   ]
  },
  {
   "cell_type": "code",
   "execution_count": 36,
   "metadata": {},
   "outputs": [
    {
     "data": {
      "text/plain": [
       "(1972, 1)"
      ]
     },
     "execution_count": 36,
     "metadata": {},
     "output_type": "execute_result"
    }
   ],
   "source": [
    "preds.shape"
   ]
  },
  {
   "cell_type": "code",
   "execution_count": 37,
   "metadata": {},
   "outputs": [],
   "source": [
    "test_y = test_y.to_frame()"
   ]
  },
  {
   "cell_type": "code",
   "execution_count": 38,
   "metadata": {},
   "outputs": [
    {
     "data": {
      "text/html": [
       "<div>\n",
       "<style scoped>\n",
       "    .dataframe tbody tr th:only-of-type {\n",
       "        vertical-align: middle;\n",
       "    }\n",
       "\n",
       "    .dataframe tbody tr th {\n",
       "        vertical-align: top;\n",
       "    }\n",
       "\n",
       "    .dataframe thead th {\n",
       "        text-align: right;\n",
       "    }\n",
       "</style>\n",
       "<table border=\"1\" class=\"dataframe\">\n",
       "  <thead>\n",
       "    <tr style=\"text-align: right;\">\n",
       "      <th></th>\n",
       "      <th>log_Avg_Time_Page</th>\n",
       "    </tr>\n",
       "  </thead>\n",
       "  <tbody>\n",
       "    <tr>\n",
       "      <td>5156</td>\n",
       "      <td>5.616771</td>\n",
       "    </tr>\n",
       "    <tr>\n",
       "      <td>461</td>\n",
       "      <td>2.302585</td>\n",
       "    </tr>\n",
       "    <tr>\n",
       "      <td>7236</td>\n",
       "      <td>5.529429</td>\n",
       "    </tr>\n",
       "    <tr>\n",
       "      <td>731</td>\n",
       "      <td>3.496508</td>\n",
       "    </tr>\n",
       "    <tr>\n",
       "      <td>9360</td>\n",
       "      <td>5.356586</td>\n",
       "    </tr>\n",
       "  </tbody>\n",
       "</table>\n",
       "</div>"
      ],
      "text/plain": [
       "      log_Avg_Time_Page\n",
       "5156           5.616771\n",
       "461            2.302585\n",
       "7236           5.529429\n",
       "731            3.496508\n",
       "9360           5.356586"
      ]
     },
     "execution_count": 38,
     "metadata": {},
     "output_type": "execute_result"
    }
   ],
   "source": [
    "test_y.head()"
   ]
  },
  {
   "cell_type": "code",
   "execution_count": 39,
   "metadata": {},
   "outputs": [
    {
     "data": {
      "text/html": [
       "<div>\n",
       "<style scoped>\n",
       "    .dataframe tbody tr th:only-of-type {\n",
       "        vertical-align: middle;\n",
       "    }\n",
       "\n",
       "    .dataframe tbody tr th {\n",
       "        vertical-align: top;\n",
       "    }\n",
       "\n",
       "    .dataframe thead th {\n",
       "        text-align: right;\n",
       "    }\n",
       "</style>\n",
       "<table border=\"1\" class=\"dataframe\">\n",
       "  <thead>\n",
       "    <tr style=\"text-align: right;\">\n",
       "      <th></th>\n",
       "      <th>predict</th>\n",
       "    </tr>\n",
       "  </thead>\n",
       "  <tbody>\n",
       "    <tr>\n",
       "      <td>0</td>\n",
       "      <td>4.974035</td>\n",
       "    </tr>\n",
       "    <tr>\n",
       "      <td>1</td>\n",
       "      <td>3.385950</td>\n",
       "    </tr>\n",
       "    <tr>\n",
       "      <td>2</td>\n",
       "      <td>4.753846</td>\n",
       "    </tr>\n",
       "    <tr>\n",
       "      <td>3</td>\n",
       "      <td>3.224854</td>\n",
       "    </tr>\n",
       "    <tr>\n",
       "      <td>4</td>\n",
       "      <td>3.454014</td>\n",
       "    </tr>\n",
       "  </tbody>\n",
       "</table>\n",
       "</div>"
      ],
      "text/plain": [
       "    predict\n",
       "0  4.974035\n",
       "1  3.385950\n",
       "2  4.753846\n",
       "3  3.224854\n",
       "4  3.454014"
      ]
     },
     "execution_count": 39,
     "metadata": {},
     "output_type": "execute_result"
    }
   ],
   "source": [
    "preds = preds.as_data_frame()\n",
    "preds.head()"
   ]
  },
  {
   "cell_type": "code",
   "execution_count": 40,
   "metadata": {},
   "outputs": [
    {
     "data": {
      "text/plain": [
       "<Figure size 640x480 with 1 Axes>"
      ]
     },
     "metadata": {},
     "output_type": "display_data"
    }
   ],
   "source": [
    "# Plot\n",
    "from numpy  import array\n",
    "import matplotlib.pyplot as plt\n",
    "plt.scatter(array(test_y), array(preds), alpha=0.5)\n",
    "plt.title('Scatter plot pythonspot.com')\n",
    "plt.xlabel('x')\n",
    "plt.ylabel('y')\n",
    "plt.show()"
   ]
  },
  {
   "cell_type": "code",
   "execution_count": 41,
   "metadata": {},
   "outputs": [
    {
     "name": "stdout",
     "output_type": "stream",
     "text": [
      "(1972, 1)\n"
     ]
    },
    {
     "data": {
      "text/plain": [
       "pandas.core.frame.DataFrame"
      ]
     },
     "execution_count": 41,
     "metadata": {},
     "output_type": "execute_result"
    }
   ],
   "source": [
    "print(preds.shape)\n",
    "type(preds)"
   ]
  },
  {
   "cell_type": "code",
   "execution_count": 42,
   "metadata": {},
   "outputs": [
    {
     "name": "stdout",
     "output_type": "stream",
     "text": [
      "(1972, 1)\n"
     ]
    },
    {
     "data": {
      "text/plain": [
       "pandas.core.frame.DataFrame"
      ]
     },
     "execution_count": 42,
     "metadata": {},
     "output_type": "execute_result"
    }
   ],
   "source": [
    "print(test_y.shape)\n",
    "type(test_y)"
   ]
  },
  {
   "cell_type": "code",
   "execution_count": 43,
   "metadata": {},
   "outputs": [],
   "source": [
    "preds=list(preds['predict'])\n",
    "test_y=list(test_y['log_Avg_Time_Page'])"
   ]
  },
  {
   "cell_type": "code",
   "execution_count": 44,
   "metadata": {},
   "outputs": [],
   "source": [
    "def error_comparison(y_predict, y_Train, method = 'Ridge', data_t = 'training'):\n",
    "    \n",
    "    #transform\n",
    "    y_predict = np.exp(y_predict) -10\n",
    "    y_Train = np.exp(y_Train) -10\n",
    "    \n",
    "    \n",
    "    error=0\n",
    "    mae_sum = 0\n",
    "    mse_sum = 0\n",
    "    for i in range(len(y_Train)):\n",
    "        mae_sum += abs(y_Train[i]-y_predict[i])\n",
    "        error+=(abs(y_Train[i]-y_predict[i])/y_predict[i])\n",
    "        mse_sum += (y_Train[i]-y_predict[i])**2\n",
    "    train_error_ridge= 100 - error/len(y_Train)*100\n",
    "    mae = mae_sum/len(y_Train)\n",
    "    rmse = np.sqrt(mse_sum/len(y_Train))\n",
    "    #print(data_t + \" error = \"'{}'.format(train_error_ridge)+\" mape percent in \" + method + \" Regression\")\n",
    "    print(data_t + \" error = \"'{}'.format(mae)+\" mae in \" + method + \"Regression\")\n",
    "    print(data_t + \" error = \"'{}'.format(rmse)+\" rmse in \" + method + \"Regression\")\n",
    "\n",
    "    return train_error_ridge, mae, rmse"
   ]
  },
  {
   "cell_type": "code",
   "execution_count": 45,
   "metadata": {},
   "outputs": [
    {
     "name": "stdout",
     "output_type": "stream",
     "text": [
      "test error = 67.61272952085284 mae in H20Regression\n",
      "test error = 191.65899203286992 rmse in H20Regression\n"
     ]
    }
   ],
   "source": [
    "H20 = error_comparison(preds, test_y, method = 'H20', data_t = 'test')"
   ]
  },
  {
   "cell_type": "code",
   "execution_count": 46,
   "metadata": {},
   "outputs": [
    {
     "name": "stdout",
     "output_type": "stream",
     "text": [
      "stackedensemble prediction progress: |████████████████████████████████████| 100%\n"
     ]
    }
   ],
   "source": [
    "preds = aml.predict(train)"
   ]
  },
  {
   "cell_type": "code",
   "execution_count": 47,
   "metadata": {},
   "outputs": [],
   "source": [
    "preds = preds.as_data_frame()\n",
    "train_y = train_y.as_data_frame()"
   ]
  },
  {
   "cell_type": "code",
   "execution_count": 48,
   "metadata": {},
   "outputs": [
    {
     "data": {
      "image/png": "[encoded data removed]",
      "text/plain": [
       "<Figure size 432x288 with 1 Axes>"
      ]
     },
     "metadata": {
      "needs_background": "light"
     },
     "output_type": "display_data"
    }
   ],
   "source": [
    "# Plot\n",
    "from numpy  import array\n",
    "import matplotlib.pyplot as plt\n",
    "plt.scatter(array(train_y), array(preds), alpha=0.5)\n",
    "plt.title('Scatter plot pythonspot.com')\n",
    "plt.xlabel('x')\n",
    "plt.ylabel('y')\n",
    "plt.show()"
   ]
  },
  {
   "cell_type": "code",
   "execution_count": 49,
   "metadata": {},
   "outputs": [],
   "source": [
    "preds=list(preds['predict'])\n",
    "train_y = list(train_y['C1'])"
   ]
  },
  {
   "cell_type": "code",
   "execution_count": 50,
   "metadata": {},
   "outputs": [
    {
     "name": "stdout",
     "output_type": "stream",
     "text": [
      "train error = 67.72660850557324 mae in H20Regression\n",
      "train error = 197.06747717226975 rmse in H20Regression\n"
     ]
    }
   ],
   "source": [
    "H20 = error_comparison(preds, train_y, method = 'H20', data_t = 'train')"
   ]
  },
  {
   "cell_type": "code",
   "execution_count": null,
   "metadata": {},
   "outputs": [],
   "source": []
  },
  {
   "cell_type": "code",
   "execution_count": null,
   "metadata": {},
   "outputs": [],
   "source": []
  }
 ],
 "metadata": {
  "kernelspec": {
   "display_name": "Python 3",
   "language": "python",
   "name": "python3"
  },
  "language_info": {
   "codemirror_mode": {
    "name": "ipython",
    "version": 3
   },
   "file_extension": ".py",
   "mimetype": "text/x-python",
   "name": "python",
   "nbconvert_exporter": "python",
   "pygments_lexer": "ipython3",
   "version": "3.7.4"
  }
 },
 "nbformat": 4,
 "nbformat_minor": 4
}
