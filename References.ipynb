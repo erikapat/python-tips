{
 "cells": [
  {
   "cell_type": "markdown",
   "metadata": {},
   "source": [
    "## **REFERENCES**\n",
    "\n",
    "List of references of interest:\n",
    "    \n",
    "* Econometrics: http://halweb.uc3m.es/esp/Personal/personas/durban/esp/web/notes/courseRmanual.pdf\n",
    "* Ideas of causal inference:\n",
    "    > https://florianwilhelm.info/2017/04/causal_inference_propensity_score/"
   ]
  },
  {
   "cell_type": "code",
   "execution_count": null,
   "metadata": {},
   "outputs": [],
   "source": []
  }
 ],
 "metadata": {
  "kernelspec": {
   "display_name": "Python 3",
   "language": "python",
   "name": "python3"
  },
  "language_info": {
   "codemirror_mode": {
    "name": "ipython",
    "version": 3
   },
   "file_extension": ".py",
   "mimetype": "text/x-python",
   "name": "python",
   "nbconvert_exporter": "python",
   "pygments_lexer": "ipython3",
   "version": "3.7.4"
  }
 },
 "nbformat": 4,
 "nbformat_minor": 4
}
