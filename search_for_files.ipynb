{
 "cells": [
  {
   "cell_type": "raw",
   "metadata": {},
   "source": []
  },
  {
   "cell_type": "code",
   "execution_count": 6,
   "metadata": {},
   "outputs": [],
   "source": [
    "import os"
   ]
  },
  {
   "cell_type": "code",
   "execution_count": 9,
   "metadata": {},
   "outputs": [
    {
     "data": {
      "text/plain": [
       "'/home/erikapat/Dropbox/PRUEBAS_DATA_SCIENCE/'"
      ]
     },
     "execution_count": 9,
     "metadata": {},
     "output_type": "execute_result"
    }
   ],
   "source": [
    "path = os.getcwd()\n",
    "path = '/home/erikapat/Dropbox/PRUEBAS_DATA_SCIENCE/'\n",
    "path"
   ]
  },
  {
   "cell_type": "code",
   "execution_count": 3,
   "metadata": {},
   "outputs": [
    {
     "name": "stdin",
     "output_type": "stream",
     "text": [
      "Search For?:  DEEP LEARNING TUTORIAL\n"
     ]
    },
    {
     "name": "stdout",
     "output_type": "stream",
     "text": [
      "/home/erikapat/Dropbox/PRUEBAS_DATA_SCIENCE/search_for_files.ipynb\n",
      "/home/erikapat/Dropbox/conento/conento_prueba/PRUEBA DATA ARQUITECT/Churn.ipynb/notebook.tex\n",
      "/home/erikapat/Dropbox/conento/conento_prueba/PRUEBA DATA ARQUITECT/Churn.ipynb/Deep_learning_intro.ipynb\n",
      "/home/erikapat/Dropbox/conento/conento_prueba/PRUEBA DATA ARQUITECT/Churn.ipynb/.ipynb_checkpoints/Deep_learning_intro-checkpoint.ipynb\n"
     ]
    }
   ],
   "source": [
    "keyword = input(\"Search For?: \")  # ask the user for keyword, use raw_input() on Python 2.x\n",
    "\n",
    "root_dir = path  # path to the root directory to search\n",
    "for root, dirs, files in os.walk(root_dir, onerror=None):  # walk the root dir\n",
    "    for filename in files:  # iterate over the files in the current dir\n",
    "        file_path = os.path.join(root, filename)  # build the file path\n",
    "        try:\n",
    "            with open(file_path, \"rb\") as f:  # open the file for reading\n",
    "                # read the file line by line\n",
    "                for line in f:  # use: for i, line in enumerate(f) if you need line numbers\n",
    "                    try:\n",
    "                        line = line.decode(\"utf-8\")  # try to decode the contents to utf-8\n",
    "                    except ValueError:  # decoding failed, skip the line\n",
    "                        continue\n",
    "                    if keyword in line:  # if the keyword exists on the current line...\n",
    "                        print(file_path)  # print the file path\n",
    "                        break  # no need to iterate over the rest of the file\n",
    "        except (IOError, OSError):  # ignore read and permission errors\n",
    "            pass"
   ]
  },
  {
   "cell_type": "code",
   "execution_count": 8,
   "metadata": {},
   "outputs": [
    {
     "name": "stdin",
     "output_type": "stream",
     "text": [
      "Search For?:  Spark\n"
     ]
    },
    {
     "name": "stdout",
     "output_type": "stream",
     "text": [
      "/home/erikapat/Dropbox/conento/Cursos/01.Curso y ejemplos R/1.Curso iniciacion enero 2014/Presentación HTML/libraries/widgets/nvd3/examples.R\n",
      "/home/erikapat/Dropbox/conento/Cursos/01.Curso y ejemplos R/1.Curso iniciacion enero 2014/Presentación HTML/libraries/widgets/nvd3/css/nv.d3.css\n",
      "/home/erikapat/Dropbox/conento/Cursos/01.Curso y ejemplos R/1.Curso iniciacion enero 2014/src_presentación/libraries/widgets/nvd3/examples.R\n",
      "/home/erikapat/Dropbox/conento/Cursos/01.Curso y ejemplos R/1.Curso iniciacion enero 2014/src_presentación/libraries/widgets/nvd3/css/nv.d3.css\n",
      "/home/erikapat/Dropbox/conento/IBEROSTAR/01. Recibidos (originales)/03. Base de datos total/ogilvydb_20140901_conento.dump\n",
      "/home/erikapat/Dropbox/conento/conento_prueba/PRUEBA%20DATA%20ARQUITECT/Churn.ipynb/Churn_Erika.ipynb\n",
      "/home/erikapat/Dropbox/conento/conento_prueba/PRUEBA%20DATA%20ARQUITECT/Churn.ipynb/Churn-Erika.ipynb\n",
      "/home/erikapat/Dropbox/conento/conento_prueba/PRUEBA%20DATA%20ARQUITECT/Churn.ipynb/.ipynb\n",
      "/home/erikapat/Dropbox/conento/conento_prueba/PRUEBA%20DATA%20ARQUITECT/Churn.ipynb/.ipynb_checkpoints/.ipynb-checkpoint\n",
      "/home/erikapat/Dropbox/conento/conento_prueba/PRUEBA%20DATA%20ARQUITECT/Churn.ipynb/.ipynb_checkpoints/Churn-Erika-checkpoint.ipynb\n",
      "/home/erikapat/Dropbox/conento/conento_prueba/PRUEBA%20DATA%20ARQUITECT/Churn.ipynb/.ipynb_checkpoints/Churn_Erika-checkpoint.ipynb\n",
      "/home/erikapat/Dropbox/conento/REPSOL/R_CODE_REPSOL (copy)/.Rproj.user/6886975A/sources/prop/INDEX\n",
      "/home/erikapat/Dropbox/conento/REPSOL/R_CODE_REPSOL (copy)/.Rproj.user/shared/notebooks/paths\n",
      "/home/erikapat/Dropbox/conento/REPSOL/0.New_repsol_code/feedback_friday_code/.Rproj.user/F0CEB50F/sources/s-D95A3086/74267A47-contents\n",
      "/home/erikapat/Dropbox/conento/Bimba_y_lola/base de datos/byl_prod.20180803.sql\n",
      "/home/erikapat/Dropbox/conento/Bimba_y_lola/base de datos/ccmp-20180802.sql\n",
      "/home/erikapat/Dropbox/conento/Videos Spark/R/2.-spark_R_bisecting_k_means.R\n",
      "/home/erikapat/Dropbox/conento/MMM/Sesión I/01_sesion_bbdd.html\n"
     ]
    }
   ],
   "source": [
    "keyword = input(\"Search For?: \")  # ask the user for keyword, use raw_input() on Python 2.x\n",
    "\n",
    "root_dir = path  # path to the root directory to search\n",
    "for root, dirs, files in os.walk(root_dir, onerror=None):  # walk the root dir\n",
    "    for filename in files:  # iterate over the files in the current dir\n",
    "        file_path = os.path.join(root, filename)  # build the file path\n",
    "        try:\n",
    "            with open(file_path, \"rb\") as f:  # open the file for reading\n",
    "                # read the file line by line\n",
    "                for line in f:  # use: for i, line in enumerate(f) if you need line numbers\n",
    "                    try:\n",
    "                        line = line.decode(\"utf-8\")  # try to decode the contents to utf-8\n",
    "                    except ValueError:  # decoding failed, skip the line\n",
    "                        continue\n",
    "                    if keyword in line:  # if the keyword exists on the current line...\n",
    "                        print(file_path)  # print the file path\n",
    "                        break  # no need to iterate over the rest of the file\n",
    "        except (IOError, OSError):  # ignore read and permission errors\n",
    "            pass"
   ]
  },
  {
   "cell_type": "code",
   "execution_count": 10,
   "metadata": {},
   "outputs": [
    {
     "name": "stdin",
     "output_type": "stream",
     "text": [
      "Search For?:  SPARK\n"
     ]
    },
    {
     "name": "stdout",
     "output_type": "stream",
     "text": [
      "/home/erikapat/Dropbox/PRUEBAS_DATA_SCIENCE/ec2/TUTORIALES AWS.txt\n",
      "/home/erikapat/Dropbox/PRUEBAS_DATA_SCIENCE/ec2/EC2.AMAZON.TXT\n",
      "/home/erikapat/Dropbox/PRUEBAS_DATA_SCIENCE/CABIFY/2_cabify_analysis.ipynb\n",
      "/home/erikapat/Dropbox/PRUEBAS_DATA_SCIENCE/CABIFY/cabify_test.ipynb\n",
      "/home/erikapat/Dropbox/PRUEBAS_DATA_SCIENCE/CABIFY/final/Notebook/2_cabify_analysis.ipynb\n",
      "/home/erikapat/Dropbox/PRUEBAS_DATA_SCIENCE/CABIFY/.ipynb_checkpoints/2_cabify_analysis-checkpoint.ipynb\n",
      "/home/erikapat/Dropbox/PRUEBAS_DATA_SCIENCE/CABIFY/.ipynb_checkpoints/cabify_test-checkpoint.ipynb\n",
      "/home/erikapat/Dropbox/PRUEBAS_DATA_SCIENCE/propensity analysis/machine-learning-master/big_data/spark_installation.md\n",
      "/home/erikapat/Dropbox/PRUEBAS_DATA_SCIENCE/propensity analysis/machine-learning-master/big_data/sparkml/sparkml.json\n",
      "/home/erikapat/Dropbox/PRUEBAS_DATA_SCIENCE/propensity analysis/machine-learning-master/linear_regression/linear_regession.html\n",
      "/home/erikapat/Dropbox/PRUEBAS_DATA_SCIENCE/1.ON-LINE COURSES/NOTEBOOK-NLP-COURSE/TextFiles/amazonreviews.tsv\n",
      "/home/erikapat/Dropbox/PRUEBAS_DATA_SCIENCE/AWS_TEST/data/amazon_reviews_us_Software_v1_00.tsv\n",
      "/home/erikapat/Dropbox/PRUEBAS_DATA_SCIENCE/AWS_TEST/ERASE/stories.csv\n",
      "/home/erikapat/Dropbox/PRUEBAS_DATA_SCIENCE/CLARITY/Clarity_selection_process_sol/data_NLP/News_category_train.json\n",
      "/home/erikapat/Dropbox/PRUEBAS_DATA_SCIENCE/CLARITY/Clarity_selection_process_sol/data_NLP/News_category_test.json\n",
      "/home/erikapat/Dropbox/PRUEBAS_DATA_SCIENCE/CLARITY/Clarity_selection_process_sol/NLP 1/data/News_category_train.json\n",
      "/home/erikapat/Dropbox/PRUEBAS_DATA_SCIENCE/CLARITY/Clarity_selection_process_sol/NLP 1/data/News_category_test.json\n",
      "/home/erikapat/Dropbox/PRUEBAS_DATA_SCIENCE/CLARITY/Clarity_text_exam/retakehomeexercise/News_category_train.json\n",
      "/home/erikapat/Dropbox/PRUEBAS_DATA_SCIENCE/PRUEBA DATA ARQUITECT/Churn.ipynb/.ipynb_checkpoints/Spark practice 2-checkpoint.ipynb\n",
      "/home/erikapat/Dropbox/PRUEBAS_DATA_SCIENCE/PRUEBA DATA ARQUITECT/Churn.ipynb/.ipynb_checkpoints/Churn-Erika-checkpoint.ipynb\n",
      "/home/erikapat/Dropbox/PRUEBAS_DATA_SCIENCE/NPL/nlp_course-master/week05_structured/data/en-ud-train.conllu\n",
      "/home/erikapat/Dropbox/PRUEBAS_DATA_SCIENCE/MMM/NOTEBOOKS-DEEP LEARNING/DEEP_LERANING/PySpark_practice.ipynb\n",
      "/home/erikapat/Dropbox/PRUEBAS_DATA_SCIENCE/MMM/NOTEBOOKS-DEEP LEARNING/DEEP_LERANING/Spark practice 2.ipynb\n",
      "/home/erikapat/Dropbox/PRUEBAS_DATA_SCIENCE/MMM/NOTEBOOKS-DEEP LEARNING/DEEP_LERANING/Churn-Erika.ipynb\n",
      "/home/erikapat/Dropbox/PRUEBAS_DATA_SCIENCE/MMM/NOTEBOOKS-DEEP LEARNING/DEEP_LERANING/Spark-The-Definitive-Guide-master/data/retail-data/all/online-retail-dataset.csv\n",
      "/home/erikapat/Dropbox/PRUEBAS_DATA_SCIENCE/MMM/NOTEBOOKS-DEEP LEARNING/DEEP_LERANING/Spark-The-Definitive-Guide-master/data/retail-data/by-day/2011-10-31.csv\n",
      "/home/erikapat/Dropbox/PRUEBAS_DATA_SCIENCE/MMM/NOTEBOOKS-DEEP LEARNING/DEEP_LERANING/Spark-The-Definitive-Guide-master/data/retail-data/by-day/2011-09-15.csv\n",
      "/home/erikapat/Dropbox/PRUEBAS_DATA_SCIENCE/MMM/NOTEBOOKS-DEEP LEARNING/DEEP_LERANING/Spark-The-Definitive-Guide-master/data/retail-data/by-day/2011-12-02.csv\n",
      "/home/erikapat/Dropbox/PRUEBAS_DATA_SCIENCE/MMM/NOTEBOOKS-DEEP LEARNING/DEEP_LERANING/Spark-The-Definitive-Guide-master/data/retail-data/by-day/2011-11-08.csv\n",
      "/home/erikapat/Dropbox/PRUEBAS_DATA_SCIENCE/MMM/NOTEBOOKS-DEEP LEARNING/DEEP_LERANING/Spark-The-Definitive-Guide-master/project-templates/scala/src/test/resources/log4j.properties\n",
      "/home/erikapat/Dropbox/PRUEBAS_DATA_SCIENCE/MMM/NOTEBOOKS-DEEP LEARNING/DEEP_LERANING/Spark-The-Definitive-Guide-master/project-templates/scala/src/main/resources/log4j.properties\n",
      "/home/erikapat/Dropbox/PRUEBAS_DATA_SCIENCE/MMM/NOTEBOOKS-DEEP LEARNING/DEEP_LERANING/.ipynb_checkpoints/Spark practice 2-checkpoint.ipynb\n",
      "/home/erikapat/Dropbox/PRUEBAS_DATA_SCIENCE/MMM/NOTEBOOKS-DEEP LEARNING/DEEP_LERANING/.ipynb_checkpoints/Churn-Erika-checkpoint.ipynb\n",
      "/home/erikapat/Dropbox/PRUEBAS_DATA_SCIENCE/CHURN_SCHIBSTED_C (EIMINATE/CHURN_SCHIBSTED.ipynb\n",
      "/home/erikapat/Dropbox/PRUEBAS_DATA_SCIENCE/CHURN_SCHIBSTED_C (EIMINATE/.ipynb_checkpoints/CHURN_SCHIBSTED-checkpoint.ipynb\n",
      "/home/erikapat/Dropbox/PRUEBAS_DATA_SCIENCE/CHURN_SCHIBSTED/CHURN_SCHIBSTED.ipynb\n",
      "/home/erikapat/Dropbox/PRUEBAS_DATA_SCIENCE/CHURN_SCHIBSTED/.ipynb_checkpoints/CHURN_SCHIBSTED-checkpoint.ipynb\n"
     ]
    }
   ],
   "source": [
    "keyword = input(\"Search For?: \")  # ask the user for keyword, use raw_input() on Python 2.x\n",
    "\n",
    "root_dir = path  # path to the root directory to search\n",
    "for root, dirs, files in os.walk(root_dir, onerror=None):  # walk the root dir\n",
    "    for filename in files:  # iterate over the files in the current dir\n",
    "        file_path = os.path.join(root, filename)  # build the file path\n",
    "        try:\n",
    "            with open(file_path, \"rb\") as f:  # open the file for reading\n",
    "                # read the file line by line\n",
    "                for line in f:  # use: for i, line in enumerate(f) if you need line numbers\n",
    "                    try:\n",
    "                        line = line.decode(\"utf-8\")  # try to decode the contents to utf-8\n",
    "                    except ValueError:  # decoding failed, skip the line\n",
    "                        continue\n",
    "                    if keyword in line:  # if the keyword exists on the current line...\n",
    "                        print(file_path)  # print the file path\n",
    "                        break  # no need to iterate over the rest of the file\n",
    "        except (IOError, OSError):  # ignore read and permission errors\n",
    "            pass"
   ]
  },
  {
   "cell_type": "code",
   "execution_count": null,
   "metadata": {},
   "outputs": [],
   "source": []
  }
 ],
 "metadata": {
  "kernelspec": {
   "display_name": "Python 3",
   "language": "python",
   "name": "python3"
  },
  "language_info": {
   "codemirror_mode": {
    "name": "ipython",
    "version": 3
   },
   "file_extension": ".py",
   "mimetype": "text/x-python",
   "name": "python",
   "nbconvert_exporter": "python",
   "pygments_lexer": "ipython3",
   "version": "3.7.4"
  }
 },
 "nbformat": 4,
 "nbformat_minor": 4
}
