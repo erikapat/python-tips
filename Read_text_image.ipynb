{
 "cells": [
  {
   "cell_type": "code",
   "execution_count": null,
   "metadata": {},
   "outputs": [],
   "source": []
  },
  {
   "cell_type": "markdown",
   "metadata": {},
   "source": [
    "## **Read text from an image**\n",
    "\n",
    "Use **pytesseract** module to read text from images. "
   ]
  },
  {
   "cell_type": "code",
   "execution_count": 1,
   "metadata": {},
   "outputs": [],
   "source": [
    "## install packages\n",
    "\n",
    "#opencv for data treatment \n",
    "#pip install opencv-python\n",
    "\n",
    "#optical recognition engine (python)\n",
    "#sudo apt-get update\n",
    "#sudo apt-get install tesseract-ocr\n",
    "#sudo apt-get install libtesseract-dev\n",
    "\n",
    "#optical recognition engine (windows)\n",
    "#https://github.com/UB-Mannheim/tesseract/wiki\n",
    "\n",
    "#pip install pytesseract"
   ]
  },
  {
   "cell_type": "code",
   "execution_count": 2,
   "metadata": {},
   "outputs": [],
   "source": [
    "import cv2\n",
    "import pytesseract"
   ]
  },
  {
   "cell_type": "markdown",
   "metadata": {},
   "source": [
    "## **EXAMPLE**\n",
    "\n",
    "An image that present a combination of text and pictures. The result is pretty good."
   ]
  },
  {
   "cell_type": "code",
   "execution_count": 3,
   "metadata": {},
   "outputs": [],
   "source": [
    "img = cv2.imread('fig/google.png')"
   ]
  },
  {
   "cell_type": "markdown",
   "metadata": {},
   "source": [
    "![alt text](fig/google.png \"Title\")"
   ]
  },
  {
   "cell_type": "code",
   "execution_count": 4,
   "metadata": {},
   "outputs": [
    {
     "name": "stdout",
     "output_type": "stream",
     "text": [
      "Google\n",
      "\n",
      "deep learning £a\n",
      "\n",
      "Qall Bimages News GB videos fH] Books More Settings Tools,\n",
      "\n",
      " \n",
      "\n",
      "About 596,000,000 results (0.71 seconds)\n",
      "\n",
      "PyTorch Deep Learning Platform | For Research and Production\n",
      "www.pytorch.org/ +\n",
      "\n",
      "Accelerate Al development with a seamless path from prototyping to deployment. Start training\n",
      "and deploying state-of-the-art machine learning models. Open source. Tools & Libraries. Hybrid\n",
      "Front-End, Python and C++ support. Distributed Training. Cloud platforms.\n",
      "\n",
      "Iniciarse en Deep Learning | Deep Learning con MATLAB\n",
      "es.mathworks.com/deep_learning »\n",
      "\n",
      "Descarga el eBook e Iniciate en Deep Learning con 11 lineas de cédigo. Ejemplos de Deep\n",
      "Learning. Modelos Preentrenados. Entrenar Redes Neuronales. Opciones: Smartphones,\n",
      "Tablets, Televisores, Altavoces Manos Libres.\n",
      "\n",
      "Introduction to Deep Learning - doulos.com\n",
      "\n",
      "www.doulos.com/ +\n",
      "\n",
      "Deep learning training for engineers & programmers using Python, TensorFlow, and Keras.\n",
      "Workshops comprise 50% of the training. Enroll Today! Customizable Training. Project-ready\n",
      "Training. Locations Worldwide. Small Groups. A Certificate of Training.\n",
      "\n",
      "Deep learning is a subset of machine learning in\n",
      "artificial intelligence (All) that has networks capable of\n",
      "learning unsupervised from data that is unstructured\n",
      "or unlabeled. Also known as deep neural learning or\n",
      "deep neural network. Apr 30, 2019\n",
      "\n",
      "Deep Learning Definition - Investopedia\n",
      "https://www.investopedia.com > terms > deep-learning\n",
      "\n",
      "@ About Featured Snippets fl Feedback\n",
      "\n",
      " \n",
      "\n",
      "  \n",
      "\n",
      "Sm aa ae\n",
      "\n",
      "   \n",
      "\n",
      "Deep learning <\n",
      "\n",
      "Deep learning is part of a broader family of machine learning\n",
      "methods based on artificial neural networks. Learning can be\n",
      "supervised, semi-supervised or unsupervised. Wikipedia\n",
      "\n",
      "   \n",
      "\n",
      "   \n",
      "\n",
      "Deep learning book View 40+ more\n",
      ":\n",
      "EA been\n",
      "Deep Hands-On Deep _—Python Grokking\n",
      "Learning — Machine Learning: A Machine Deep\n",
      "Learning... Practiti... Learning —_ Learning\n",
      "People also search for View 10+ more\n",
      "><)\n",
      "Artificial Algorithm Natural Machine Internet of\n",
      "intelligence language teaming things,\n",
      "processing\n",
      "\n",
      "Feedback\n"
     ]
    }
   ],
   "source": [
    "text = pytesseract.image_to_string(img)\n",
    "print(text)"
   ]
  },
  {
   "cell_type": "code",
   "execution_count": null,
   "metadata": {},
   "outputs": [],
   "source": []
  }
 ],
 "metadata": {
  "kernelspec": {
   "display_name": "Python 3",
   "language": "python",
   "name": "python3"
  },
  "language_info": {
   "codemirror_mode": {
    "name": "ipython",
    "version": 3
   },
   "file_extension": ".py",
   "mimetype": "text/x-python",
   "name": "python",
   "nbconvert_exporter": "python",
   "pygments_lexer": "ipython3",
   "version": "3.7.4"
  }
 },
 "nbformat": 4,
 "nbformat_minor": 4
}
