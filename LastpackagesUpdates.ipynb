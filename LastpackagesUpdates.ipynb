{
 "cells": [
  {
   "cell_type": "code",
   "execution_count": null,
   "metadata": {},
   "outputs": [],
   "source": []
  },
  {
   "cell_type": "markdown",
   "metadata": {},
   "source": [
    "## LAST UPDATES AND IMPROVEMENTS\n",
    "\n",
    "\n",
    "* scikit-learn 0.22: [&lt;here&gt;](https://scikit-learn.org/stable/auto_examples/release_highlights/plot_release_highlights_0_22_0.html).\n",
    "\n",
    "    - feature importance for *any* model\n",
    "    - gradient boosting models support *missing values*\n",
    "    - KNN-based imputation\n",
    "    - built-in model stacking\n",
    "    - decision tree pruning\n",
    "    - new plotting API (for ROC curves, confusion matrix, etc)"
   ]
  },
  {
   "cell_type": "code",
   "execution_count": null,
   "metadata": {},
   "outputs": [],
   "source": []
  }
 ],
 "metadata": {
  "kernelspec": {
   "display_name": "Python 3",
   "language": "python",
   "name": "python3"
  },
  "language_info": {
   "codemirror_mode": {
    "name": "ipython",
    "version": 3
   },
   "file_extension": ".py",
   "mimetype": "text/x-python",
   "name": "python",
   "nbconvert_exporter": "python",
   "pygments_lexer": "ipython3",
   "version": "3.7.4"
  }
 },
 "nbformat": 4,
 "nbformat_minor": 4
}
