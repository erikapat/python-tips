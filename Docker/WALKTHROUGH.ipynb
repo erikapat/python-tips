{
 "cells": [
  {
   "cell_type": "markdown",
   "metadata": {},
   "source": [
    "## **DOCKER**\n",
    "\n",
    "Tutorial from: https://medium.com/applied-data-science/the-full-stack-data-scientist-part-2-a-practical-introduction-to-docker-1ea932c89b57"
   ]
  },
  {
   "cell_type": "markdown",
   "metadata": {},
   "source": [
    "## **WALKTHROUGH**"
   ]
  },
  {
   "cell_type": "markdown",
   "metadata": {},
   "source": [
    "1. Install Docker. This is a straightforward download from the docs."
   ]
  },
  {
   "cell_type": "code",
   "execution_count": 3,
   "metadata": {},
   "outputs": [
    {
     "data": {
      "text/plain": [
       "'\\n#Update Software Repositories\\nsudo apt-get update\\n#Uninstall Old Versions of Docker\\nsudo apt-get remove docker docker-engine docker.io\\n#Install Docker\\nsudo apt install docker.io\\n#Start and Automate Docker\\nsudo systemctl start docker\\nsudo systemctl enable docker\\n#Check Docker Version\\ndocker --version\\n'"
      ]
     },
     "execution_count": 3,
     "metadata": {},
     "output_type": "execute_result"
    }
   ],
   "source": [
    "'''\n",
    "#Update Software Repositories\n",
    "sudo apt-get update\n",
    "#Uninstall Old Versions of Docker\n",
    "sudo apt-get remove docker docker-engine docker.io\n",
    "#Install Docker\n",
    "sudo apt install docker.io\n",
    "#Start and Automate Docker\n",
    "sudo systemctl start docker\n",
    "sudo systemctl enable docker\n",
    "#Check Docker Version\n",
    "docker --version\n",
    "'''"
   ]
  },
  {
   "cell_type": "markdown",
   "metadata": {},
   "source": [
    "2. Follow the hello-world tutorial to double check the installation works properly.\n",
    "https://hub.docker.com/_/hello-world\n",
    "\n",
    "`docker run hello-world`"
   ]
  },
  {
   "cell_type": "markdown",
   "metadata": {},
   "source": [
    "**If you got the message:**\n",
    "\n",
    "`docker run hello-world`\n",
    "\n",
    "docker: Got permission denied while trying to connect to the Docker daemon socket at unix:///var/run/docker.sock: Post http://%2Fvar%2Frun%2Fdocker.sock/v1.39/containers/create: dial unix /var/run/docker.sock: connect: permission denied.\n",
    "\n",
    "See 'docker run --help'.\n",
    "\n",
    "**Then ...**\n",
    "If you receive a permission denied error after running the above command  on Linux, then prefix your docker commands with **sudo**. Alternatively, you can create a docker group to get rid of this issue."
   ]
  },
  {
   "cell_type": "markdown",
   "metadata": {},
   "source": [
    "`sudo docker images`"
   ]
  },
  {
   "cell_type": "markdown",
   "metadata": {},
   "source": [
    "3. Create a **Docker Hub** account and follow the instructions"
   ]
  },
  {
   "cell_type": "markdown",
   "metadata": {},
   "source": [
    "## **Docker first steps**"
   ]
  },
  {
   "cell_type": "markdown",
   "metadata": {},
   "source": [
    "### **Example**\n",
    "`git clone https://github.com/docker/doodle.git`"
   ]
  },
  {
   "cell_type": "markdown",
   "metadata": {},
   "source": [
    "`cd doodle/cheers2019` \n",
    "\n",
    "`sudo docker build -t erikapat/cheers2019 .`\n",
    "\n",
    "`sudo docker run -it --rm erikapat/cheers2019`"
   ]
  },
  {
   "cell_type": "markdown",
   "metadata": {},
   "source": [
    "## **Docker run**\n",
    "Docker run command will most likely be the command you'll use most often. Use docker `run --help` to see a list of all flags it supports. "
   ]
  },
  {
   "cell_type": "markdown",
   "metadata": {},
   "source": [
    "## **Deleting containers**\n",
    "\n",
    "Throughout this tutorial, you'll run docker run multiple times and leaving stray containers will eat up disk space. Hence, as a rule of thumb, I clean up containers once I'm done with them. To do that, you can run the docker `rm` command.\n",
    "\n",
    "See the available dockers\n",
    "\n",
    "`sudo docker ps -a`\n",
    "\n",
    "Erase them\n",
    "\n",
    "`sudo docker rm 305297d7a235 ff0a5c3750b9`"
   ]
  },
  {
   "cell_type": "markdown",
   "metadata": {},
   "source": [
    "## **Terminology**\n",
    "\n",
    "In the last section, we used a lot of Docker-specific jargon which might be confusing to some. So before we go further, let me clarify some terminology that is used frequently in the Docker ecosystem.\n",
    "\n",
    "* **Images** - The blueprints of our application which form the basis of containers. \n",
    "* **Containers** - Created from Docker images and run the actual application. We create a container using docker run which we did using the busybox image that we downloaded. A list of running containers can be seen using the docker ps command.\n",
    "* **Docker Daemon** - The background service running on the host that manages building, running and distributing Docker containers. The daemon is the process that runs in the operating system to which clients talk to.\n",
    "* **Docker Client** - The command line tool that allows the user to interact with the daemon. More generally, there can be other forms of clients too - such as Kitematic which provide a GUI to the users.\n",
    "* **Docker Hub** - A registry of Docker images. You can think of the registry as a directory of all available Docker images. If required, one can host their own Docker registries and can use them for pulling images."
   ]
  },
  {
   "cell_type": "markdown",
   "metadata": {},
   "source": [
    "# **Docker Images**"
   ]
  },
  {
   "cell_type": "markdown",
   "metadata": {},
   "source": [
    "We've looked at images before, but in this section we'll dive deeper into what Docker images are and build our own image! Lastly, we'll also use that image to run our application locally and finally deploy on AWS.\n",
    "\n",
    "The command below gives a list of images that I've pulled from the registry, along with ones that I've created myself (we'll shortly see how). The TAG refers to a particular snapshot of the image and the IMAGE ID is the corresponding unique identifier for that image."
   ]
  },
  {
   "cell_type": "markdown",
   "metadata": {},
   "source": [
    "`sudo docker images`\n"
   ]
  },
  {
   "cell_type": "markdown",
   "metadata": {},
   "source": [
    "For simplicity, you can think of an image akin to a **git repository** - images can be committed with changes and have multiple versions. If you don't provide a specific version number, the client defaults to latest. \n",
    "\n",
    "For example, you can pull a specific version of ubuntu image"
   ]
  },
  {
   "cell_type": "markdown",
   "metadata": {},
   "source": [
    "`sudo docker pull ubuntu:18.04`"
   ]
  },
  {
   "cell_type": "markdown",
   "metadata": {},
   "source": [
    "## **DETAILS**\n",
    "\n",
    "To get a new Docker image you can either get it from a registry (such as the Docker Hub) or create your own. There are tens of thousands of images available on Docker Hub. You can also search for images directly from the command line using docker search.\n",
    "\n",
    "An important distinction to be aware of when it comes to images is the difference between base and child images.\n",
    "\n",
    "* Base images are images that have no parent image, usually images with an OS like ubuntu, busybox or debian.\n",
    "\n",
    "* Child images are images that build on base images and add additional functionality.\n",
    "\n",
    "Then there are official and user images, which can be both base and child images.\n",
    "\n",
    "* Official images are images that are officially maintained and supported by the folks at Docker. These are typically one word long. In the list of images above, the python, ubuntu, busybox and hello-world images are official images.\n",
    "\n",
    "* User images are images created and shared by users like you and me. They build on base images and add additional functionality. Typically, these are formatted as user/image-name."
   ]
  },
  {
   "cell_type": "markdown",
   "metadata": {},
   "source": [
    "## **Our First Image**\n",
    "\n",
    "Create:\n",
    "* Dockerfile\n",
    "* Requirements.txt\n",
    "\n",
    "FOllowing the instructions here: https://docker-curriculum.com/"
   ]
  },
  {
   "cell_type": "code",
   "execution_count": null,
   "metadata": {},
   "outputs": [],
   "source": [
    "sudo docker build -t erikapat/catnip ."
   ]
  }
 ],
 "metadata": {
  "kernelspec": {
   "display_name": "Python 3",
   "language": "python",
   "name": "python3"
  },
  "language_info": {
   "codemirror_mode": {
    "name": "ipython",
    "version": 3
   },
   "file_extension": ".py",
   "mimetype": "text/x-python",
   "name": "python",
   "nbconvert_exporter": "python",
   "pygments_lexer": "ipython3",
   "version": "3.7.4"
  }
 },
 "nbformat": 4,
 "nbformat_minor": 4
}
